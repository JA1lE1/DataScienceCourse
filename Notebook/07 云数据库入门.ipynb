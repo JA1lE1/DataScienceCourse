{
  "cells": [
    {
      "metadata": {
        "collapsed": true
      },
      "cell_type": "markdown",
      "source": "# 简介"
    },
    {
      "metadata": {},
      "cell_type": "markdown",
      "source": "- 此部分我们将使用Mysql云数据库和MongDB云数据库进行数据学习\n- 云端产品将使用腾讯云和MongoDB官方提供的Google cloud platform 的产品"
    },
    {
      "metadata": {},
      "cell_type": "markdown",
      "source": "## 前置知识需求"
    },
    {
      "metadata": {},
      "cell_type": "markdown",
      "source": "- 学习本章之前，你应该拥有一些基本的数据库知识\n- 如果没有请自学相关知识\n- 推荐书籍：sql必知必会"
    },
    {
      "metadata": {},
      "cell_type": "markdown",
      "source": "## 小目标"
    },
    {
      "metadata": {},
      "cell_type": "markdown",
      "source": "- 使用python与关系型数据库和非关系型数据库进行交互"
    },
    {
      "metadata": {},
      "cell_type": "markdown",
      "source": "# 云计算"
    },
    {
      "metadata": {},
      "cell_type": "markdown",
      "source": "- IaaS\n- PaaS\n- SaaS"
    },
    {
      "metadata": {},
      "cell_type": "markdown",
      "source": "## Iaas"
    },
    {
      "metadata": {},
      "cell_type": "markdown",
      "source": "- IaaS(Infrastructure-as-a-Service),基础设施即服务，它是云服务环境的最底层,例如AMZON EC2, MS Azure, Google cloud Engine，国内例如 阿里云服务器等"
    },
    {
      "metadata": {},
      "cell_type": "markdown",
      "source": "## PaaS"
    },
    {
      "metadata": {},
      "cell_type": "markdown",
      "source": "- PaaS(Platform-as-a-Service),例如阿里云服务平台"
    },
    {
      "metadata": {},
      "cell_type": "markdown",
      "source": "## SaaS"
    },
    {
      "metadata": {
        "ExecuteTime": {
          "start_time": "2019-10-13T11:49:59.812647Z",
          "end_time": "2019-10-13T11:50:00.548211Z"
        }
      },
      "cell_type": "markdown",
      "source": "- SaaS(Software-as-a-Service),平台即服务,云数据库就是其典型的例子，我们将在nosql-Mongodb的部分详细展"
    },
    {
      "metadata": {},
      "cell_type": "markdown",
      "source": "# 云数据库"
    },
    {
      "metadata": {},
      "cell_type": "markdown",
      "source": "- 云数据库可以让使用这专注于数据使用本身，而无需在意IT运维工作\n- 节省数据库维护成本，例如提供备份回档、监控、快速扩容、数据传输等数据库运维"
    },
    {
      "metadata": {},
      "cell_type": "markdown",
      "source": "## 学习数据库本身\n"
    },
    {
      "metadata": {},
      "cell_type": "markdown",
      "source": "- 传统的数据库学习往往会经历最初环境配置和客户端链接等一系列问题\n- 往往win环境不适于数据库运行，而linux常常不是大家常用的环境\n- 云数据库节省了环境配置的繁琐"
    },
    {
      "metadata": {},
      "cell_type": "markdown",
      "source": "# Mongo DB Atlas\n"
    },
    {
      "metadata": {},
      "cell_type": "markdown",
      "source": "- mongo DB 官方推出的 SaaS \n- 提供 AWS Microsoft Azure Google Cloud Platform 等三种IaaS底层架构"
    },
    {
      "metadata": {},
      "cell_type": "markdown",
      "source": "## 使用顺序\n"
    },
    {
      "metadata": {},
      "cell_type": "markdown",
      "source": "- [注册地址](https://www.mongodb.com/cloud)\n- Create a Starter Cluster\n    - Build your first cluster\n    - 在左边栏中的Database Access 中 设置 数据库管理员用户权限及密码\n        - Create your first database user\n    - 左边栏中的Network Access设置Whitelist your IP address\n        - 使用0.0.0.0/0 使数据库监听全网\n    - Load Sample Data(Optional)\n        - 这一部只是测试导入数据，可以不用做\n    - Connect to your cluster\n        - 注意这里我们是使用python与数据库进行交互，因此我们选用Connect Your Application\n            - 选择python 3.6的Full Driver Example"
    },
    {
      "metadata": {},
      "cell_type": "markdown",
      "source": "##  python 与Mongo 云"
    },
    {
      "metadata": {
        "ExecuteTime": {
          "start_time": "2019-10-13T12:09:43.442734Z",
          "end_time": "2019-10-13T12:10:00.46502Z"
        },
        "trusted": true
      },
      "cell_type": "code",
      "source": "!pip install dnspython",
      "execution_count": 11,
      "outputs": [
        {
          "output_type": "stream",
          "text": "Requirement already satisfied: dnspython in /home/nbuser/anaconda3_501/lib/python3.6/site-packages (1.16.0)\n\u001b[33mWARNING: You are using pip version 19.2.2, however version 19.2.3 is available.\nYou should consider upgrading via the 'pip install --upgrade pip' command.\u001b[0m\n",
          "name": "stdout"
        }
      ]
    },
    {
      "metadata": {
        "ExecuteTime": {
          "start_time": "2019-10-13T12:19:54.141659Z",
          "end_time": "2019-10-13T12:19:59.405767Z"
        }
      },
      "cell_type": "markdown",
      "source": "- **注意** : 这个地方需要restart the kernel 否则可能会报错"
    },
    {
      "metadata": {
        "ExecuteTime": {
          "start_time": "2019-10-13T12:16:11.187962Z",
          "end_time": "2019-10-13T12:16:11.521736Z"
        },
        "trusted": true
      },
      "cell_type": "code",
      "source": "import pymongo",
      "execution_count": 1,
      "outputs": []
    },
    {
      "metadata": {},
      "cell_type": "markdown",
      "source": "### 连接云数据库"
    },
    {
      "metadata": {},
      "cell_type": "markdown",
      "source": "- 注意将password换成 xxxx(把<>删掉)  xxxx 为云数据库对应用户名设置的密码"
    },
    {
      "metadata": {
        "ExecuteTime": {
          "start_time": "2019-10-13T12:24:09.802479Z",
          "end_time": "2019-10-13T12:24:10.044893Z"
        },
        "trusted": true
      },
      "cell_type": "code",
      "source": "client = pymongo.MongoClient(\"mongodb+srv://ja1le1:<password>@cluster0-eicvz.gcp.mongodb.net/test?retryWrites=true&w=majority\")\ndb = client.test",
      "execution_count": 9,
      "outputs": []
    },
    {
      "metadata": {},
      "cell_type": "markdown",
      "source": "### 检测当前数据库情况"
    },
    {
      "metadata": {
        "ExecuteTime": {
          "start_time": "2019-10-13T12:24:11.849786Z",
          "end_time": "2019-10-13T12:24:12.260575Z"
        },
        "trusted": true
      },
      "cell_type": "code",
      "source": "print(client.list_database_names())",
      "execution_count": 10,
      "outputs": [
        {
          "output_type": "stream",
          "text": "['admin', 'local']\n",
          "name": "stdout"
        }
      ]
    },
    {
      "metadata": {},
      "cell_type": "markdown",
      "source": "###  新建数据库"
    },
    {
      "metadata": {},
      "cell_type": "markdown",
      "source": "- 在collection中新建test"
    },
    {
      "metadata": {
        "ExecuteTime": {
          "start_time": "2019-10-13T12:29:25.81026Z",
          "end_time": "2019-10-13T12:29:25.96818Z"
        },
        "trusted": true
      },
      "cell_type": "code",
      "source": "## 检查当前数据库下的Collection\ndb = client.test\nprint(db.list_collection_names())",
      "execution_count": 11,
      "outputs": [
        {
          "output_type": "stream",
          "text": "['ja1le1']\n",
          "name": "stdout"
        }
      ]
    },
    {
      "metadata": {},
      "cell_type": "markdown",
      "source": "### 插入数据"
    },
    {
      "metadata": {
        "ExecuteTime": {
          "start_time": "2019-10-13T12:01:24.565409Z",
          "end_time": "2019-10-13T12:01:24.584368Z"
        }
      },
      "cell_type": "markdown",
      "source": "#### 插入单一条数据"
    },
    {
      "metadata": {
        "ExecuteTime": {
          "start_time": "2019-10-13T12:30:00.946722Z",
          "end_time": "2019-10-13T12:30:00.959732Z"
        },
        "trusted": true
      },
      "cell_type": "code",
      "source": "# 新建数据库\ndb = client.library\n# 在当前数据库下新建表\nbooks = db.books",
      "execution_count": 12,
      "outputs": []
    },
    {
      "metadata": {
        "ExecuteTime": {
          "start_time": "2019-10-13T12:30:01.770595Z",
          "end_time": "2019-10-13T12:30:01.895226Z"
        },
        "trusted": true
      },
      "cell_type": "code",
      "source": "book1 = {\"name\":\"SQL必知必会\",\"author\":\"Ben Forta\"}\nbooks.insert_one(book1)",
      "execution_count": 13,
      "outputs": [
        {
          "output_type": "execute_result",
          "execution_count": 13,
          "data": {
            "text/plain": "<pymongo.results.InsertOneResult at 0x7fdc5189fe48>"
          },
          "metadata": {}
        }
      ]
    },
    {
      "metadata": {},
      "cell_type": "markdown",
      "source": "#### insert id"
    },
    {
      "metadata": {
        "ExecuteTime": {
          "start_time": "2019-10-13T12:30:50.466473Z",
          "end_time": "2019-10-13T12:30:50.529077Z"
        },
        "trusted": true
      },
      "cell_type": "code",
      "source": "book2 = {\"name\":\"雨季不再来\",\"author\":\"三毛\"}\ninsert_2 = books.insert_one(book2)\nprint(insert_2.inserted_id)",
      "execution_count": 14,
      "outputs": [
        {
          "output_type": "stream",
          "text": "5da318fadc545ca287701627\n",
          "name": "stdout"
        }
      ]
    },
    {
      "metadata": {},
      "cell_type": "markdown",
      "source": "### 插入多条数据"
    },
    {
      "metadata": {
        "ExecuteTime": {
          "start_time": "2019-10-13T12:31:23.698284Z",
          "end_time": "2019-10-13T12:31:23.784085Z"
        },
        "trusted": true
      },
      "cell_type": "code",
      "source": "book_items = [\n    {\"name\":\"哈利·波特与密室\",\"author\":\"J.K. Rowling\"},\n    {\"name\":\"小王子\",\"author\":\"Le Petit Prince\"},\n    {\"name\":\"鸟哥的Linux私房菜\",\"author\":\"鸟哥\"},\n    {\"name\":\"C++ Primer\",\"author\":\" [美] Stanley B. Lippman / [美] Josée Lajoie / [美] Barbara E. Moo\"},\n    {\"name\":\"数据结构\",\"author\":\"严蔚敏\"},\n    {\"name\":\"城南旧事\",\"author\":\"林海音\"},\n    {\"name\":\"新参者\",\"author\":\"东野圭吾\"},\n    {\"name\":\"Deep Learning\",\"author\":\"Ian Goodfellow / Yoshua Bengio / Aaron Courville\"}\n]\n\ninsert_3 = books.insert_many(book_items)\nprint(insert_3.inserted_ids)",
      "execution_count": 15,
      "outputs": [
        {
          "output_type": "stream",
          "text": "[ObjectId('5da3191bdc545ca287701628'), ObjectId('5da3191bdc545ca287701629'), ObjectId('5da3191bdc545ca28770162a'), ObjectId('5da3191bdc545ca28770162b'), ObjectId('5da3191bdc545ca28770162c'), ObjectId('5da3191bdc545ca28770162d'), ObjectId('5da3191bdc545ca28770162e'), ObjectId('5da3191bdc545ca28770162f')]\n",
          "name": "stdout"
        }
      ]
    },
    {
      "metadata": {
        "ExecuteTime": {
          "start_time": "2019-10-13T12:32:56.313517Z",
          "end_time": "2019-10-13T12:32:56.328707Z"
        },
        "trusted": true
      },
      "cell_type": "code",
      "source": "staff = db.staff",
      "execution_count": 17,
      "outputs": []
    },
    {
      "metadata": {
        "ExecuteTime": {
          "start_time": "2019-10-13T12:32:57.08027Z",
          "end_time": "2019-10-13T12:32:57.225967Z"
        },
        "trusted": true
      },
      "cell_type": "code",
      "source": "staff_info = [\n    {\"_id\":1,\"name\":\"Aatrox\",\"Department\":\"T\"},\n    {\"_id\":2,\"name\":\"Darius\",\"Department\":\"T\"},\n    {\"_id\":3,\"name\":\"Fiora\",\"Department\":\"T\"},\n    {\"_id\":4,\"name\":\"Fizz\",\"Department\":\"M\"},\n    {\"_id\":5,\"name\":\"Cassiopeia\",\"Department\":\"M\"},\n    {\"_id\":6,\"name\":\"Azir\",\"Department\":\"M\"},\n    {\"_id\":7,\"name\":\"Lucian\",\"Department\":\"A\"},\n    {\"_id\":8,\"name\":\"Twitch\",\"Department\":\"A\"}\n]\ninsert_4 = staff.insert_many(staff_info)\nprint(insert_4.inserted_ids)",
      "execution_count": 18,
      "outputs": [
        {
          "output_type": "stream",
          "text": "[1, 2, 3, 4, 5, 6, 7, 8]\n",
          "name": "stdout"
        }
      ]
    },
    {
      "metadata": {},
      "cell_type": "markdown",
      "source": "###  查找数据"
    },
    {
      "metadata": {
        "ExecuteTime": {
          "start_time": "2019-10-13T12:33:30.249884Z",
          "end_time": "2019-10-13T12:33:30.293929Z"
        },
        "trusted": true
      },
      "cell_type": "code",
      "source": "find_1 = books.find_one()",
      "execution_count": 19,
      "outputs": []
    },
    {
      "metadata": {
        "ExecuteTime": {
          "start_time": "2019-10-13T12:33:36.916203Z",
          "end_time": "2019-10-13T12:33:36.935896Z"
        },
        "trusted": true
      },
      "cell_type": "code",
      "source": "find_1",
      "execution_count": 20,
      "outputs": [
        {
          "output_type": "execute_result",
          "execution_count": 20,
          "data": {
            "text/plain": "{'_id': ObjectId('5da318c9dc545ca287701626'),\n 'name': 'SQL必知必会',\n 'author': 'Ben Forta'}"
          },
          "metadata": {}
        }
      ]
    },
    {
      "metadata": {},
      "cell_type": "markdown",
      "source": "### 全局查找"
    },
    {
      "metadata": {
        "ExecuteTime": {
          "start_time": "2019-10-13T12:34:40.035975Z",
          "end_time": "2019-10-13T12:34:40.110483Z"
        },
        "trusted": true
      },
      "cell_type": "code",
      "source": "for hero in staff.find():\n    print(hero)",
      "execution_count": 21,
      "outputs": [
        {
          "output_type": "stream",
          "text": "{'_id': 1, 'name': 'Aatrox', 'Department': 'T'}\n{'_id': 2, 'name': 'Darius', 'Department': 'T'}\n{'_id': 3, 'name': 'Fiora', 'Department': 'T'}\n{'_id': 4, 'name': 'Fizz', 'Department': 'M'}\n{'_id': 5, 'name': 'Cassiopeia', 'Department': 'M'}\n{'_id': 6, 'name': 'Azir', 'Department': 'M'}\n{'_id': 7, 'name': 'Lucian', 'Department': 'A'}\n{'_id': 8, 'name': 'Twitch', 'Department': 'A'}\n",
          "name": "stdout"
        }
      ]
    },
    {
      "metadata": {},
      "cell_type": "markdown",
      "source": "### 特定条件查找"
    },
    {
      "metadata": {
        "ExecuteTime": {
          "start_time": "2019-10-13T12:34:57.606292Z",
          "end_time": "2019-10-13T12:34:57.667199Z"
        },
        "trusted": true
      },
      "cell_type": "code",
      "source": "for hero in staff.find({},{\"name\":1}):\n    print(hero)",
      "execution_count": 22,
      "outputs": [
        {
          "output_type": "stream",
          "text": "{'_id': 1, 'name': 'Aatrox'}\n{'_id': 2, 'name': 'Darius'}\n{'_id': 3, 'name': 'Fiora'}\n{'_id': 4, 'name': 'Fizz'}\n{'_id': 5, 'name': 'Cassiopeia'}\n{'_id': 6, 'name': 'Azir'}\n{'_id': 7, 'name': 'Lucian'}\n{'_id': 8, 'name': 'Twitch'}\n",
          "name": "stdout"
        }
      ]
    },
    {
      "metadata": {},
      "cell_type": "markdown",
      "source": "- 注意！不能对实体同时设置1和0，除非其中一个是\"_id\"\n- run the cell below to check it out!"
    },
    {
      "metadata": {
        "ExecuteTime": {
          "start_time": "2019-10-13T12:36:53.229403Z",
          "end_time": "2019-10-13T12:36:53.352685Z"
        },
        "trusted": true
      },
      "cell_type": "code",
      "source": "for hero in staff.find({},{\"name\":1,\"Department\":0}):\n    print(hero)",
      "execution_count": 23,
      "outputs": [
        {
          "output_type": "error",
          "ename": "OperationFailure",
          "evalue": "Projection cannot have a mix of inclusion and exclusion.",
          "traceback": [
            "\u001b[0;31m---------------------------------------------------------------------------\u001b[0m",
            "\u001b[0;31mOperationFailure\u001b[0m                          Traceback (most recent call last)",
            "\u001b[0;32m<ipython-input-23-2b5a6ea9c505>\u001b[0m in \u001b[0;36m<module>\u001b[0;34m\u001b[0m\n\u001b[0;32m----> 1\u001b[0;31m \u001b[0;32mfor\u001b[0m \u001b[0mhero\u001b[0m \u001b[0;32min\u001b[0m \u001b[0mstaff\u001b[0m\u001b[0;34m.\u001b[0m\u001b[0mfind\u001b[0m\u001b[0;34m(\u001b[0m\u001b[0;34m{\u001b[0m\u001b[0;34m}\u001b[0m\u001b[0;34m,\u001b[0m\u001b[0;34m{\u001b[0m\u001b[0;34m\"name\"\u001b[0m\u001b[0;34m:\u001b[0m\u001b[0;36m1\u001b[0m\u001b[0;34m,\u001b[0m\u001b[0;34m\"Department\"\u001b[0m\u001b[0;34m:\u001b[0m\u001b[0;36m0\u001b[0m\u001b[0;34m}\u001b[0m\u001b[0;34m)\u001b[0m\u001b[0;34m:\u001b[0m\u001b[0;34m\u001b[0m\u001b[0m\n\u001b[0m\u001b[1;32m      2\u001b[0m     \u001b[0mprint\u001b[0m\u001b[0;34m(\u001b[0m\u001b[0mhero\u001b[0m\u001b[0;34m)\u001b[0m\u001b[0;34m\u001b[0m\u001b[0m\n",
            "\u001b[0;32m~/anaconda3_501/lib/python3.6/site-packages/pymongo/cursor.py\u001b[0m in \u001b[0;36mnext\u001b[0;34m(self)\u001b[0m\n\u001b[1;32m   1154\u001b[0m         \u001b[0;32mif\u001b[0m \u001b[0mself\u001b[0m\u001b[0;34m.\u001b[0m\u001b[0m__empty\u001b[0m\u001b[0;34m:\u001b[0m\u001b[0;34m\u001b[0m\u001b[0m\n\u001b[1;32m   1155\u001b[0m             \u001b[0;32mraise\u001b[0m \u001b[0mStopIteration\u001b[0m\u001b[0;34m\u001b[0m\u001b[0m\n\u001b[0;32m-> 1156\u001b[0;31m         \u001b[0;32mif\u001b[0m \u001b[0mlen\u001b[0m\u001b[0;34m(\u001b[0m\u001b[0mself\u001b[0m\u001b[0;34m.\u001b[0m\u001b[0m__data\u001b[0m\u001b[0;34m)\u001b[0m \u001b[0;32mor\u001b[0m \u001b[0mself\u001b[0m\u001b[0;34m.\u001b[0m\u001b[0m_refresh\u001b[0m\u001b[0;34m(\u001b[0m\u001b[0;34m)\u001b[0m\u001b[0;34m:\u001b[0m\u001b[0;34m\u001b[0m\u001b[0m\n\u001b[0m\u001b[1;32m   1157\u001b[0m             \u001b[0;32mif\u001b[0m \u001b[0mself\u001b[0m\u001b[0;34m.\u001b[0m\u001b[0m__manipulate\u001b[0m\u001b[0;34m:\u001b[0m\u001b[0;34m\u001b[0m\u001b[0m\n\u001b[1;32m   1158\u001b[0m                 \u001b[0m_db\u001b[0m \u001b[0;34m=\u001b[0m \u001b[0mself\u001b[0m\u001b[0;34m.\u001b[0m\u001b[0m__collection\u001b[0m\u001b[0;34m.\u001b[0m\u001b[0mdatabase\u001b[0m\u001b[0;34m\u001b[0m\u001b[0m\n",
            "\u001b[0;32m~/anaconda3_501/lib/python3.6/site-packages/pymongo/cursor.py\u001b[0m in \u001b[0;36m_refresh\u001b[0;34m(self)\u001b[0m\n\u001b[1;32m   1071\u001b[0m                                   \u001b[0mself\u001b[0m\u001b[0;34m.\u001b[0m\u001b[0m__session\u001b[0m\u001b[0;34m,\u001b[0m\u001b[0;34m\u001b[0m\u001b[0m\n\u001b[1;32m   1072\u001b[0m                                   self.__collection.database.client)\n\u001b[0;32m-> 1073\u001b[0;31m             \u001b[0mself\u001b[0m\u001b[0;34m.\u001b[0m\u001b[0m__send_message\u001b[0m\u001b[0;34m(\u001b[0m\u001b[0mq\u001b[0m\u001b[0;34m)\u001b[0m\u001b[0;34m\u001b[0m\u001b[0m\n\u001b[0m\u001b[1;32m   1074\u001b[0m         \u001b[0;32melif\u001b[0m \u001b[0mself\u001b[0m\u001b[0;34m.\u001b[0m\u001b[0m__id\u001b[0m\u001b[0;34m:\u001b[0m  \u001b[0;31m# Get More\u001b[0m\u001b[0;34m\u001b[0m\u001b[0m\n\u001b[1;32m   1075\u001b[0m             \u001b[0;32mif\u001b[0m \u001b[0mself\u001b[0m\u001b[0;34m.\u001b[0m\u001b[0m__limit\u001b[0m\u001b[0;34m:\u001b[0m\u001b[0;34m\u001b[0m\u001b[0m\n",
            "\u001b[0;32m~/anaconda3_501/lib/python3.6/site-packages/pymongo/cursor.py\u001b[0m in \u001b[0;36m__send_message\u001b[0;34m(self, operation)\u001b[0m\n\u001b[1;32m    953\u001b[0m             response = client._run_operation_with_response(\n\u001b[1;32m    954\u001b[0m                 \u001b[0moperation\u001b[0m\u001b[0;34m,\u001b[0m \u001b[0mself\u001b[0m\u001b[0;34m.\u001b[0m\u001b[0m_unpack_response\u001b[0m\u001b[0;34m,\u001b[0m \u001b[0mexhaust\u001b[0m\u001b[0;34m=\u001b[0m\u001b[0mself\u001b[0m\u001b[0;34m.\u001b[0m\u001b[0m__exhaust\u001b[0m\u001b[0;34m,\u001b[0m\u001b[0;34m\u001b[0m\u001b[0m\n\u001b[0;32m--> 955\u001b[0;31m                 address=self.__address)\n\u001b[0m\u001b[1;32m    956\u001b[0m         \u001b[0;32mexcept\u001b[0m \u001b[0mOperationFailure\u001b[0m\u001b[0;34m:\u001b[0m\u001b[0;34m\u001b[0m\u001b[0m\n\u001b[1;32m    957\u001b[0m             \u001b[0mself\u001b[0m\u001b[0;34m.\u001b[0m\u001b[0m__killed\u001b[0m \u001b[0;34m=\u001b[0m \u001b[0;32mTrue\u001b[0m\u001b[0;34m\u001b[0m\u001b[0m\n",
            "\u001b[0;32m~/anaconda3_501/lib/python3.6/site-packages/pymongo/mongo_client.py\u001b[0m in \u001b[0;36m_run_operation_with_response\u001b[0;34m(self, operation, unpack_res, exhaust, address)\u001b[0m\n\u001b[1;32m   1345\u001b[0m             \u001b[0maddress\u001b[0m\u001b[0;34m=\u001b[0m\u001b[0maddress\u001b[0m\u001b[0;34m,\u001b[0m\u001b[0;34m\u001b[0m\u001b[0m\n\u001b[1;32m   1346\u001b[0m             \u001b[0mretryable\u001b[0m\u001b[0;34m=\u001b[0m\u001b[0misinstance\u001b[0m\u001b[0;34m(\u001b[0m\u001b[0moperation\u001b[0m\u001b[0;34m,\u001b[0m \u001b[0mmessage\u001b[0m\u001b[0;34m.\u001b[0m\u001b[0m_Query\u001b[0m\u001b[0;34m)\u001b[0m\u001b[0;34m,\u001b[0m\u001b[0;34m\u001b[0m\u001b[0m\n\u001b[0;32m-> 1347\u001b[0;31m             exhaust=exhaust)\n\u001b[0m\u001b[1;32m   1348\u001b[0m \u001b[0;34m\u001b[0m\u001b[0m\n\u001b[1;32m   1349\u001b[0m     \u001b[0;32mdef\u001b[0m \u001b[0m_retry_with_session\u001b[0m\u001b[0;34m(\u001b[0m\u001b[0mself\u001b[0m\u001b[0;34m,\u001b[0m \u001b[0mretryable\u001b[0m\u001b[0;34m,\u001b[0m \u001b[0mfunc\u001b[0m\u001b[0;34m,\u001b[0m \u001b[0msession\u001b[0m\u001b[0;34m,\u001b[0m \u001b[0mbulk\u001b[0m\u001b[0;34m)\u001b[0m\u001b[0;34m:\u001b[0m\u001b[0;34m\u001b[0m\u001b[0m\n",
            "\u001b[0;32m~/anaconda3_501/lib/python3.6/site-packages/pymongo/mongo_client.py\u001b[0m in \u001b[0;36m_retryable_read\u001b[0;34m(self, func, read_pref, session, address, retryable, exhaust)\u001b[0m\n\u001b[1;32m   1463\u001b[0m                         \u001b[0;31m# not support retryable reads, raise the last error.\u001b[0m\u001b[0;34m\u001b[0m\u001b[0;34m\u001b[0m\u001b[0m\n\u001b[1;32m   1464\u001b[0m                         \u001b[0;32mraise\u001b[0m \u001b[0mlast_error\u001b[0m\u001b[0;34m\u001b[0m\u001b[0m\n\u001b[0;32m-> 1465\u001b[0;31m                     \u001b[0;32mreturn\u001b[0m \u001b[0mfunc\u001b[0m\u001b[0;34m(\u001b[0m\u001b[0msession\u001b[0m\u001b[0;34m,\u001b[0m \u001b[0mserver\u001b[0m\u001b[0;34m,\u001b[0m \u001b[0msock_info\u001b[0m\u001b[0;34m,\u001b[0m \u001b[0mslave_ok\u001b[0m\u001b[0;34m)\u001b[0m\u001b[0;34m\u001b[0m\u001b[0m\n\u001b[0m\u001b[1;32m   1466\u001b[0m             \u001b[0;32mexcept\u001b[0m \u001b[0mServerSelectionTimeoutError\u001b[0m\u001b[0;34m:\u001b[0m\u001b[0;34m\u001b[0m\u001b[0m\n\u001b[1;32m   1467\u001b[0m                 \u001b[0;32mif\u001b[0m \u001b[0mretrying\u001b[0m\u001b[0;34m:\u001b[0m\u001b[0;34m\u001b[0m\u001b[0m\n",
            "\u001b[0;32m~/anaconda3_501/lib/python3.6/site-packages/pymongo/mongo_client.py\u001b[0m in \u001b[0;36m_cmd\u001b[0;34m(session, server, sock_info, slave_ok)\u001b[0m\n\u001b[1;32m   1339\u001b[0m                 \u001b[0mself\u001b[0m\u001b[0;34m.\u001b[0m\u001b[0m_event_listeners\u001b[0m\u001b[0;34m,\u001b[0m\u001b[0;34m\u001b[0m\u001b[0m\n\u001b[1;32m   1340\u001b[0m                 \u001b[0mexhaust\u001b[0m\u001b[0;34m,\u001b[0m\u001b[0;34m\u001b[0m\u001b[0m\n\u001b[0;32m-> 1341\u001b[0;31m                 unpack_res)\n\u001b[0m\u001b[1;32m   1342\u001b[0m \u001b[0;34m\u001b[0m\u001b[0m\n\u001b[1;32m   1343\u001b[0m         return self._retryable_read(\n",
            "\u001b[0;32m~/anaconda3_501/lib/python3.6/site-packages/pymongo/server.py\u001b[0m in \u001b[0;36mrun_operation_with_response\u001b[0;34m(self, sock_info, operation, set_slave_okay, listeners, exhaust, unpack_res)\u001b[0m\n\u001b[1;32m    134\u001b[0m                 operation.client._process_response(\n\u001b[1;32m    135\u001b[0m                     first, operation.session)\n\u001b[0;32m--> 136\u001b[0;31m                 \u001b[0m_check_command_response\u001b[0m\u001b[0;34m(\u001b[0m\u001b[0mfirst\u001b[0m\u001b[0;34m)\u001b[0m\u001b[0;34m\u001b[0m\u001b[0m\n\u001b[0m\u001b[1;32m    137\u001b[0m         \u001b[0;32mexcept\u001b[0m \u001b[0mException\u001b[0m \u001b[0;32mas\u001b[0m \u001b[0mexc\u001b[0m\u001b[0;34m:\u001b[0m\u001b[0;34m\u001b[0m\u001b[0m\n\u001b[1;32m    138\u001b[0m             \u001b[0;32mif\u001b[0m \u001b[0mpublish\u001b[0m\u001b[0;34m:\u001b[0m\u001b[0;34m\u001b[0m\u001b[0m\n",
            "\u001b[0;32m~/anaconda3_501/lib/python3.6/site-packages/pymongo/helpers.py\u001b[0m in \u001b[0;36m_check_command_response\u001b[0;34m(response, msg, allowable_errors, parse_write_concern_error)\u001b[0m\n\u001b[1;32m    157\u001b[0m \u001b[0;34m\u001b[0m\u001b[0m\n\u001b[1;32m    158\u001b[0m             \u001b[0mmsg\u001b[0m \u001b[0;34m=\u001b[0m \u001b[0mmsg\u001b[0m \u001b[0;32mor\u001b[0m \u001b[0;34m\"%s\"\u001b[0m\u001b[0;34m\u001b[0m\u001b[0m\n\u001b[0;32m--> 159\u001b[0;31m             \u001b[0;32mraise\u001b[0m \u001b[0mOperationFailure\u001b[0m\u001b[0;34m(\u001b[0m\u001b[0mmsg\u001b[0m \u001b[0;34m%\u001b[0m \u001b[0merrmsg\u001b[0m\u001b[0;34m,\u001b[0m \u001b[0mcode\u001b[0m\u001b[0;34m,\u001b[0m \u001b[0mresponse\u001b[0m\u001b[0;34m)\u001b[0m\u001b[0;34m\u001b[0m\u001b[0m\n\u001b[0m\u001b[1;32m    160\u001b[0m \u001b[0;34m\u001b[0m\u001b[0m\n\u001b[1;32m    161\u001b[0m \u001b[0;34m\u001b[0m\u001b[0m\n",
            "\u001b[0;31mOperationFailure\u001b[0m: Projection cannot have a mix of inclusion and exclusion."
          ]
        }
      ]
    },
    {
      "metadata": {},
      "cell_type": "markdown",
      "source": "### Query"
    },
    {
      "metadata": {},
      "cell_type": "markdown",
      "source": "#### 过滤查询结果"
    },
    {
      "metadata": {
        "ExecuteTime": {
          "start_time": "2019-10-13T12:37:11.37193Z",
          "end_time": "2019-10-13T12:37:11.423557Z"
        },
        "trusted": true
      },
      "cell_type": "code",
      "source": "query_1 = {'Department':'T'}\nhero_c1 = staff.find(query_1)\nfor hero in hero_c1:\n    print(hero)",
      "execution_count": 24,
      "outputs": [
        {
          "output_type": "stream",
          "text": "{'_id': 1, 'name': 'Aatrox', 'Department': 'T'}\n{'_id': 2, 'name': 'Darius', 'Department': 'T'}\n{'_id': 3, 'name': 'Fiora', 'Department': 'T'}\n",
          "name": "stdout"
        }
      ]
    },
    {
      "metadata": {},
      "cell_type": "markdown",
      "source": "#### 高级查询"
    },
    {
      "metadata": {},
      "cell_type": "markdown",
      "source": "- 使用正则表达式进行查询"
    },
    {
      "metadata": {
        "ExecuteTime": {
          "start_time": "2019-10-13T12:39:40.487342Z",
          "end_time": "2019-10-13T12:39:40.534893Z"
        },
        "trusted": true
      },
      "cell_type": "code",
      "source": "query_2 = {\"name\":{\"$regex\": \"^A\"}}\nhero_c2 = staff.find(query_2)\nfor hero in hero_c2:\n    print(hero)",
      "execution_count": 25,
      "outputs": [
        {
          "output_type": "stream",
          "text": "{'_id': 1, 'name': 'Aatrox', 'Department': 'T'}\n{'_id': 6, 'name': 'Azir', 'Department': 'M'}\n",
          "name": "stdout"
        }
      ]
    },
    {
      "metadata": {},
      "cell_type": "markdown",
      "source": "### Sort"
    },
    {
      "metadata": {},
      "cell_type": "markdown",
      "source": "#### Ascending"
    },
    {
      "metadata": {},
      "cell_type": "markdown",
      "source": "- 默认是ascending的方式"
    },
    {
      "metadata": {
        "ExecuteTime": {
          "start_time": "2019-10-13T12:40:39.50279Z",
          "end_time": "2019-10-13T12:40:39.559343Z"
        },
        "trusted": true
      },
      "cell_type": "code",
      "source": "sort_1 = books.find().sort(\"name\")\n\nfor book in sort_1:\n    print(book)",
      "execution_count": 26,
      "outputs": [
        {
          "output_type": "stream",
          "text": "{'_id': ObjectId('5da3191bdc545ca28770162b'), 'name': 'C++ Primer', 'author': ' [美] Stanley B. Lippman / [美] Josée Lajoie / [美] Barbara E. Moo'}\n{'_id': ObjectId('5da3191bdc545ca28770162f'), 'name': 'Deep Learning', 'author': 'Ian Goodfellow / Yoshua Bengio / Aaron Courville'}\n{'_id': ObjectId('5da318c9dc545ca287701626'), 'name': 'SQL必知必会', 'author': 'Ben Forta'}\n{'_id': ObjectId('5da3191bdc545ca287701628'), 'name': '哈利·波特与密室', 'author': 'J.K. Rowling'}\n{'_id': ObjectId('5da3191bdc545ca28770162d'), 'name': '城南旧事', 'author': '林海音'}\n{'_id': ObjectId('5da3191bdc545ca287701629'), 'name': '小王子', 'author': 'Le Petit Prince'}\n{'_id': ObjectId('5da3191bdc545ca28770162c'), 'name': '数据结构', 'author': '严蔚敏'}\n{'_id': ObjectId('5da3191bdc545ca28770162e'), 'name': '新参者', 'author': '东野圭吾'}\n{'_id': ObjectId('5da318fadc545ca287701627'), 'name': '雨季不再来', 'author': '三毛'}\n{'_id': ObjectId('5da3191bdc545ca28770162a'), 'name': '鸟哥的Linux私房菜', 'author': '鸟哥'}\n",
          "name": "stdout"
        }
      ]
    },
    {
      "metadata": {},
      "cell_type": "markdown",
      "source": "#### Descending"
    },
    {
      "metadata": {
        "ExecuteTime": {
          "start_time": "2019-10-13T12:41:23.746173Z",
          "end_time": "2019-10-13T12:41:23.825538Z"
        },
        "trusted": true
      },
      "cell_type": "code",
      "source": "sort_1 = books.find().sort(\"name\",-1)\n\nfor book in sort_1:\n    print(book)",
      "execution_count": 27,
      "outputs": [
        {
          "output_type": "stream",
          "text": "{'_id': ObjectId('5da3191bdc545ca28770162a'), 'name': '鸟哥的Linux私房菜', 'author': '鸟哥'}\n{'_id': ObjectId('5da318fadc545ca287701627'), 'name': '雨季不再来', 'author': '三毛'}\n{'_id': ObjectId('5da3191bdc545ca28770162e'), 'name': '新参者', 'author': '东野圭吾'}\n{'_id': ObjectId('5da3191bdc545ca28770162c'), 'name': '数据结构', 'author': '严蔚敏'}\n{'_id': ObjectId('5da3191bdc545ca287701629'), 'name': '小王子', 'author': 'Le Petit Prince'}\n{'_id': ObjectId('5da3191bdc545ca28770162d'), 'name': '城南旧事', 'author': '林海音'}\n{'_id': ObjectId('5da3191bdc545ca287701628'), 'name': '哈利·波特与密室', 'author': 'J.K. Rowling'}\n{'_id': ObjectId('5da318c9dc545ca287701626'), 'name': 'SQL必知必会', 'author': 'Ben Forta'}\n{'_id': ObjectId('5da3191bdc545ca28770162f'), 'name': 'Deep Learning', 'author': 'Ian Goodfellow / Yoshua Bengio / Aaron Courville'}\n{'_id': ObjectId('5da3191bdc545ca28770162b'), 'name': 'C++ Primer', 'author': ' [美] Stanley B. Lippman / [美] Josée Lajoie / [美] Barbara E. Moo'}\n",
          "name": "stdout"
        }
      ]
    },
    {
      "metadata": {},
      "cell_type": "markdown",
      "source": "### 删除"
    },
    {
      "metadata": {},
      "cell_type": "markdown",
      "source": "#### 单个删除"
    },
    {
      "metadata": {
        "ExecuteTime": {
          "start_time": "2019-10-13T12:42:11.680321Z",
          "end_time": "2019-10-13T12:42:11.742526Z"
        },
        "trusted": true
      },
      "cell_type": "code",
      "source": "query_4 = {'_id': ObjectId('5d4a7a170666aed2475d3477')}\nbooks.delete_one(query_4)",
      "execution_count": 28,
      "outputs": [
        {
          "output_type": "error",
          "ename": "NameError",
          "evalue": "name 'ObjectId' is not defined",
          "traceback": [
            "\u001b[0;31m---------------------------------------------------------------------------\u001b[0m",
            "\u001b[0;31mNameError\u001b[0m                                 Traceback (most recent call last)",
            "\u001b[0;32m<ipython-input-28-7eae124a93aa>\u001b[0m in \u001b[0;36m<module>\u001b[0;34m\u001b[0m\n\u001b[0;32m----> 1\u001b[0;31m \u001b[0mquery_4\u001b[0m \u001b[0;34m=\u001b[0m \u001b[0;34m{\u001b[0m\u001b[0;34m'_id'\u001b[0m\u001b[0;34m:\u001b[0m \u001b[0mObjectId\u001b[0m\u001b[0;34m(\u001b[0m\u001b[0;34m'5d4a7a170666aed2475d3477'\u001b[0m\u001b[0;34m)\u001b[0m\u001b[0;34m}\u001b[0m\u001b[0;34m\u001b[0m\u001b[0m\n\u001b[0m\u001b[1;32m      2\u001b[0m \u001b[0mbooks\u001b[0m\u001b[0;34m.\u001b[0m\u001b[0mdelete_one\u001b[0m\u001b[0;34m(\u001b[0m\u001b[0mquery_4\u001b[0m\u001b[0;34m)\u001b[0m\u001b[0;34m\u001b[0m\u001b[0m\n",
            "\u001b[0;31mNameError\u001b[0m: name 'ObjectId' is not defined"
          ]
        }
      ]
    },
    {
      "metadata": {},
      "cell_type": "markdown",
      "source": "#### 删除多个"
    },
    {
      "metadata": {
        "trusted": true
      },
      "cell_type": "code",
      "source": "query_3 = {\"name\":{\"$regex\": \"^A\"}}\n\ndelete_1 = staff.delete_many(query_3)\n\nprint(delete_1.deleted_count, \"documents deleted.\")",
      "execution_count": null,
      "outputs": []
    },
    {
      "metadata": {},
      "cell_type": "markdown",
      "source": "## 删除Cluster"
    },
    {
      "metadata": {},
      "cell_type": "markdown",
      "source": "- 使用结束注意删除数据库集群"
    },
    {
      "metadata": {},
      "cell_type": "markdown",
      "source": "# 阿里云 Mysql云数据库"
    },
    {
      "metadata": {
        "trusted": true
      },
      "cell_type": "code",
      "source": "",
      "execution_count": null,
      "outputs": []
    },
    {
      "metadata": {
        "trusted": true
      },
      "cell_type": "code",
      "source": "",
      "execution_count": null,
      "outputs": []
    },
    {
      "metadata": {
        "trusted": true
      },
      "cell_type": "code",
      "source": "",
      "execution_count": null,
      "outputs": []
    },
    {
      "metadata": {
        "trusted": true
      },
      "cell_type": "code",
      "source": "",
      "execution_count": null,
      "outputs": []
    },
    {
      "metadata": {
        "trusted": true
      },
      "cell_type": "code",
      "source": "",
      "execution_count": null,
      "outputs": []
    },
    {
      "metadata": {
        "trusted": true
      },
      "cell_type": "code",
      "source": "",
      "execution_count": null,
      "outputs": []
    }
  ],
  "metadata": {
    "kernelspec": {
      "name": "python36",
      "display_name": "Python 3.6",
      "language": "python"
    },
    "language_info": {
      "mimetype": "text/x-python",
      "nbconvert_exporter": "python",
      "name": "python",
      "pygments_lexer": "ipython3",
      "version": "3.6.6",
      "file_extension": ".py",
      "codemirror_mode": {
        "version": 3,
        "name": "ipython"
      }
    },
    "hide_input": false,
    "toc": {
      "nav_menu": {},
      "number_sections": true,
      "sideBar": true,
      "skip_h1_title": false,
      "base_numbering": 1,
      "title_cell": "Table of Contents",
      "title_sidebar": "Contents",
      "toc_cell": false,
      "toc_position": {},
      "toc_section_display": true,
      "toc_window_display": true
    },
    "varInspector": {
      "window_display": false,
      "cols": {
        "lenName": 16,
        "lenType": 16,
        "lenVar": 40
      },
      "kernels_config": {
        "python": {
          "library": "var_list.py",
          "delete_cmd_prefix": "del ",
          "delete_cmd_postfix": "",
          "varRefreshCmd": "print(var_dic_list())"
        },
        "r": {
          "library": "var_list.r",
          "delete_cmd_prefix": "rm(",
          "delete_cmd_postfix": ") ",
          "varRefreshCmd": "cat(var_dic_list()) "
        }
      },
      "types_to_exclude": [
        "module",
        "function",
        "builtin_function_or_method",
        "instance",
        "_Feature"
      ]
    }
  },
  "nbformat": 4,
  "nbformat_minor": 2
}