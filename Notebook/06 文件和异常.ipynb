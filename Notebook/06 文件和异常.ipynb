{
  "cells": [
    {
      "metadata": {
        "collapsed": true
      },
      "cell_type": "markdown",
      "source": "# 简介"
    },
    {
      "metadata": {},
      "cell_type": "markdown",
      "source": "在Python中实现文件的读写操作其实非常简单，通过Python内置的open函数，我们可以指定文件名、操作模式、编码信息等来获得操作文件的对象，接下来就可以对文件进行读写操作了。这里所说的操作模式是指要打开什么样的文件（字符文件还是二进制文件）以及做什么样的操作（读、写还是追加），具体的如下表所示："
    },
    {
      "metadata": {},
      "cell_type": "markdown",
      "source": "| 操作模式 | 具体含义                         |\n| -------- | -------------------------------- |\n| `'r'`    | 读取 （默认）                    |\n| `'w'`    | 写入（会先截断之前的内容）       |\n| `'x'`    | 写入，如果文件已经存在会产生异常 |\n| `'a'`    | 追加，将内容写入到已有文件的末尾 |\n| `'b'`    | 二进制模式                       |\n| `'t'`    | 文本模式（默认）                 |\n| `'+'`    | 更新（既可以读又可以写）         |"
    },
    {
      "metadata": {},
      "cell_type": "markdown",
      "source": "下图展示了如果根据应用程序的需要来设置操作模式"
    },
    {
      "metadata": {},
      "cell_type": "markdown",
      "source": "![](images/fileopen.png)"
    },
    {
      "metadata": {},
      "cell_type": "markdown",
      "source": "- 而我们在对文件进行处理时，常常会遇到各种读写异常"
    },
    {
      "metadata": {},
      "cell_type": "markdown",
      "source": "## 小目标"
    },
    {
      "metadata": {},
      "cell_type": "markdown",
      "source": "- 读写文本文件，二进制文件，json文件\n- 使用常用错误判断语句处理读取文件过程"
    },
    {
      "metadata": {},
      "cell_type": "markdown",
      "source": "# 读取文本文件"
    },
    {
      "metadata": {},
      "cell_type": "markdown",
      "source": "读取文本文件时，需要在使用`open`函数时指定好带路径的文件名（可以使用相对路径或绝对路径）并将文件模式设置为`'r'`（如果不指定，默认值也是`'r'`），然后通过`encoding`参数指定编码（如果不指定，默认值是None，那么在读取文件时使用的是操作系统默认的编码），如果不能保证保存文件时使用的编码方式与encoding参数指定的编码方式是一致的，那么就可能因无法解码字符而导致读取失败。下面的例子演示了如何读取一个纯文本文件。"
    },
    {
      "metadata": {
        "ExecuteTime": {
          "start_time": "2019-09-14T13:07:28.493375Z",
          "end_time": "2019-09-14T13:07:28.676564Z"
        },
        "trusted": true
      },
      "cell_type": "code",
      "source": "!#coding='utf8'\ndef main():\n    f = open('厦大校歌.txt', 'r', encoding='utf-8')\n    print(f.read())\n    f.close()",
      "execution_count": 6,
      "outputs": []
    },
    {
      "metadata": {
        "ExecuteTime": {
          "start_time": "2019-09-14T13:08:37.988056Z",
          "end_time": "2019-09-14T13:08:38.040428Z"
        },
        "trusted": true
      },
      "cell_type": "code",
      "source": "if __name__ == '__main__':\n    main()",
      "execution_count": 10,
      "outputs": [
        {
          "output_type": "stream",
          "text": "作曲：赵元任\n\n自强！自强！学海何洋洋！谁欤操钥发其藏？\n\n鹭江深且长，致吾知于无央。\n\n吁嗟乎！南方之强！吁嗟乎！南方之强！\n\n自强！自强！人生何茫茫！谁欤普渡驾慈航？\n\n鹭江深且长，充吾爱于无疆。\n\n吁嗟乎！南方之强！吁嗟乎！南方之强！\n\n歌词释义：\n\n自强：根据厦门大学校训“自强不息，止于至善”阐发，出自《周易·乾》“天行健，君子以自强不息”。\n\n洋洋：海面宽广无际。这里喻指学问浩如烟海。\n\n操钥：拿着钥匙。这里喻指掌握科学的学习方法。\n\n必其藏：即发其藏。打开学问之府。\n\n鹭江：即厦鼓海峡。厦门岛和鼓浪屿之间的海峡。\n\n无央：无穷尽，不停止。\n\n吁嗟乎：感叹词。\n\n南方之强：出自《中庸》“宽柔以教，不报无道，南方之强也，君子居之。”后人称厦门大学为“南方之强”。\n\n普渡：佛教用语，指广施法力，超度众生。\n\n慈航：佛教用语，指以慈悲之心引渡众人。\n",
          "name": "stdout"
        }
      ]
    },
    {
      "metadata": {},
      "cell_type": "markdown",
      "source": "请注意上面的代码，如果`open`函数指定的文件并不存在或者无法打开，那么将引发异常状况导致程序崩溃。为了让代码有一定的健壮性和容错性，我们可以使用Python的异常机制对可能在运行时发生状况的代码进行适当的处理，如下所示。"
    },
    {
      "metadata": {
        "ExecuteTime": {
          "start_time": "2019-09-14T13:08:25.900771Z",
          "end_time": "2019-09-14T13:08:25.91524Z"
        },
        "trusted": true
      },
      "cell_type": "code",
      "source": "def main():\n    f = None\n    try:\n        f = open('厦大校歌.txt', 'r', encoding='utf-8')\n        print(f.read())\n    except FileNotFoundError:\n        print('无法打开指定的文件!')\n    except LookupError:\n        print('指定了未知的编码!')\n    except UnicodeDecodeError:\n        print('读取文件时解码错误!')\n    finally:\n        if f:\n            f.close()\n",
      "execution_count": 8,
      "outputs": []
    },
    {
      "metadata": {
        "ExecuteTime": {
          "start_time": "2019-09-14T13:09:33.476203Z",
          "end_time": "2019-09-14T13:09:33.551289Z"
        },
        "trusted": true
      },
      "cell_type": "code",
      "source": "if __name__ == '__main__':\n    main()",
      "execution_count": 12,
      "outputs": [
        {
          "output_type": "stream",
          "text": "作曲：赵元任\n\n自强！自强！学海何洋洋！谁欤操钥发其藏？\n\n鹭江深且长，致吾知于无央。\n\n吁嗟乎！南方之强！吁嗟乎！南方之强！\n\n自强！自强！人生何茫茫！谁欤普渡驾慈航？\n\n鹭江深且长，充吾爱于无疆。\n\n吁嗟乎！南方之强！吁嗟乎！南方之强！\n\n歌词释义：\n\n自强：根据厦门大学校训“自强不息，止于至善”阐发，出自《周易·乾》“天行健，君子以自强不息”。\n\n洋洋：海面宽广无际。这里喻指学问浩如烟海。\n\n操钥：拿着钥匙。这里喻指掌握科学的学习方法。\n\n必其藏：即发其藏。打开学问之府。\n\n鹭江：即厦鼓海峡。厦门岛和鼓浪屿之间的海峡。\n\n无央：无穷尽，不停止。\n\n吁嗟乎：感叹词。\n\n南方之强：出自《中庸》“宽柔以教，不报无道，南方之强也，君子居之。”后人称厦门大学为“南方之强”。\n\n普渡：佛教用语，指广施法力，超度众生。\n\n慈航：佛教用语，指以慈悲之心引渡众人。\n",
          "name": "stdout"
        }
      ]
    },
    {
      "metadata": {},
      "cell_type": "markdown",
      "source": "在Python中，我们可以将那些在运行时可能会出现状况的代码放在`try`代码块中，在`try`代码块的后面可以跟上一个或多个`except`来捕获可能出现的异常状况。例如在上面读取文件的过程中，文件找不到会引发`FileNotFoundError`，指定了未知的编码会引发`LookupError`，而如果读取文件时无法按指定方式解码会引发`UnicodeDecodeError`，我们在`try`后面跟上了三个`except`分别处理这三种不同的异常状况。最后我们使用`finally`代码块来关闭打开的文件，释放掉程序中获取的外部资源，由于`finally`块的代码不论程序正常还是异常都会执行到（甚至是调用了`sys`模块的`exit`函数退出Python环境，`finally`块都会被执行，因为`exit`函数实质上是引发了`SystemExit`异常），因此我们通常把`finally`块称为“总是执行代码块”，它最适合用来做释放外部资源的操作。如果不愿意在`finally`代码块中关闭文件对象释放资源，也可以使用上下文语法，通过`with`关键字指定文件对象的上下文环境并在离开上下文环境时自动释放文件资源，代码如下所示。"
    },
    {
      "metadata": {
        "ExecuteTime": {
          "start_time": "2019-09-14T13:09:27.902119Z",
          "end_time": "2019-09-14T13:09:27.915316Z"
        },
        "trusted": true
      },
      "cell_type": "code",
      "source": "def main():\n    try:\n        with open('厦大校歌.txt', 'r', encoding='utf-8') as f:\n            print(f.read())\n    except FileNotFoundError:\n        print('无法打开指定的文件!')\n    except LookupError:\n        print('指定了未知的编码!')\n    except UnicodeDecodeError:\n        print('读取文件时解码错误!')",
      "execution_count": 11,
      "outputs": []
    },
    {
      "metadata": {
        "ExecuteTime": {
          "start_time": "2019-09-14T13:09:44.610737Z",
          "end_time": "2019-09-14T13:09:44.655395Z"
        },
        "trusted": true
      },
      "cell_type": "code",
      "source": "if __name__ == '__main__':\n    main()",
      "execution_count": 13,
      "outputs": [
        {
          "output_type": "stream",
          "text": "作曲：赵元任\n\n自强！自强！学海何洋洋！谁欤操钥发其藏？\n\n鹭江深且长，致吾知于无央。\n\n吁嗟乎！南方之强！吁嗟乎！南方之强！\n\n自强！自强！人生何茫茫！谁欤普渡驾慈航？\n\n鹭江深且长，充吾爱于无疆。\n\n吁嗟乎！南方之强！吁嗟乎！南方之强！\n\n歌词释义：\n\n自强：根据厦门大学校训“自强不息，止于至善”阐发，出自《周易·乾》“天行健，君子以自强不息”。\n\n洋洋：海面宽广无际。这里喻指学问浩如烟海。\n\n操钥：拿着钥匙。这里喻指掌握科学的学习方法。\n\n必其藏：即发其藏。打开学问之府。\n\n鹭江：即厦鼓海峡。厦门岛和鼓浪屿之间的海峡。\n\n无央：无穷尽，不停止。\n\n吁嗟乎：感叹词。\n\n南方之强：出自《中庸》“宽柔以教，不报无道，南方之强也，君子居之。”后人称厦门大学为“南方之强”。\n\n普渡：佛教用语，指广施法力，超度众生。\n\n慈航：佛教用语，指以慈悲之心引渡众人。\n",
          "name": "stdout"
        }
      ]
    },
    {
      "metadata": {},
      "cell_type": "markdown",
      "source": "除了使用文件对象的`read`方法读取文件之外，还可以使用`for-in`循环逐行读取或者用`readlines`方法将文件按行读取到一个列表容器中，代码如下所示。"
    },
    {
      "metadata": {
        "ExecuteTime": {
          "start_time": "2019-09-14T13:10:52.097829Z",
          "end_time": "2019-09-14T13:10:52.123071Z"
        },
        "trusted": true
      },
      "cell_type": "code",
      "source": "import time\n\n\ndef main():\n    # 一次性读取整个文件内容\n    with open('厦大校歌.txt', 'r', encoding='utf-8') as f:\n        print(f.read())\n\n    # 通过for-in循环逐行读取\n    with open('厦大校歌.txt', mode='r') as f:\n        for line in f:\n            print(line, end='')\n            time.sleep(0.5)\n    print()\n\n    # 读取文件按行读取到列表中\n    with open('厦大校歌.txt') as f:\n        lines = f.readlines()\n    print(lines)\n    ",
      "execution_count": 14,
      "outputs": []
    },
    {
      "metadata": {
        "ExecuteTime": {
          "start_time": "2019-09-14T13:10:53.888196Z",
          "end_time": "2019-09-14T13:11:11.582895Z"
        },
        "trusted": true,
        "scrolled": false
      },
      "cell_type": "code",
      "source": "# 重新执行此cell\nif __name__ == '__main__':\n    main()",
      "execution_count": 15,
      "outputs": [
        {
          "output_type": "stream",
          "text": "作曲：赵元任\n\n自强！自强！学海何洋洋！谁欤操钥发其藏？\n\n鹭江深且长，致吾知于无央。\n\n吁嗟乎！南方之强！吁嗟乎！南方之强！\n\n自强！自强！人生何茫茫！谁欤普渡驾慈航？\n\n鹭江深且长，充吾爱于无疆。\n\n吁嗟乎！南方之强！吁嗟乎！南方之强！\n\n歌词释义：\n\n自强：根据厦门大学校训“自强不息，止于至善”阐发，出自《周易·乾》“天行健，君子以自强不息”。\n\n洋洋：海面宽广无际。这里喻指学问浩如烟海。\n\n操钥：拿着钥匙。这里喻指掌握科学的学习方法。\n\n必其藏：即发其藏。打开学问之府。\n\n鹭江：即厦鼓海峡。厦门岛和鼓浪屿之间的海峡。\n\n无央：无穷尽，不停止。\n\n吁嗟乎：感叹词。\n\n南方之强：出自《中庸》“宽柔以教，不报无道，南方之强也，君子居之。”后人称厦门大学为“南方之强”。\n\n普渡：佛教用语，指广施法力，超度众生。\n\n慈航：佛教用语，指以慈悲之心引渡众人。\n作曲：赵元任\n\n自强！自强！学海何洋洋！谁欤操钥发其藏？\n\n鹭江深且长，致吾知于无央。\n\n吁嗟乎！南方之强！吁嗟乎！南方之强！\n\n自强！自强！人生何茫茫！谁欤普渡驾慈航？\n\n鹭江深且长，充吾爱于无疆。\n\n吁嗟乎！南方之强！吁嗟乎！南方之强！\n\n歌词释义：\n\n自强：根据厦门大学校训“自强不息，止于至善”阐发，出自《周易·乾》“天行健，君子以自强不息”。\n\n洋洋：海面宽广无际。这里喻指学问浩如烟海。\n\n操钥：拿着钥匙。这里喻指掌握科学的学习方法。\n\n必其藏：即发其藏。打开学问之府。\n\n鹭江：即厦鼓海峡。厦门岛和鼓浪屿之间的海峡。\n\n无央：无穷尽，不停止。\n\n吁嗟乎：感叹词。\n\n南方之强：出自《中庸》“宽柔以教，不报无道，南方之强也，君子居之。”后人称厦门大学为“南方之强”。\n\n普渡：佛教用语，指广施法力，超度众生。\n\n慈航：佛教用语，指以慈悲之心引渡众人。\n['作曲：赵元任\\n', '\\n', '自强！自强！学海何洋洋！谁欤操钥发其藏？\\n', '\\n', '鹭江深且长，致吾知于无央。\\n', '\\n', '吁嗟乎！南方之强！吁嗟乎！南方之强！\\n', '\\n', '自强！自强！人生何茫茫！谁欤普渡驾慈航？\\n', '\\n', '鹭江深且长，充吾爱于无疆。\\n', '\\n', '吁嗟乎！南方之强！吁嗟乎！南方之强！\\n', '\\n', '歌词释义：\\n', '\\n', '自强：根据厦门大学校训“自强不息，止于至善”阐发，出自《周易·乾》“天行健，君子以自强不息”。\\n', '\\n', '洋洋：海面宽广无际。这里喻指学问浩如烟海。\\n', '\\n', '操钥：拿着钥匙。这里喻指掌握科学的学习方法。\\n', '\\n', '必其藏：即发其藏。打开学问之府。\\n', '\\n', '鹭江：即厦鼓海峡。厦门岛和鼓浪屿之间的海峡。\\n', '\\n', '无央：无穷尽，不停止。\\n', '\\n', '吁嗟乎：感叹词。\\n', '\\n', '南方之强：出自《中庸》“宽柔以教，不报无道，南方之强也，君子居之。”后人称厦门大学为“南方之强”。\\n', '\\n', '普渡：佛教用语，指广施法力，超度众生。\\n', '\\n', '慈航：佛教用语，指以慈悲之心引渡众人。']\n",
          "name": "stdout"
        }
      ]
    },
    {
      "metadata": {},
      "cell_type": "markdown",
      "source": "要将文本信息写入文件文件也非常简单，在使用`open`函数时指定好文件名并将文件模式设置为`'w'`即可。注意如果需要对文件内容进行追加式写入，应该将模式设置为`'a'`。如果要写入的文件不存在会自动创建文件而不是引发异常。下面的例子演示了如何将1-9999之间的素数分别写入三个文件中（1-99之间的素数保存在a.txt中，100-999之间的素数保存在b.txt中，1000-9999之间的素数保存在c.txt中）"
    },
    {
      "metadata": {
        "ExecuteTime": {
          "start_time": "2019-09-14T13:12:48.12032Z",
          "end_time": "2019-09-14T13:12:48.147176Z"
        },
        "trusted": true
      },
      "cell_type": "code",
      "source": "from math import sqrt\n\n\ndef is_prime(n):\n    \"\"\"判断素数的函数\"\"\"\n    assert n > 0\n    for factor in range(2, int(sqrt(n)) + 1):\n        if n % factor == 0:\n            return False\n    return True if n != 1 else False\n\n\ndef main():\n    filenames = ('a.txt', 'b.txt', 'c.txt')\n    fs_list = []\n    try:\n        for filename in filenames:\n            fs_list.append(open(filename, 'w', encoding='utf-8'))\n        for number in range(1, 10000):\n            if is_prime(number):\n                if number < 100:\n                    fs_list[0].write(str(number) + '\\n')\n                elif number < 1000:\n                    fs_list[1].write(str(number) + '\\n')\n                else:\n                    fs_list[2].write(str(number) + '\\n')\n    except IOError as ex:\n        print(ex)\n        print('写文件时发生错误!')\n    finally:\n        for fs in fs_list:\n            fs.close()\n    print('操作完成!')\n",
      "execution_count": 16,
      "outputs": []
    },
    {
      "metadata": {
        "ExecuteTime": {
          "start_time": "2019-09-14T13:12:51.62652Z",
          "end_time": "2019-09-14T13:12:52.164086Z"
        },
        "trusted": true
      },
      "cell_type": "code",
      "source": "if __name__ == '__main__':\n    main()",
      "execution_count": 17,
      "outputs": [
        {
          "output_type": "stream",
          "text": "操作完成!\n",
          "name": "stdout"
        }
      ]
    },
    {
      "metadata": {},
      "cell_type": "markdown",
      "source": "# JSON 文件"
    },
    {
      "metadata": {},
      "cell_type": "markdown",
      "source": "通过上面的讲解，我们已经知道如何将文本数据和二进制数据保存到文件中，那么这里还有一个问题，如果希望把一个列表或者一个字典中的数据保存到文件中又该怎么做呢？答案是将数据以JSON格式进行保存。JSON是“JavaScript Object Notation”的缩写，它本来是JavaScript语言中创建对象的一种字面量语法，现在已经被广泛的应用于跨平台跨语言的数据交换，原因很简单，因为JSON也是纯文本，任何系统任何编程语言处理纯文本都是没有问题的。目前JSON基本上已经取代了XML作为异构系统间交换数据的事实标准。关于JSON的知识，更多的可以参考[JSON的官方网站](http://json.org)，从这个网站也可以了解到每种语言处理JSON数据格式可以使用的工具或三方库，下面是一个JSON的简单例子。\n```JSON\n{\n    \"name\": \"骆昊\",\n    \"age\": 38,\n    \"qq\": 957658,\n    \"friends\": [\"王大锤\", \"白元芳\"],\n    \"cars\": [\n        {\"brand\": \"BYD\", \"max_speed\": 180},\n        {\"brand\": \"Audi\", \"max_speed\": 280},\n        {\"brand\": \"Benz\", \"max_speed\": 320}\n    ]\n}\n```"
    },
    {
      "metadata": {},
      "cell_type": "markdown",
      "source": "可能大家已经注意到了，上面的JSON跟Python中的字典其实是一样一样的，事实上JSON的数据类型和Python的数据类型是很容易找到对应关系的，如下面两张表所示。"
    },
    {
      "metadata": {},
      "cell_type": "markdown",
      "source": "| JSON                | Python       |\n| ------------------- | ------------ |\n| object              | dict         |\n| array               | list         |\n| string              | str          |\n| number (int / real) | int / float  |\n| true / false        | True / False |\n| null                | None         |\n\n| Python                                 | JSON         |\n| -------------------------------------- | ------------ |\n| dict                                   | object       |\n| list, tuple                            | array        |\n| str                                    | string       |\n| int, float, int- & float-derived Enums | number       |\n| True / False                           | true / false |\n| None                                   | null         |"
    },
    {
      "metadata": {},
      "cell_type": "markdown",
      "source": "我们使用Python中的json模块就可以将字典或列表以JSON格式保存到文件中，代码如下所示。"
    },
    {
      "metadata": {
        "ExecuteTime": {
          "start_time": "2019-09-14T13:14:37.392699Z",
          "end_time": "2019-09-14T13:14:37.420116Z"
        },
        "trusted": true
      },
      "cell_type": "code",
      "source": "import json\n\n\ndef main():\n    mydict = {\n        'name': '骆昊',\n        'age': 38,\n        'qq': 957658,\n        'friends': ['王大锤', '白元芳'],\n        'cars': [\n            {'brand': 'BYD', 'max_speed': 180},\n            {'brand': 'Audi', 'max_speed': 280},\n            {'brand': 'Benz', 'max_speed': 320}\n        ]\n    }\n    try:\n        with open('data.json', 'w', encoding='utf-8') as fs:\n            json.dump(mydict, fs)\n    except IOError as e:\n        print(e)\n    print('保存数据完成!')",
      "execution_count": 18,
      "outputs": []
    },
    {
      "metadata": {
        "ExecuteTime": {
          "start_time": "2019-09-14T13:14:42.780178Z",
          "end_time": "2019-09-14T13:14:42.877203Z"
        },
        "trusted": true
      },
      "cell_type": "code",
      "source": "if __name__ == '__main__':\n    main()",
      "execution_count": 19,
      "outputs": [
        {
          "output_type": "stream",
          "text": "保存数据完成!\n",
          "name": "stdout"
        }
      ]
    },
    {
      "metadata": {},
      "cell_type": "markdown",
      "source": "json模块主要有四个比较重要的函数，分别是："
    },
    {
      "metadata": {
        "ExecuteTime": {
          "start_time": "2019-09-14T13:14:57.677077Z",
          "end_time": "2019-09-14T13:14:57.713217Z"
        }
      },
      "cell_type": "markdown",
      "source": "- `dump` - 将Python对象按照JSON格式序列化到文件中\n- `dumps` - 将Python对象处理成JSON格式的字符串\n- `load` - 将文件中的JSON数据反序列化成对象\n- `loads` - 将字符串的内容反序列化成Python对象"
    },
    {
      "metadata": {},
      "cell_type": "markdown",
      "source": "这里出现了两个概念，一个叫序列化，一个叫反序列化。自由的百科全书[维基百科](https://zh.wikipedia.org/)上对这两个概念是这样解释的：“序列化（serialization）在计算机科学的数据处理中，是指将数据结构或对象状态转换为可以存储或传输的形式，这样在需要的时候能够恢复到原先的状态，而且通过序列化的数据重新获取字节时，可以利用这些字节来产生原始对象的副本（拷贝）。与这个过程相反的动作，即从一系列字节中提取数据结构的操作，就是反序列化（deserialization）”。\n\n目前绝大多数网络数据服务（或称之为网络API）都是基于[HTTP协议](https://zh.wikipedia.org/wiki/%E8%B6%85%E6%96%87%E6%9C%AC%E4%BC%A0%E8%BE%93%E5%8D%8F%E8%AE%AE)提供JSON格式的数据，关于HTTP协议的相关知识，可以看看阮一峰老师的[《HTTP协议入门》](http://www.ruanyifeng.com/blog/2016/08/http.html)，如果想了解国内的网络数据服务，可以看看[聚合数据](https://www.juhe.cn/)和[阿凡达数据](http://www.avatardata.cn/)等网站，国外的可以看看[{API}Search](http://apis.io/)网站。下面的例子演示了如何使用[requests](http://docs.python-requests.org/zh_CN/latest/)模块（封装得足够好的第三方网络访问模块）访问网络API获取国内新闻，如何通过json模块解析JSON数据并显示新闻标题，这个例子使用了[天行数据](https://www.tianapi.com/)提供的国内新闻数据接口，其中的APIKey需要自己到该网站申请。"
    },
    {
      "metadata": {
        "ExecuteTime": {
          "start_time": "2019-09-14T13:15:26.908176Z",
          "end_time": "2019-09-14T13:15:28.527232Z"
        },
        "trusted": true
      },
      "cell_type": "code",
      "source": "import requests\nimport json\n\n\ndef main():\n    resp = requests.get('http://api.tianapi.com/guonei/?key=APIKey&num=10')\n    data_model = json.loads(resp.text)\n    for news in data_model['newslist']:\n        print(news['title'])",
      "execution_count": 21,
      "outputs": []
    },
    {
      "metadata": {
        "ExecuteTime": {
          "start_time": "2019-09-14T13:15:35.279947Z",
          "end_time": "2019-09-14T13:15:37.411432Z"
        },
        "trusted": true
      },
      "cell_type": "code",
      "source": "if __name__ == '__main__':\n    main()",
      "execution_count": 22,
      "outputs": [
        {
          "output_type": "error",
          "ename": "KeyError",
          "evalue": "'newslist'",
          "traceback": [
            "\u001b[0;31m---------------------------------------------------------------------------\u001b[0m",
            "\u001b[0;31mKeyError\u001b[0m                                  Traceback (most recent call last)",
            "\u001b[0;32m<ipython-input-22-c7bc734e5e35>\u001b[0m in \u001b[0;36m<module>\u001b[0;34m\u001b[0m\n\u001b[1;32m      1\u001b[0m \u001b[0;32mif\u001b[0m \u001b[0m__name__\u001b[0m \u001b[0;34m==\u001b[0m \u001b[0;34m'__main__'\u001b[0m\u001b[0;34m:\u001b[0m\u001b[0;34m\u001b[0m\u001b[0m\n\u001b[0;32m----> 2\u001b[0;31m     \u001b[0mmain\u001b[0m\u001b[0;34m(\u001b[0m\u001b[0;34m)\u001b[0m\u001b[0;34m\u001b[0m\u001b[0m\n\u001b[0m",
            "\u001b[0;32m<ipython-input-21-a55301bff22d>\u001b[0m in \u001b[0;36mmain\u001b[0;34m()\u001b[0m\n\u001b[1;32m      6\u001b[0m     \u001b[0mresp\u001b[0m \u001b[0;34m=\u001b[0m \u001b[0mrequests\u001b[0m\u001b[0;34m.\u001b[0m\u001b[0mget\u001b[0m\u001b[0;34m(\u001b[0m\u001b[0;34m'http://api.tianapi.com/guonei/?key=APIKey&num=10'\u001b[0m\u001b[0;34m)\u001b[0m\u001b[0;34m\u001b[0m\u001b[0m\n\u001b[1;32m      7\u001b[0m     \u001b[0mdata_model\u001b[0m \u001b[0;34m=\u001b[0m \u001b[0mjson\u001b[0m\u001b[0;34m.\u001b[0m\u001b[0mloads\u001b[0m\u001b[0;34m(\u001b[0m\u001b[0mresp\u001b[0m\u001b[0;34m.\u001b[0m\u001b[0mtext\u001b[0m\u001b[0;34m)\u001b[0m\u001b[0;34m\u001b[0m\u001b[0m\n\u001b[0;32m----> 8\u001b[0;31m     \u001b[0;32mfor\u001b[0m \u001b[0mnews\u001b[0m \u001b[0;32min\u001b[0m \u001b[0mdata_model\u001b[0m\u001b[0;34m[\u001b[0m\u001b[0;34m'newslist'\u001b[0m\u001b[0;34m]\u001b[0m\u001b[0;34m:\u001b[0m\u001b[0;34m\u001b[0m\u001b[0m\n\u001b[0m\u001b[1;32m      9\u001b[0m         \u001b[0mprint\u001b[0m\u001b[0;34m(\u001b[0m\u001b[0mnews\u001b[0m\u001b[0;34m[\u001b[0m\u001b[0;34m'title'\u001b[0m\u001b[0;34m]\u001b[0m\u001b[0;34m)\u001b[0m\u001b[0;34m\u001b[0m\u001b[0m\n",
            "\u001b[0;31mKeyError\u001b[0m: 'newslist'"
          ]
        }
      ]
    },
    {
      "metadata": {},
      "cell_type": "markdown",
      "source": "在Python中要实现序列化和反序列化除了使用json模块之外，还可以使用pickle和shelve模块，但是这两个模块是使用特有的序列化协议来序列化数据，因此序列化后的数据只能被Python识别。关于这两个模块的相关知识可以自己看看网络上的资料。另外，如果要了解更多的关于Python异常机制的知识，可以看看segmentfault上面的文章[《总结：Python中的异常处理》](https://segmentfault.com/a/1190000007736783)，这篇文章不仅介绍了Python中异常机制的使用，还总结了一系列的最佳实践，很值得一读。"
    },
    {
      "metadata": {},
      "cell_type": "markdown",
      "source": "ok！现在你可以去完成[06练习]()啦！"
    },
    {
      "metadata": {
        "trusted": true
      },
      "cell_type": "code",
      "source": "",
      "execution_count": null,
      "outputs": []
    }
  ],
  "metadata": {
    "kernelspec": {
      "name": "python36",
      "display_name": "Python 3.6",
      "language": "python"
    },
    "language_info": {
      "mimetype": "text/x-python",
      "nbconvert_exporter": "python",
      "name": "python",
      "pygments_lexer": "ipython3",
      "version": "3.6.6",
      "file_extension": ".py",
      "codemirror_mode": {
        "version": 3,
        "name": "ipython"
      }
    },
    "hide_input": false,
    "toc": {
      "nav_menu": {},
      "number_sections": true,
      "sideBar": true,
      "skip_h1_title": false,
      "base_numbering": 1,
      "title_cell": "Table of Contents",
      "title_sidebar": "Contents",
      "toc_cell": false,
      "toc_position": {
        "height": "calc(100% - 180px)",
        "width": "166px",
        "left": "10px",
        "top": "150px"
      },
      "toc_section_display": true,
      "toc_window_display": true
    },
    "varInspector": {
      "window_display": false,
      "cols": {
        "lenName": 16,
        "lenType": 16,
        "lenVar": 40
      },
      "kernels_config": {
        "python": {
          "library": "var_list.py",
          "delete_cmd_prefix": "del ",
          "delete_cmd_postfix": "",
          "varRefreshCmd": "print(var_dic_list())"
        },
        "r": {
          "library": "var_list.r",
          "delete_cmd_prefix": "rm(",
          "delete_cmd_postfix": ") ",
          "varRefreshCmd": "cat(var_dic_list()) "
        }
      },
      "types_to_exclude": [
        "module",
        "function",
        "builtin_function_or_method",
        "instance",
        "_Feature"
      ]
    }
  },
  "nbformat": 4,
  "nbformat_minor": 2
}