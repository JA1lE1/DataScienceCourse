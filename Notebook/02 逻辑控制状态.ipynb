{
  "cells": [
    {
      "metadata": {
        "collapsed": true
      },
      "cell_type": "markdown",
      "source": "# 简介"
    },
    {
      "metadata": {},
      "cell_type": "markdown",
      "source": "这部分将会介绍，编程处理数据的过程中将会遇到的几种基本的流程。典型的几个基本的编程逻辑结构如下："
    },
    {
      "metadata": {},
      "cell_type": "markdown",
      "source": "- if 'X' do task 'A', else if 'Y' do task 'B'\n- perform the task 'A' 'N' times\n- perform the task 'B' until 'X' is true"
    },
    {
      "metadata": {},
      "cell_type": "markdown",
      "source": "## 小目标"
    },
    {
      "metadata": {},
      "cell_type": "markdown",
      "source": "- 条件状态\n- 循环状态\n"
    },
    {
      "metadata": {
        "ExecuteTime": {
          "start_time": "2019-09-14T08:49:47.849475Z",
          "end_time": "2019-09-14T08:49:47.871818Z"
        }
      },
      "cell_type": "markdown",
      "source": "# 条件语句"
    },
    {
      "metadata": {},
      "cell_type": "markdown",
      "source": "Python条件语句是通过一条或多条语句的执行结果（True或者False）来决定执行的代码块。\n\n可以通过下图来简单了解条件语句的执行过程:"
    },
    {
      "metadata": {},
      "cell_type": "markdown",
      "source": "![](images/if-condition.jpg)"
    },
    {
      "metadata": {},
      "cell_type": "markdown",
      "source": "Python程序语言指定任何非0和非空（null）值为true，0 或者 null为false。\n\nPython 编程中 if 语句用于控制程序的执行，基本形式为："
    },
    {
      "metadata": {
        "trusted": true
      },
      "cell_type": "code",
      "source": "if 判断条件：\n    执行语句……\nelse：\n    执行语句……",
      "execution_count": null,
      "outputs": []
    },
    {
      "metadata": {},
      "cell_type": "markdown",
      "source": "其中\"判断条件\"成立时（非零），则执行后面的语句，而执行内容可以多行，以缩进来区分表示同一范围。\n\nelse 为可选语句，当需要在条件不成立时执行内容则可以执行相关语句。\n\nGif 演示："
    },
    {
      "metadata": {
        "ExecuteTime": {
          "start_time": "2019-09-14T08:53:58.114596Z",
          "end_time": "2019-09-14T08:54:01.767497Z"
        }
      },
      "cell_type": "markdown",
      "source": "![](images/ifgif.gif)"
    },
    {
      "metadata": {},
      "cell_type": "markdown",
      "source": "如下是一个条件语句的Demo"
    },
    {
      "metadata": {
        "ExecuteTime": {
          "start_time": "2019-09-14T08:55:16.141681Z",
          "end_time": "2019-09-14T08:55:16.161756Z"
        },
        "trusted": true
      },
      "cell_type": "code",
      "source": "x = -10.0  # Initial x value\n\nif x > 0.0:  \n    print('Initial x is greater than zero')\n    x -= 20.0\nelif x < 0.0:  \n    print('Initial x is less than zero')\n    x += 21.0\nelse: \n    print('Initial x is not less than zero and not greater than zero, therefore it must be zero')\n    x *= 2.5\n\n# Print new x value\nprint(\"New x value:\", x)",
      "execution_count": 3,
      "outputs": [
        {
          "output_type": "stream",
          "text": "Initial x is less than zero\nNew x value: 11.0\n",
          "name": "stdout"
        }
      ]
    },
    {
      "metadata": {},
      "cell_type": "markdown",
      "source": "# 循环状态"
    },
    {
      "metadata": {},
      "cell_type": "markdown",
      "source": "![](images/loop.jpg)"
    },
    {
      "metadata": {},
      "cell_type": "markdown",
      "source": "Python提供了for循环和while循环（在Python中没有do..while循环）:"
    },
    {
      "metadata": {},
      "cell_type": "markdown",
      "source": "|循环类型|\t描述|\n|---|---|\n|while循环|\t在给定的判断条件为 true 时执行循环体，否则退出循环体。\n|for 循环|\t重复执行语句\n|嵌套循环|\t你可以在while循环体中嵌套for循环"
    },
    {
      "metadata": {},
      "cell_type": "markdown",
      "source": "## for loops "
    },
    {
      "metadata": {},
      "cell_type": "markdown",
      "source": "![](images/for.jpg)"
    },
    {
      "metadata": {},
      "cell_type": "markdown",
      "source": "- for 循环决定了代码块重复执行的次数\n- 小栗子"
    },
    {
      "metadata": {
        "ExecuteTime": {
          "start_time": "2019-09-14T09:05:15.786962Z",
          "end_time": "2019-09-14T09:05:15.848299Z"
        },
        "trusted": true
      },
      "cell_type": "code",
      "source": "for n in range(4):\n    print(\"----\")\n    print(n, n**2)",
      "execution_count": 4,
      "outputs": [
        {
          "output_type": "stream",
          "text": "----\n0 0\n----\n1 1\n----\n2 4\n----\n3 9\n",
          "name": "stdout"
        }
      ]
    },
    {
      "metadata": {},
      "cell_type": "markdown",
      "source": "- 上面这个cell执行了4此循环"
    },
    {
      "metadata": {},
      "cell_type": "markdown",
      "source": "### range取值"
    },
    {
      "metadata": {
        "ExecuteTime": {
          "start_time": "2019-09-14T09:08:23.904519Z",
          "end_time": "2019-09-14T09:08:23.943187Z"
        },
        "trusted": true
      },
      "cell_type": "code",
      "source": "for i in range(-2, 3):\n    print(i)",
      "execution_count": 6,
      "outputs": [
        {
          "output_type": "stream",
          "text": "-2\n-1\n0\n1\n2\n",
          "name": "stdout"
        }
      ]
    },
    {
      "metadata": {},
      "cell_type": "markdown",
      "source": "- i在循环过程中不包括4"
    },
    {
      "metadata": {},
      "cell_type": "markdown",
      "source": "### 步长"
    },
    {
      "metadata": {
        "ExecuteTime": {
          "start_time": "2019-09-14T09:07:26.691362Z",
          "end_time": "2019-09-14T09:07:26.715849Z"
        },
        "trusted": true
      },
      "cell_type": "code",
      "source": "for n in range(0, 10, 3):\n    print(n)",
      "execution_count": 5,
      "outputs": [
        {
          "output_type": "stream",
          "text": "0\n3\n6\n9\n",
          "name": "stdout"
        }
      ]
    },
    {
      "metadata": {},
      "cell_type": "markdown",
      "source": "## while loops"
    },
    {
      "metadata": {},
      "cell_type": "markdown",
      "source": "![](images/while.jpg)"
    },
    {
      "metadata": {},
      "cell_type": "markdown",
      "source": "- for循环以执行次数决定逻辑控制状态，while循环将以条件逻辑为判断依据执行循环过程\n- 小栗子"
    },
    {
      "metadata": {
        "ExecuteTime": {
          "start_time": "2019-09-14T09:19:32.789811Z",
          "end_time": "2019-09-14T09:19:32.819578Z"
        },
        "trusted": true
      },
      "cell_type": "code",
      "source": "print(\"Start of while statement\")\nx = -2\nwhile x < 5:\n    print(x)\n    x += 1  # Increment x\nprint(\"End of while statement\")",
      "execution_count": 7,
      "outputs": [
        {
          "output_type": "stream",
          "text": "Start of while statement\n-2\n-1\n0\n1\n2\n3\n4\nEnd of while statement\n",
          "name": "stdout"
        }
      ]
    },
    {
      "metadata": {},
      "cell_type": "markdown",
      "source": "## 循环控制语句"
    },
    {
      "metadata": {},
      "cell_type": "markdown",
      "source": "|控制语句|\t描述\n|---|---|\n|break 语句|\t在语句块执行过程中终止循环，并且跳出整个循环\n|continue 语句|\t在语句块执行过程中终止当前循环，跳出该次循环，执行下一次循环。\n|pass 语句\t|pass是空语句，是为了保持程序结构的完整性。"
    },
    {
      "metadata": {},
      "cell_type": "markdown",
      "source": "### break"
    },
    {
      "metadata": {
        "ExecuteTime": {
          "start_time": "2019-09-14T09:20:41.802153Z",
          "end_time": "2019-09-14T09:20:41.832691Z"
        },
        "trusted": true
      },
      "cell_type": "code",
      "source": "for x in range(10):\n    print(x)\n    if x == 5:\n        print(\"Time to break out\")\n        break",
      "execution_count": 8,
      "outputs": [
        {
          "output_type": "stream",
          "text": "0\n1\n2\n3\n4\n5\nTime to break out\n",
          "name": "stdout"
        }
      ]
    },
    {
      "metadata": {},
      "cell_type": "markdown",
      "source": "### continue"
    },
    {
      "metadata": {
        "ExecuteTime": {
          "start_time": "2019-09-14T09:21:00.289083Z",
          "end_time": "2019-09-14T09:21:00.313982Z"
        },
        "trusted": true
      },
      "cell_type": "code",
      "source": "for j in range(20):\n    if j % 4 == 0:  # Check remained of j/4\n        continue  # jump to next iteration over j\n    print(\"Number is not divisible by 4:\", j)",
      "execution_count": 9,
      "outputs": [
        {
          "output_type": "stream",
          "text": "Number is not divisible by 4: 1\nNumber is not divisible by 4: 2\nNumber is not divisible by 4: 3\nNumber is not divisible by 4: 5\nNumber is not divisible by 4: 6\nNumber is not divisible by 4: 7\nNumber is not divisible by 4: 9\nNumber is not divisible by 4: 10\nNumber is not divisible by 4: 11\nNumber is not divisible by 4: 13\nNumber is not divisible by 4: 14\nNumber is not divisible by 4: 15\nNumber is not divisible by 4: 17\nNumber is not divisible by 4: 18\nNumber is not divisible by 4: 19\n",
          "name": "stdout"
        }
      ]
    },
    {
      "metadata": {},
      "cell_type": "markdown",
      "source": "### pass"
    },
    {
      "metadata": {
        "ExecuteTime": {
          "start_time": "2019-09-14T09:21:15.346106Z",
          "end_time": "2019-09-14T09:21:15.37106Z"
        },
        "trusted": true
      },
      "cell_type": "code",
      "source": "for x in range(10):\n    if x < 5:\n        # TODO: implement handling of x < 5 when other cases finished \n        pass\n    elif x < 9:\n        print(x*x)\n    else:\n        print(x)",
      "execution_count": 10,
      "outputs": [
        {
          "output_type": "stream",
          "text": "25\n36\n49\n64\n9\n",
          "name": "stdout"
        }
      ]
    },
    {
      "metadata": {
        "trusted": true
      },
      "cell_type": "code",
      "source": "",
      "execution_count": null,
      "outputs": []
    }
  ],
  "metadata": {
    "kernelspec": {
      "name": "python36",
      "display_name": "Python 3.6",
      "language": "python"
    },
    "language_info": {
      "mimetype": "text/x-python",
      "nbconvert_exporter": "python",
      "name": "python",
      "pygments_lexer": "ipython3",
      "version": "3.6.6",
      "file_extension": ".py",
      "codemirror_mode": {
        "version": 3,
        "name": "ipython"
      }
    },
    "hide_input": false,
    "toc": {
      "nav_menu": {},
      "number_sections": true,
      "sideBar": true,
      "skip_h1_title": false,
      "base_numbering": 1,
      "title_cell": "Table of Contents",
      "title_sidebar": "Contents",
      "toc_cell": false,
      "toc_position": {},
      "toc_section_display": true,
      "toc_window_display": false
    },
    "varInspector": {
      "window_display": false,
      "cols": {
        "lenName": 16,
        "lenType": 16,
        "lenVar": 40
      },
      "kernels_config": {
        "python": {
          "library": "var_list.py",
          "delete_cmd_prefix": "del ",
          "delete_cmd_postfix": "",
          "varRefreshCmd": "print(var_dic_list())"
        },
        "r": {
          "library": "var_list.r",
          "delete_cmd_prefix": "rm(",
          "delete_cmd_postfix": ") ",
          "varRefreshCmd": "cat(var_dic_list()) "
        }
      },
      "types_to_exclude": [
        "module",
        "function",
        "builtin_function_or_method",
        "instance",
        "_Feature"
      ]
    }
  },
  "nbformat": 4,
  "nbformat_minor": 2
}