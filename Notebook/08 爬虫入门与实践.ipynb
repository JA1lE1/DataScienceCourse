{
  "cells": [
    {
      "metadata": {
        "heading_collapsed": true,
        "hide_input": false
      },
      "cell_type": "markdown",
      "source": "# What you will learn?"
    },
    {
      "metadata": {
        "hidden": true
      },
      "cell_type": "markdown",
      "source": "- 基本的爬虫基础与与之相关的web基础知识\n- 爬取一个最基本的html页面并保存\n- 使用lxml和正则表达式爬取厦门大学的百度百科info-box信息并保存为csv文件\n- 使用requests-html爬取当当网2018年销量前500数据并保存在mongodb数据库"
    },
    {
      "metadata": {
        "colab_type": "text",
        "heading_collapsed": true,
        "id": "KIZw3PeWdaDs"
      },
      "cell_type": "markdown",
      "source": "# 入门介绍\n"
    },
    {
      "metadata": {
        "colab_type": "text",
        "heading_collapsed": true,
        "hidden": true,
        "id": "N5uOrw7DUApI"
      },
      "cell_type": "markdown",
      "source": "## 什么是爬虫\n"
    },
    {
      "metadata": {
        "hidden": true
      },
      "cell_type": "markdown",
      "source": "- 网络爬虫分为通用爬虫和聚焦爬虫，通用爬虫为搜索引擎所使用，而聚焦爬虫是“面向特定主体需求”的一种网络爬虫程序\n- ![img](./img/爬虫工作流程.png)\n- 聚焦爬虫在实施网页抓取时会对内容进行处理筛选，尽量保证只抓取与需求相关的网页信息。\n- 下面的内容将围绕聚焦爬虫展开"
    },
    {
      "metadata": {
        "colab_type": "text",
        "heading_collapsed": true,
        "hidden": true,
        "id": "qQKlHhdBUG9e"
      },
      "cell_type": "markdown",
      "source": "## 为什么要学习爬虫\n"
    },
    {
      "metadata": {
        "hidden": true
      },
      "cell_type": "markdown",
      "source": "![alt text](http://storage.service.mix.sina.com.cn/407864d7012698ee186b4b270cc0a816)\n\n- 数据科学的基础就是数据，没有数据就不能进行数据科学研究"
    },
    {
      "metadata": {
        "colab_type": "text",
        "heading_collapsed": true,
        "hidden": true,
        "id": "NHxI_oesUq6F"
      },
      "cell_type": "markdown",
      "source": "## 聚焦爬虫的逻辑过程\n\n    \n\n  \n\n  "
    },
    {
      "metadata": {
        "hidden": true
      },
      "cell_type": "markdown",
      "source": "- 明确目标\n  - 明确所要爬取的内容来源，例如爬取百度百科有关厦门大学的信息\n  - 明确所需要数据的内容，例如所需要爬取的实体信息\n- 使用工具获取原始数据\n  - 我们平时获取百度百科的方式是通过浏览器访问百度百科有关厦门大学的url的方式获取信息，现在我们需要找到能够代替浏览器的编程工具---requests\n- 数据清洗\n  - 本教程基于python的编译环境，而python中数据清洗常见的package有正则表达式re，beautifulsoup，基于xml格式的lxml等。\n- 数据存储\n  - 根据所爬取的数据大小及使用环境，我们可以将数据存储为特定格式文件及数据库的存储方式\n  - 特定格式存储\n    - txt\n    - csv\n    - excle\n  - 数据库\n    - Mysql\n    - MongoDB\n    "
    },
    {
      "metadata": {
        "colab_type": "text",
        "heading_collapsed": true,
        "hidden": true,
        "id": "2Jt_TEqJYl74"
      },
      "cell_type": "markdown",
      "source": "## 爬虫使用框架\n"
    },
    {
      "metadata": {
        "hidden": true
      },
      "cell_type": "markdown",
      "source": "- 既然有框架了，为什么不直接只用框架？\n  - 框架建立于基础之上，基础内容能够在爬虫遇到困难时，获得价值体现\n- 常见的爬虫矿建\n  - Scrapy\n  - Pyspider"
    },
    {
      "metadata": {
        "colab_type": "text",
        "heading_collapsed": true,
        "hidden": true,
        "id": "qotgJT9UYuj3"
      },
      "cell_type": "markdown",
      "source": "## 反爬虫\n\n  "
    },
    {
      "metadata": {
        "hidden": true
      },
      "cell_type": "markdown",
      "source": "- 大规模爬虫对应服务器来说是一个不小的负担，因此网站开发人员想出了各种修改网站源码的方式进行反爬虫措施\n- 当然这些反爬虫措施既然是人为规定的就尤其规律可循\n- 声明：请遵守网络文明公约，禁止恶意爬取数据\n- Robots办议:网站通过Robots协议告诉搜索引擎哪些页面可以抓取，哪些页面不能抓取。\n  - 例如: https://www. taobao com/robots .txt"
    },
    {
      "metadata": {
        "colab_type": "text",
        "heading_collapsed": true,
        "hidden": true,
        "id": "agZdzhcxaEn2"
      },
      "cell_type": "markdown",
      "source": "## Web 基础知识\n\n    \n\n"
    },
    {
      "metadata": {
        "hidden": true
      },
      "cell_type": "markdown",
      "source": "- 在正式开始第一个简单爬虫之前，需要了解一下爬虫所用到的一些web知识\n- HTML\n  - 我们索要获取的初始数据就是HTML页面\n  - 使用chrome 浏览器 打开检查功能即是原始数据，步骤如下图所示\n  - ![img](./img/chrome1.gif)\n- HTTP与HTTPS\n  - HTTP协议（HyperText Transfer Protocol，超文本传输协议）：是一种发布和接收 HTML页面的方法。\n\n  - HTTPS（Hypertext Transfer Protocol over Secure Socket Layer）简单讲是HTTP的安全版，在HTTP下加入SSL层。\n\n  - SSL（Secure Sockets Layer 安全套接层）主要用于Web的安全传输协议，在传输层对网络连接进行加密，保障在Internet上数据传输的安全。\n  - ![alt text](http://static-furong.oss-cn-hangzhou.aliyuncs.com/1901902218147033/2019/appliaction/201903151633588568.png)\n- 常见的数据请求方式\n  - GET\n    - 请求指定的页面信息，并返回实体主体。\n    - 最最最常见的爬虫方式，获取数据的方式就好像是我们直接打开一个浏览器输入url所获取的内容一样\n  - POST\n    - 向指定资源提交数据进行处理请求（例如提交表单或者上传文件），数据被包含在请求体中。POST请求可能会导致新的资源的建立和/或已有资源的修改。\n    - 例如账号登录，就需要post账号和密码。在线应用，如在线翻译输入就是需要post待翻译内容。上传文件到云盘等是一个道理。\n  \n - 常用的请求头\n  - User-Agent\n    - 我们已经知道获取网站信息就是打开浏览器输入url(人类的本质是复读机)，爬虫正式模拟这一过程，那如何模拟呢，至少需要让对方(网站服务器知道你是谁吧)，好吧“你是谁”的信息可以有很多，这里我们告诉它(网站服务器)你的“User-Agent”的信息就好了\n    - 查看自己的User-Agent的方式如下图所示\n    - ![img](./img/chrome2.gif)\n    "
    },
    {
      "metadata": {
        "colab_type": "text",
        "heading_collapsed": true,
        "hidden": true,
        "id": "9rVx1DsTihdy"
      },
      "cell_type": "markdown",
      "source": "## 推荐阅读\n"
    },
    {
      "metadata": {
        "hidden": true
      },
      "cell_type": "markdown",
      "source": "- [维基百科-网络爬虫](https://zh.wikipedia.org/wiki/%E7%B6%B2%E8%B7%AF%E7%88%AC%E8%9F%B2)\n- [requests 文档](https://requests-docs-cn.readthedocs.io/zh_CN/latest/)\n  - 任务1tips\n- [python 文件操作方式](https://www.runoob.com/python/file-methods.html)\n  - 任务1tips"
    },
    {
      "metadata": {
        "colab_type": "text",
        "heading_collapsed": true,
        "hidden": true,
        "id": "DBT9RgVYj9Vg"
      },
      "cell_type": "markdown",
      "source": "## quiz\n"
    },
    {
      "metadata": {
        "hidden": true
      },
      "cell_type": "markdown",
      "source": "- 爬虫的本质是什么？\n\n- python常用的爬虫工具包有那些？\n\n- 我们要用爬虫来干什么？\n\n- (本次quiz为开放性问题，天马行空地回答吧。)"
    },
    {
      "metadata": {
        "colab_type": "text",
        "heading_collapsed": true,
        "id": "v8hUwjMOg2oy"
      },
      "cell_type": "markdown",
      "source": "# 快速上手\n"
    },
    {
      "metadata": {
        "colab_type": "text",
        "heading_collapsed": true,
        "hidden": true,
        "id": "A9pANn8unoK5"
      },
      "cell_type": "markdown",
      "source": "## 前情提示\n- 假设你已经拥有基本的python使用知识\n- 如果没有，可以先行尝试以下内容\n  - [python-tutorial](https://docs.python.org/3/tutorial/)"
    },
    {
      "metadata": {
        "colab_type": "text",
        "heading_collapsed": true,
        "hidden": true,
        "id": "TU2fUuqWiQrY"
      },
      "cell_type": "markdown",
      "source": "## 任务1\n- 爬取百度百科有关厦门大学的信息并存为xmu_baike.html文件"
    },
    {
      "metadata": {
        "colab_type": "text",
        "hidden": true,
        "id": "RK7rczEliXOx"
      },
      "cell_type": "markdown",
      "source": "### 任务提示\n- get 的数据请求方式\n- 使用requests 而不是urllib\n\n\n```\n# 这是urllib获取网页内容的代码量\nimport urllib2\n\ngh_url = 'https://api.github.com'\n\nreq = urllib2.Request(gh_url)\n\npassword_manager = urllib2.HTTPPasswordMgrWithDefaultRealm()\npassword_manager.add_password(None, gh_url, 'user', 'pass')\n\nauth_manager = urllib2.HTTPBasicAuthHandler(password_manager)\nopener = urllib2.build_opener(auth_manager)\n\nurllib2.install_opener(opener)\n\nhandler = urllib2.urlopen(req)\n\nprint handler.getcode()\nprint handler.headers.getheader('content-type')\n```\n\n\n\n```\n# 这是使用requests获取网页内容的代码量\nimport requests\n\nr = requests.get('https://api.github.com', auth=('user', 'pass'))\n\nprint r.status_code\nprint r.headers['content-type']\n```\n\n- You know what you want ? XDDD\n\n- 只需爬取原始数据暂时不用进行数据清洗和数据存储的内容\n\n\n  \n\n\n\n"
    },
    {
      "metadata": {
        "trusted": true
      },
      "cell_type": "code",
      "source": "import requests\n####在这里写下你的代码####\nheaders = {}\n\n#####在这里写下你的代码####\nentity = '厦门大学'\nurl = 'https://baike.baidu.com/item/{}'.format()\n####在这里写下你的代码####\n\n\n\n\n#####在这里写下你的代码####",
      "execution_count": null,
      "outputs": []
    },
    {
      "metadata": {
        "colab": {},
        "colab_type": "code",
        "hidden": true,
        "id": "X1JmHb1HehNc",
        "trusted": true,
        "ExecuteTime": {
          "start_time": "2019-10-16T01:49:39.39348Z",
          "end_time": "2019-10-16T01:49:41.654873Z"
        }
      },
      "cell_type": "code",
      "source": "import requests\n####在这里写下你的代码####\nheaders = {'User-Agent': 'Mozilla/5.0 (Windows NT 10.0; Win64; x64) AppleWebKit/537.36 (KHTML, like Gecko) Chrome/75.0.3770.142 Safari/537.36'}\n\n#####在这里写下你的代码####\nentity = '厦门大学'\nurl = 'https://baike.baidu.com/item/{}'.format(entity)\n####在这里写下你的代码####\nresponse = requests.get(\"https://baike.baidu.com/item/{}\".format(entity), headers = headers)\nresponse.encoding='utf-8'\n# response.text\n\nwith open('xmu_baike.html','w',encoding='utf8') as f:\n  f.write(response.text)\n\n\n#####在这里写下你的代码####",
      "execution_count": 2,
      "outputs": []
    },
    {
      "metadata": {
        "colab_type": "text",
        "hidden": true,
        "id": "W-wPPYssWNa_"
      },
      "cell_type": "markdown",
      "source": "#### run the cell below to check your answer"
    },
    {
      "metadata": {
        "trusted": true
      },
      "cell_type": "code",
      "source": "import re\nwith open('xmu_baike.html','r',encoding='utf8') as f:\n  xmu_baike = f.read()\nres_tr = r'<dt>[\\u4e00-\\u9fa5]{4}</dt>\\n<dd\\s\\w{5}\\W{2}(\\d{4}[\\u4e00-\\u9fa5]\\d+[\\u4e00-\\u9fa5]\\d+[\\u4e00-\\u9fa5]).>'\nlanguage = xmu_baike\nm_tr =  re.findall(res_tr,language,re.S|re.M)\nprint(m_tr)",
      "execution_count": null,
      "outputs": []
    },
    {
      "metadata": {
        "colab_type": "text",
        "hidden": true,
        "id": "n9SAskFtWmen"
      },
      "cell_type": "markdown",
      "source": "['1921年4月6日']"
    },
    {
      "metadata": {
        "colab_type": "text",
        "heading_collapsed": true,
        "hidden": true,
        "id": "uTzneGZ0B-PJ"
      },
      "cell_type": "markdown",
      "source": "## 推荐阅读\n- [python-lxml](https://python101.pythonlibrary.org/chapter31_lxml.html)\n- [w3c-html-tutorial](https://www.w3schools.com/html/)"
    },
    {
      "metadata": {
        "colab_type": "text",
        "heading_collapsed": true,
        "id": "NbVLpbW9XHM_"
      },
      "cell_type": "markdown",
      "source": "# 进阶规则"
    },
    {
      "metadata": {
        "colab_type": "text",
        "heading_collapsed": true,
        "hidden": true,
        "id": "mjIiKaIbXjMP"
      },
      "cell_type": "markdown",
      "source": "## 正则表达式\n\n"
    },
    {
      "metadata": {
        "colab_type": "text",
        "hidden": true,
        "id": "pQjHdF4tL4fA"
      },
      "cell_type": "markdown",
      "source": "- 什么是正则表达式\n  - 正则表达式，又称规则表达式，通常被用来检索、替换那些符合某个模式(规则)的文本。正则表达式是对字符串操作的一种逻辑公式，就是用事先定义好的一些特定字符、及这些特定字符的组合，组成一个\"规则字符串\"，这个\"规则字符串\"用来表达对字符串的一种过滤逻辑。\n  - 用来进行字符串匹配的句法规则（简单地说）\n- 难度预警\n  - 正则表达式，十分枯燥，上手难度有点大\n  - ![img](./img/re.png)\n- 为什么要学习正则表达式\n  - 正则表达式虽然难学，但是它是万能地，能够基于一定地规则匹配出我们所需要地数据"
    },
    {
      "metadata": {
        "colab_type": "text",
        "hidden": true,
        "id": "dFMc5EP1b5_9"
      },
      "cell_type": "markdown",
      "source": "### 举个栗子\n![alt text](https://timgsa.baidu.com/timg?image&quality=80&size=b9999_10000&sec=1563805143613&di=a199e0794672ecd398bbc4f45218d42f&imgtype=0&src=http%3A%2F%2Fimg.mp.itc.cn%2Fupload%2F20170411%2F3122940736ee468183f73bf4aae4bcb1_th.jpeg)\n\n- 在任务一的答案检查中，就使用了正则表达式的方法进行模式匹配，准确找出我校的出生的出生日期，那具体来看一下是怎么做到的吧\n- 首先在HTML页面中找到XMU的出生时间\n\n```\n<dt>创办时间</dt>\n<dd title=\"1921年4月6日\">\n```\n- 然后写一个正则表达式进行匹配就vans了，比如下面这个样子\n\n```\nr'<dt>[\\u4e00-\\u9fa5]{4}</dt>\\n<dd\\s\\w{5}\\W{2}(\\d{4}[\\u4e00-\\u9fa5]\\d+[\\u4e00-\\u9fa5]\\d+[\\u4e00-\\u9fa5]).>'\n```\n![img](./img/nikeyang.jpg)\n\n- OK，让我们来分解一下\n  - > [\\u4e00-\\u9fa5] 代表中文字符\n  - > {4}代表前一个正则有4个，这里也就是中文字符出现了4次\n  - > \\n 代表换行\n  - > \\s 代表空格\n  - > \\w代表单词(英文)字符\n  - > \\W代表 非字符\n  - > () 括号中为我们需要匹配的字符串\n  - > \\d 代表数字\n  - >  ‘+’代表前面一个正则出现了至少一次\n- 好像。。。。全部都出现在了上面这张图中！\n\n\n\n\n"
    },
    {
      "metadata": {
        "colab_type": "text",
        "heading_collapsed": true,
        "hidden": true,
        "id": "ryCRYQeggwKu"
      },
      "cell_type": "markdown",
      "source": "### 小型FAQ\n- 但是为什么要写这么多，而不直接写括号中的内容呢？\n  - 因为括号中的代表的是日期表达式，而这个日子表达式在html文件中不知出现过一次\n- 那岂不是以后没爬一个hmtl文件都要去分析文件并写一个正则？\n  - 不是的呢，因为爬取的内容基本都是基于一定的共同点，因此他们所在的html文件中的语法规则也有类似之处，因此不用很繁琐地写每一个正则\n  - 开头说了，这里只是举个栗子拉。"
    },
    {
      "metadata": {
        "colab_type": "text",
        "heading_collapsed": true,
        "hidden": true,
        "id": "rBP_xyLTg9_x"
      },
      "cell_type": "markdown",
      "source": "## 推荐阅读\n\n"
    },
    {
      "metadata": {
        "colab_type": "text",
        "hidden": true,
        "id": "UBxUqBV6MmbH"
      },
      "cell_type": "markdown",
      "source": "- [python-re 文档](https://docs.python.org/zh-cn/3/library/re.html)\n- [Python 正则表达式爬取网页分析HTML标签总结](https://blog.mimvp.com/article/20449.html)"
    },
    {
      "metadata": {
        "colab_type": "text",
        "heading_collapsed": true,
        "hidden": true,
        "id": "-i-3Jn8tiUmy"
      },
      "cell_type": "markdown",
      "source": "## lxml"
    },
    {
      "metadata": {
        "colab_type": "text",
        "heading_collapsed": true,
        "hidden": true,
        "id": "fYjw26Ajiipq"
      },
      "cell_type": "markdown",
      "source": "### 什么是XML\n"
    },
    {
      "metadata": {
        "colab_type": "text",
        "hidden": true,
        "id": "by07XiPypLGS"
      },
      "cell_type": "markdown",
      "source": "#### 官方\n- XML 指可扩展标记语言（EXtensible Markup Language）\n-XML 是一种标记语言，很类似 HTML\n-XML 的设计宗旨是传输数据，而非显示数据\n-XML 的标签需要我们自行定义。\n-XML 被设计为具有自我描述性。\n-XML 是 W3C 的推荐标准"
    },
    {
      "metadata": {
        "colab_type": "text",
        "heading_collapsed": true,
        "hidden": true,
        "id": "wUEcPzGxpPw9"
      },
      "cell_type": "markdown",
      "source": "#### 简单点\n- 一样地内容，HTML换上了正装"
    },
    {
      "metadata": {
        "colab_type": "text",
        "heading_collapsed": true,
        "hidden": true,
        "id": "_pS4ERBfpS1C"
      },
      "cell_type": "markdown",
      "source": "#### 直观点\n\n\n```\n<book>\n  <title>Harry Potter</title>\n  <author>J K. Rowling</author>\n  <year>2005</year>\n  <price>29.99</price>\n</book>\n```\n#### HTML DOM 模型示例\n- HTML DOM 定义了访问和操作 HTML 文档的标准方法，以树结构方式表达 HTML 文档。\n- ![img](./img/02-htmltree.gif)"
    },
    {
      "metadata": {
        "colab_type": "text",
        "hidden": true,
        "id": "A3HjXo6UpV7F"
      },
      "cell_type": "markdown",
      "source": "#### 摊牌吧，为什么学习这个？\n- ![img](./img/chrome4.gif)\n- chrome浏览器+chrome插件xpath helper 获取xpath的爬取方式能完成很多的爬虫目标"
    },
    {
      "metadata": {
        "colab_type": "text",
        "heading_collapsed": true,
        "hidden": true,
        "id": "uKKQCnvfpdCJ"
      },
      "cell_type": "markdown",
      "source": "### python lxml\n- python lxml 是c语言为基底的，因此它的速度来说比beautiful soup(基于css 选择器)（这里没有介绍）快很多，而正则表达式虽然万能，如果都采用正则表达式的方法将会从coding到production都像蜗牛一样。"
    },
    {
      "metadata": {
        "colab": {
          "base_uri": "https://localhost:8080/",
          "height": 34
        },
        "colab_type": "code",
        "executionInfo": {
          "elapsed": 2627,
          "status": "ok",
          "timestamp": 1563798618761,
          "user": {
            "displayName": "jay lee",
            "photoUrl": "",
            "userId": "04504079774687613180"
          },
          "user_tz": -480
        },
        "hidden": true,
        "id": "tyMJE1bjWN0u",
        "outputId": "6646d65c-07fc-4c05-f832-208dd183bb9d",
        "trusted": false
      },
      "cell_type": "code",
      "source": "from lxml import etree\nimport requests\nresponse = requests.get('https://news.sina.com.cn/')\nresponse.encoding='utf8'\nnew_xml = etree.HTML(response.text)\nnew_xml.xpath('//*[@id=\"syncad_1\"]/h1[1]/a/text()')",
      "execution_count": 0,
      "outputs": [
        {
          "data": {
            "text/plain": "['习近平欢迎阿联酋阿布扎比王储访华', '铺就“健康之路” 习近平这些话字字珠玑']"
          },
          "execution_count": 169,
          "metadata": {
            "tags": []
          },
          "output_type": "execute_result"
        }
      ]
    },
    {
      "metadata": {
        "colab_type": "text",
        "hidden": true,
        "id": "t2aR34pqqYrq"
      },
      "cell_type": "markdown",
      "source": "- 以上是完成图中的爬取方式的代码\n- xpath是从chrome浏览器直接复制得到的\n- 等等？什么是xpath？\n- 虚假的xpath\n  - XPath (XML Path Language) 是一门在 XML 文档中查找信息的语言，可用来在 XML 文档中对元素和属性进行遍历。\n\n  - W3School官方文档：http://www.w3school.com.cn/xpath/index.asp\n- 真实的xpath\n  - xml的路径表达式\n-XDDDD"
    },
    {
      "metadata": {
        "heading_collapsed": true,
        "hidden": true
      },
      "cell_type": "markdown",
      "source": "### Xpath"
    },
    {
      "metadata": {
        "hidden": true
      },
      "cell_type": "markdown",
      "source": "- ![alt text](https://timgsa.baidu.com/timg?image&quality=80&size=b9999_10000&sec=1563805143613&di=a199e0794672ecd398bbc4f45218d42f&imgtype=0&src=http%3A%2F%2Fimg.mp.itc.cn%2Fupload%2F20170411%2F3122940736ee468183f73bf4aae4bcb1_th.jpeg)\n- 以下面XML文档为例对xpath进行简要的介绍\n- ```xml\n<html>\n    <body>\n        <div>\n            <p>Hello world<p>\n            <a href=\"/home\">Click here</a>\n        </div>\n    </body>\n</html>\n```\n\n- XML 文档中常见的节点包括：\n    - 根节点：html\n    - 元素节点：html、body、div、p、a\n    - 属性节点：href\n    - 文本节点：Hello world、Click here"
    },
    {
      "metadata": {
        "hidden": true
      },
      "cell_type": "markdown",
      "source": "#### xpath 匹配语法"
    },
    {
      "metadata": {
        "hidden": true
      },
      "cell_type": "markdown",
      "source": "- ``/`` 表示子代节点，例如 /E 表示匹配根节点下的子节点中的 E 元素节点\n- ``//`` 表示后代节点，例如 //E 表示匹配根节点下的后代节点中的 E 元素节点\n- ``*`` 表示所有节点，例如 E/* 表示匹配 E 元素节点下的子节点中的所有节点\n- ``text()``表示文本节点，例如 E/text() 表示匹配 E 元素节点下的子节点中的文本节点\n- ``@ATTR`` 表示属性节点，例如 E/@ATTR 表示匹配 E 元素节点下的子节点中的 ATTR 属性节点\n- ``谓语`` 用于匹配指定的标签\n    - 指定第二个``<a>``标签\n    - ``>>> test = html.xpath('//a[2]')``\n    - 指定前两个``<a>``标签\n    - ``>>> test = html.xpath('//a[position()<=2]')``\n    - 指定带有 href 属性的``<a>``标签\n    - ``>>> test = html.xpath('//a[@href]')``\n    - 指定带有 href 属性且值为 image1.html 的``<a>``标签\n    - ``>>> test = html.xpath('//a[@href=\"image1.html\"]')``\n    - 指定带有 href 属性且值包含 image 的``<a>``标签\n    - ``>>> test = html.xpath('//a[contains(@href,\"image\")]')``\n    "
    },
    {
      "metadata": {
        "colab_type": "text",
        "heading_collapsed": true,
        "hidden": true,
        "id": "PMF8yYWsrLT9"
      },
      "cell_type": "markdown",
      "source": "## 任务2\n"
    },
    {
      "metadata": {
        "colab_type": "text",
        "hidden": true,
        "id": "-SCdP2iTMgPA"
      },
      "cell_type": "markdown",
      "source": "- 爬取厦门大学百度百科的基本信息，并以csv的文件格式形式进行存储\n- 任务提示\n  - chrome 开发者工具直接复制xpath的信息往往会导致爬虫失败\n  - requests get到的html与谷歌浏览器get到的html是有区别的\n  - 爬取到的数据需要进行数据初步清洗，使其有较好的可阅读性哦！"
    },
    {
      "metadata": {
        "colab": {},
        "colab_type": "code",
        "hidden": true,
        "id": "TGQiVWMVqXLr",
        "trusted": true,
        "ExecuteTime": {
          "start_time": "2019-10-16T02:27:00.500829Z",
          "end_time": "2019-10-16T02:27:03.689653Z"
        }
      },
      "cell_type": "code",
      "source": "from lxml import etree\nimport requests\nheaders = ''\nurl = 'https://baike.baidu.com/item/%E5%8E%A6%E9%97%A8%E5%A4%A7%E5%AD%A6'\n####在这里写下你的代码吧####\nhtml = requests.get( \\\n    url,headers =headers)\n\nhtml.encoding='utf-8'\n\nhtml_xml = etree.HTML(html.text)\nkey = []\nvalue = []\nlen_dt_left = len(html_xml.xpath('//dl[contains(@class,\"basicInfo-block basicInfo-left\")]/dt'))\nlen_dt_right = len(html_xml.xpath('//dl[contains(@class,\"basicInfo-block basicInfo-right\")]/dt'))\nfor i in range(len_dt_left):\n    key.append(html_xml.xpath('//dl[contains(@class,\"basicInfo-block basicInfo-left\")]/dt[{}]//text()'.format(i+1)))\n    value.append(html_xml.xpath('//dl[contains(@class,\"basicInfo-block basicInfo-left\")]/dd[{}]//text()'.format(i+1)))\n\nfor i in range(len_dt_right):\n    key.append(html_xml.xpath('//dl[contains(@class,\"basicInfo-block basicInfo-right\")]/dt[{}]//text()'.format(i+1)))\n    value.append(html_xml.xpath('//dl[contains(@class,\"basicInfo-block basicInfo-right\")]/dd[{}]//text()'.format(i+1)))\n\n\nsubject = ['厦门大学' for i in range(len(key))] \n\n#字典中的key值即为csv中列名\ndataframe = pd.DataFrame({'subject':subject,'relation':key,'object':value})\n\n#将DataFrame存储为csv,index表示是否显示行名，default=True\ndataframe.to_csv(\"xmu_info.csv\",index=False,sep=',')\n\n\n\n\n\n####在这里写下你的代码吧####\n# return xmu_info",
      "execution_count": 19,
      "outputs": []
    },
    {
      "metadata": {
        "trusted": true
      },
      "cell_type": "code",
      "source": "from lxml import etree\nimport requests\nheaders = ''\nurl = 'https://baike.baidu.com/item/%E5%8E%A6%E9%97%A8%E5%A4%A7%E5%AD%A6'\ndef get_xmu_info:\n####在这里写下你的代码吧####\n\n\n\n\n\n\n####在这里写下你的代码吧####\n# return xmu_info",
      "execution_count": null,
      "outputs": []
    },
    {
      "metadata": {
        "hidden": true
      },
      "cell_type": "markdown",
      "source": "- run the cell below and check your answer"
    },
    {
      "metadata": {
        "colab": {},
        "colab_type": "code",
        "hidden": true,
        "id": "ZopzJ5zkWN6u",
        "trusted": true,
        "ExecuteTime": {
          "start_time": "2019-10-16T03:01:17.099091Z",
          "end_time": "2019-10-16T03:01:17.193076Z"
        }
      },
      "cell_type": "code",
      "source": "import pandas as pd\nimport re\nxmu = pd.read_csv(\"xmu_info.csv\",)\n# name = xmu.loc[(xmu['subject'] == '厦门大学') & (xmu['relation'] == '创办人')]['object'].to_string()\n# re.findall('.*?([\\u4e00-\\u9fa5]+)',name)\n# name = \"\".join(re.findall('.*?([\\u4e00-\\u9fa5]+)',name))\nxmu.head()",
      "execution_count": 64,
      "outputs": [
        {
          "output_type": "execute_result",
          "execution_count": 64,
          "data": {
            "text/html": "<div>\n<style scoped>\n    .dataframe tbody tr th:only-of-type {\n        vertical-align: middle;\n    }\n\n    .dataframe tbody tr th {\n        vertical-align: top;\n    }\n\n    .dataframe thead th {\n        text-align: right;\n    }\n</style>\n<table border=\"1\" class=\"dataframe\">\n  <thead>\n    <tr style=\"text-align: right;\">\n      <th></th>\n      <th>subject</th>\n      <th>relation</th>\n      <th>object</th>\n    </tr>\n  </thead>\n  <tbody>\n    <tr>\n      <th>0</th>\n      <td>厦门大学</td>\n      <td>['中文名']</td>\n      <td>['\\n厦门大学\\n']</td>\n    </tr>\n    <tr>\n      <th>1</th>\n      <td>厦门大学</td>\n      <td>['外文名']</td>\n      <td>['\\nXiamen University\\n']</td>\n    </tr>\n    <tr>\n      <th>2</th>\n      <td>厦门大学</td>\n      <td>['简\\xa0\\xa0\\xa0\\xa0称']</td>\n      <td>['\\n厦大（XMU）\\n']</td>\n    </tr>\n    <tr>\n      <th>3</th>\n      <td>厦门大学</td>\n      <td>['创办人']</td>\n      <td>['\\n陈嘉庚\\n']</td>\n    </tr>\n    <tr>\n      <th>4</th>\n      <td>厦门大学</td>\n      <td>['创办时间']</td>\n      <td>['\\n', '1921年', '4月6日\\n']</td>\n    </tr>\n  </tbody>\n</table>\n</div>",
            "text/plain": "  subject                relation                     object\n0    厦门大学                 ['中文名']               ['\\n厦门大学\\n']\n1    厦门大学                 ['外文名']  ['\\nXiamen University\\n']\n2    厦门大学  ['简\\xa0\\xa0\\xa0\\xa0称']            ['\\n厦大（XMU）\\n']\n3    厦门大学                 ['创办人']                ['\\n陈嘉庚\\n']\n4    厦门大学                ['创办时间']  ['\\n', '1921年', '4月6日\\n']"
          },
          "metadata": {}
        }
      ]
    },
    {
      "metadata": {
        "ExecuteTime": {
          "start_time": "2019-10-16T03:01:02.559583Z",
          "end_time": "2019-10-16T03:01:02.594294Z"
        },
        "trusted": true,
        "scrolled": true
      },
      "cell_type": "code",
      "source": "xmu.head()",
      "execution_count": 63,
      "outputs": [
        {
          "output_type": "execute_result",
          "execution_count": 63,
          "data": {
            "text/html": "<div>\n<style scoped>\n    .dataframe tbody tr th:only-of-type {\n        vertical-align: middle;\n    }\n\n    .dataframe tbody tr th {\n        vertical-align: top;\n    }\n\n    .dataframe thead th {\n        text-align: right;\n    }\n</style>\n<table border=\"1\" class=\"dataframe\">\n  <thead>\n    <tr style=\"text-align: right;\">\n      <th></th>\n      <th>subject</th>\n      <th>relation</th>\n      <th>object</th>\n    </tr>\n  </thead>\n  <tbody>\n    <tr>\n      <th>0</th>\n      <td>厦门大学</td>\n      <td>['中文名']</td>\n      <td>['\\n厦门大学\\n']</td>\n    </tr>\n    <tr>\n      <th>1</th>\n      <td>厦门大学</td>\n      <td>['外文名']</td>\n      <td>['\\nXiamen University\\n']</td>\n    </tr>\n    <tr>\n      <th>2</th>\n      <td>厦门大学</td>\n      <td>['简\\xa0\\xa0\\xa0\\xa0称']</td>\n      <td>['\\n厦大（XMU）\\n']</td>\n    </tr>\n    <tr>\n      <th>3</th>\n      <td>厦门大学</td>\n      <td>['创办人']</td>\n      <td>['\\n陈嘉庚\\n']</td>\n    </tr>\n    <tr>\n      <th>4</th>\n      <td>厦门大学</td>\n      <td>['创办时间']</td>\n      <td>['\\n', '1921年', '4月6日\\n']</td>\n    </tr>\n  </tbody>\n</table>\n</div>",
            "text/plain": "  subject                relation                     object\n0    厦门大学                 ['中文名']               ['\\n厦门大学\\n']\n1    厦门大学                 ['外文名']  ['\\nXiamen University\\n']\n2    厦门大学  ['简\\xa0\\xa0\\xa0\\xa0称']            ['\\n厦大（XMU）\\n']\n3    厦门大学                 ['创办人']                ['\\n陈嘉庚\\n']\n4    厦门大学                ['创办时间']  ['\\n', '1921年', '4月6日\\n']"
          },
          "metadata": {}
        }
      ]
    },
    {
      "metadata": {
        "colab_type": "text",
        "hidden": true,
        "id": "A5GpzSEatERU"
      },
      "cell_type": "markdown",
      "source": "陈嘉庚"
    },
    {
      "metadata": {
        "colab_type": "text",
        "heading_collapsed": true,
        "hidden": true,
        "id": "xKCl4VJtJlaI"
      },
      "cell_type": "markdown",
      "source": "## requests-html\n"
    },
    {
      "metadata": {
        "colab_type": "text",
        "hidden": true,
        "id": "Fz294Xt7MKX5"
      },
      "cell_type": "markdown",
      "source": "- ![alt text](http://html.python-requests.org/_static/requests-html-logo.png)\n- 自从有了Requests-HTML，妈妈真的不用再担心我的学习了。正则匹配，所爬内容与浏览器不符合？xpath难找？beautiful soup 太慢？还要写User-Agent?Javascript 生成的内容没办法爬？一站式解决方案----Requests-HTML!\n- Chrome CSS Seletors copy and apply it at Requests-HTML and you will find a better world!\n- ![](https://drive.google.com/uc?export=view&id=1VATu6YbMmDyNy9ZaZy959DQ6jsg5mTWs)"
    },
    {
      "metadata": {
        "colab_type": "text",
        "heading_collapsed": true,
        "hidden": true,
        "id": "UXS29nxD7m3u"
      },
      "cell_type": "markdown",
      "source": "### 安装 requests-html"
    },
    {
      "metadata": {
        "colab": {},
        "colab_type": "code",
        "hidden": true,
        "id": "jvMsorS8K5vw",
        "scrolled": true,
        "trusted": true,
        "ExecuteTime": {
          "start_time": "2019-10-16T02:48:32.197587Z",
          "end_time": "2019-10-16T02:49:08.150022Z"
        }
      },
      "cell_type": "code",
      "source": "!pip install requests-html",
      "execution_count": 49,
      "outputs": [
        {
          "output_type": "stream",
          "text": "Collecting requests-html\n  Downloading https://files.pythonhosted.org/packages/24/bc/a4380f09bab3a776182578ce6b2771e57259d0d4dbce178205779abdc347/requests_html-0.10.0-py3-none-any.whl\nCollecting pyquery (from requests-html)\n  Downloading https://files.pythonhosted.org/packages/09/c7/ce8c9c37ab8ff8337faad3335c088d60bed4a35a4bed33a64f0e64fbcf29/pyquery-1.4.0-py2.py3-none-any.whl\nRequirement already satisfied: requests in /home/nbuser/anaconda3_501/lib/python3.6/site-packages (from requests-html) (2.22.0)\nCollecting fake-useragent (from requests-html)\n  Downloading https://files.pythonhosted.org/packages/d1/79/af647635d6968e2deb57a208d309f6069d31cb138066d7e821e575112a80/fake-useragent-0.1.11.tar.gz\nCollecting parse (from requests-html)\n  Downloading https://files.pythonhosted.org/packages/84/4d/5578a484f4a3ec5d4440a95731a104a96a12a6fb57385292d3e7b74d8f6d/parse-1.12.1.tar.gz\nCollecting pyppeteer>=0.0.14 (from requests-html)\n\u001b[?25l  Downloading https://files.pythonhosted.org/packages/b0/16/a5e8d617994cac605f972523bb25f12e3ff9c30baee29b4a9c50467229d9/pyppeteer-0.0.25.tar.gz (1.2MB)\n\u001b[K     |████████████████████████████████| 1.2MB 4.4MB/s eta 0:00:01\n\u001b[?25hCollecting bs4 (from requests-html)\n  Downloading https://files.pythonhosted.org/packages/10/ed/7e8b97591f6f456174139ec089c769f89a94a1a4025fe967691de971f314/bs4-0.0.1.tar.gz\nCollecting w3lib (from requests-html)\n  Downloading https://files.pythonhosted.org/packages/6a/45/1ba17c50a0bb16bd950c9c2b92ec60d40c8ebda9f3371ae4230c437120b6/w3lib-1.21.0-py2.py3-none-any.whl\nCollecting cssselect>0.7.9 (from pyquery->requests-html)\n  Downloading https://files.pythonhosted.org/packages/3b/d4/3b5c17f00cce85b9a1e6f91096e1cc8e8ede2e1be8e96b87ce1ed09e92c5/cssselect-1.1.0-py2.py3-none-any.whl\nRequirement already satisfied: lxml>=2.1 in /home/nbuser/anaconda3_501/lib/python3.6/site-packages (from pyquery->requests-html) (4.2.5)\nRequirement already satisfied: idna<2.9,>=2.5 in /home/nbuser/anaconda3_501/lib/python3.6/site-packages (from requests->requests-html) (2.7)\nRequirement already satisfied: chardet<3.1.0,>=3.0.2 in /home/nbuser/anaconda3_501/lib/python3.6/site-packages (from requests->requests-html) (3.0.4)\nRequirement already satisfied: urllib3!=1.25.0,!=1.25.1,<1.26,>=1.21.1 in /home/nbuser/anaconda3_501/lib/python3.6/site-packages (from requests->requests-html) (1.23)\nRequirement already satisfied: certifi>=2017.4.17 in /home/nbuser/anaconda3_501/lib/python3.6/site-packages (from requests->requests-html) (2018.10.15)\nCollecting pyee (from pyppeteer>=0.0.14->requests-html)\n  Downloading https://files.pythonhosted.org/packages/ad/d8/5608d571ffad3d7de0192b0b3099fe3f38d87c0817ebff3cee19264f0bc2/pyee-6.0.0-py2.py3-none-any.whl\nCollecting websockets (from pyppeteer>=0.0.14->requests-html)\n\u001b[?25l  Downloading https://files.pythonhosted.org/packages/f0/4b/ad228451b1c071c5c52616b7d4298ebcfcac5ae8515ede959db19e4cd56d/websockets-8.0.2-cp36-cp36m-manylinux1_x86_64.whl (72kB)\n\u001b[K     |████████████████████████████████| 81kB 10.2MB/s eta 0:00:01\n\u001b[?25hRequirement already satisfied: appdirs in /home/nbuser/anaconda3_501/lib/python3.6/site-packages (from pyppeteer>=0.0.14->requests-html) (1.4.3)\nRequirement already satisfied: tqdm in /home/nbuser/anaconda3_501/lib/python3.6/site-packages (from pyppeteer>=0.0.14->requests-html) (4.26.0)\nRequirement already satisfied: beautifulsoup4 in /home/nbuser/anaconda3_501/lib/python3.6/site-packages (from bs4->requests-html) (4.6.3)\nRequirement already satisfied: six>=1.4.1 in /home/nbuser/anaconda3_501/lib/python3.6/site-packages (from w3lib->requests-html) (1.11.0)\nBuilding wheels for collected packages: fake-useragent, parse, pyppeteer, bs4\n  Building wheel for fake-useragent (setup.py) ... \u001b[?25ldone\n\u001b[?25h  Created wheel for fake-useragent: filename=fake_useragent-0.1.11-cp36-none-any.whl size=13084 sha256=8a7e0fe0bebd00878e85259f89e1e0a4b6038ad4b1f5e954120d3f88cb86800a\n  Stored in directory: /home/nbuser/.cache/pip/wheels/5e/63/09/d1dc15179f175357d3f5c00cbffbac37f9e8690d80545143ff\n  Building wheel for parse (setup.py) ... \u001b[?25ldone\n\u001b[?25h  Created wheel for parse: filename=parse-1.12.1-cp36-none-any.whl size=29600 sha256=4ea25d4e395795eb8a08e24a6eb9ba5a914cbe130570c6350ccceb5ad03f8ae3\n  Stored in directory: /home/nbuser/.cache/pip/wheels/16/f1/d5/72f7e2c22ab3d106bb6f7d727552b5e027b832284f4704b106\n  Building wheel for pyppeteer (setup.py) ... \u001b[?25ldone\n\u001b[?25h  Created wheel for pyppeteer: filename=pyppeteer-0.0.25-cp36-none-any.whl size=80407 sha256=b4a82f98110c43187dbd0edc76fd02fef04c1235e0ceaacd497feae43d43c27f\n  Stored in directory: /home/nbuser/.cache/pip/wheels/34/e0/5d/070e22eceecf7ecd5fa4b86bbc18c1c7d0b90e02e9b57f35eb\n  Building wheel for bs4 (setup.py) ... \u001b[?25ldone\n\u001b[?25h  Created wheel for bs4: filename=bs4-0.0.1-cp36-none-any.whl size=2248 sha256=1552e74f8cc3d897dc289bfb582372f786fe554050c76f26fceec86ce0a98182\n  Stored in directory: /home/nbuser/.cache/pip/wheels/a0/b0/b2/4f80b9456b87abedbc0bf2d52235414c3467d8889be38dd472\nSuccessfully built fake-useragent parse pyppeteer bs4\nInstalling collected packages: cssselect, pyquery, fake-useragent, parse, pyee, websockets, pyppeteer, bs4, w3lib, requests-html\nSuccessfully installed bs4-0.0.1 cssselect-1.1.0 fake-useragent-0.1.11 parse-1.12.1 pyee-6.0.0 pyppeteer-0.0.25 pyquery-1.4.0 requests-html-0.10.0 w3lib-1.21.0 websockets-8.0.2\n\u001b[33mWARNING: You are using pip version 19.2.2, however version 19.3 is available.\nYou should consider upgrading via the 'pip install --upgrade pip' command.\u001b[0m\n",
          "name": "stdout"
        }
      ]
    },
    {
      "metadata": {
        "heading_collapsed": true,
        "hidden": true
      },
      "cell_type": "markdown",
      "source": "### Tutorial & Usage"
    },
    {
      "metadata": {
        "heading_collapsed": true,
        "hidden": true
      },
      "cell_type": "markdown",
      "source": "#### requests"
    },
    {
      "metadata": {
        "hidden": true,
        "trusted": false
      },
      "cell_type": "code",
      "source": "from requests_html import HTMLSession\nsession = HTMLSession()\n\nr = session.get('https://baike.baidu.com/item/%E5%8E%A6%E9%97%A8%E5%A4%A7%E5%AD%A6')",
      "execution_count": 7,
      "outputs": []
    },
    {
      "metadata": {
        "heading_collapsed": true,
        "hidden": true
      },
      "cell_type": "markdown",
      "source": "#### complex CSS Selector example (copied from Chrome dev tools)"
    },
    {
      "metadata": {
        "hidden": true
      },
      "cell_type": "markdown",
      "source": "![img](./img/chrome5.gif)"
    },
    {
      "metadata": {
        "hidden": true,
        "trusted": false
      },
      "cell_type": "code",
      "source": "sel = 'body > div.body-wrapper.feature.feature_small.collegeSmall > div.content-wrapper > div > div.main-content > div.main_tab.main_tab-defaultTab.curTab > div.basic-info.cmn-clearfix > dl.basicInfo-block.basicInfo-right > dd:nth-child(8)'\n\nprint(r.html.find(sel, first=True).text)",
      "execution_count": 9,
      "outputs": [
        {
          "name": "stdout",
          "output_type": "stream",
          "text": "自强不息 止于至善\n"
        }
      ]
    },
    {
      "metadata": {
        "colab_type": "text",
        "heading_collapsed": true,
        "hidden": true,
        "id": "Agcxp0VSzwAU"
      },
      "cell_type": "markdown",
      "source": "## 推荐阅读\n- [Requests-HTML: HTML Parsing for Humans ](https://html.python-requests.org/)"
    },
    {
      "metadata": {
        "colab_type": "text",
        "heading_collapsed": true,
        "hidden": true,
        "id": "6zHyN8eZ66KB"
      },
      "cell_type": "markdown",
      "source": "## 任务3(选做)\n"
    },
    {
      "metadata": {
        "colab_type": "text",
        "hidden": true,
        "id": "5QDoWu2YMR2Q"
      },
      "cell_type": "markdown",
      "source": "- 使用requests-html 获取陈嘉庚先生的百度百科信息"
    },
    {
      "metadata": {
        "ExecuteTime": {
          "start_time": "2019-10-16T02:49:19.656667Z",
          "end_time": "2019-10-16T02:49:23.088765Z"
        },
        "trusted": true
      },
      "cell_type": "code",
      "source": "# 数据爬取\n\nfrom requests_html import HTMLSession\nsession = HTMLSession()\nr = session.get('https://baike.baidu.com/item/%E5%8E%A6%E9%97%A8%E5%A4%A7%E5%AD%A6')                         \n## lenth = len(r.html.xpath('//dl[contains(@class,\"basicInfo-block basicInfo-left\")]/dt''))\nlength_left = len(r.html.xpath('//dl[contains(@class,\"basicInfo-block basicInfo-left\")]/dt'))\nlength_right = len(r.html.xpath('//dl[contains(@class,\"basicInfo-block basicInfo-right\")]/dt'))\nkey = []\nvalue = []\nfor i in range(1,length_left+1):                        \n    sel_key = 'body > div.body-wrapper.feature.feature_small.collegeSmall > div.content-wrapper > div > div.main-content > div.main_tab.main_tab-defaultTab.curTab > div.basic-info.cmn-clearfix > dl.basicInfo-block.basicInfo-left > dt:nth-child({})'.format(2*(i-1)+1) \n    sel_value = 'body > div.body-wrapper.feature.feature_small.collegeSmall > div.content-wrapper > div > div.main-content > div.main_tab.main_tab-defaultTab.curTab > div.basic-info.cmn-clearfix > dl.basicInfo-block.basicInfo-left > dd:nth-child({})'.format(2*i)\n    key.append(r.html.find(sel_key, first=True).text) \n    value.append(r.html.find(sel_value, first=True).text) \n\nfor i in range(1,length_right+1):                        \n    sel_key = 'body > div.body-wrapper.feature.feature_small.collegeSmall > div.content-wrapper > div > div.main-content > div.main_tab.main_tab-defaultTab.curTab > div.basic-info.cmn-clearfix > dl.basicInfo-block.basicInfo-right > dt:nth-child({})'.format(2*(i-1)+1)\n    sel_value = 'body > div.body-wrapper.feature.feature_small.collegeSmall > div.content-wrapper > div > div.main-content > div.main_tab.main_tab-defaultTab.curTab > div.basic-info.cmn-clearfix > dl.basicInfo-block.basicInfo-right > dd:nth-child({})'.format(2*i)\n    key.append(r.html.find(sel_key, first=True).text) \n    value.append(r.html.find(sel_value, first=True).text) \n\n# 数据存储\n\nimport pandas as pd\n\nsubject = ['厦门大学' for i in range(len(key))] \n\n##字典中的key值即为csv中列名\ndataframe = pd.DataFrame({'subject':subject,'relation':key,'object':value})\n\n##将DataFrame存储为csv,index表示是否显示行名，default=True\ndataframe.to_csv(\"xmu_info_new.csv\",index=False,sep=',')",
      "execution_count": 50,
      "outputs": []
    },
    {
      "metadata": {
        "ExecuteTime": {
          "start_time": "2019-10-16T02:59:52.926664Z",
          "end_time": "2019-10-16T02:59:53.004328Z"
        },
        "trusted": true
      },
      "cell_type": "code",
      "source": "import pandas as pd\nimport re\nxmu = pd.read_csv(\"xmu_info_new.csv\")\nname = xmu.loc[(xmu['subject'] == '厦门大学') & (xmu['relation'] == '创办人')]['object'].to_string()\nre.findall('.*?([\\u4e00-\\u9fa5]+)',name)\nname = \"\".join(re.findall('.*?([\\u4e00-\\u9fa5]+)',name))\nprint(name)",
      "execution_count": 60,
      "outputs": [
        {
          "output_type": "stream",
          "text": "陈嘉庚\n",
          "name": "stdout"
        }
      ]
    },
    {
      "metadata": {
        "ExecuteTime": {
          "start_time": "2019-10-16T02:59:54.462929Z",
          "end_time": "2019-10-16T02:59:54.487027Z"
        },
        "trusted": true
      },
      "cell_type": "code",
      "source": "xmu.head()",
      "execution_count": 61,
      "outputs": [
        {
          "output_type": "execute_result",
          "execution_count": 61,
          "data": {
            "text/html": "<div>\n<style scoped>\n    .dataframe tbody tr th:only-of-type {\n        vertical-align: middle;\n    }\n\n    .dataframe tbody tr th {\n        vertical-align: top;\n    }\n\n    .dataframe thead th {\n        text-align: right;\n    }\n</style>\n<table border=\"1\" class=\"dataframe\">\n  <thead>\n    <tr style=\"text-align: right;\">\n      <th></th>\n      <th>subject</th>\n      <th>relation</th>\n      <th>object</th>\n    </tr>\n  </thead>\n  <tbody>\n    <tr>\n      <th>0</th>\n      <td>厦门大学</td>\n      <td>中文名</td>\n      <td>厦门大学</td>\n    </tr>\n    <tr>\n      <th>1</th>\n      <td>厦门大学</td>\n      <td>外文名</td>\n      <td>Xiamen University</td>\n    </tr>\n    <tr>\n      <th>2</th>\n      <td>厦门大学</td>\n      <td>简    称</td>\n      <td>厦大（XMU）</td>\n    </tr>\n    <tr>\n      <th>3</th>\n      <td>厦门大学</td>\n      <td>创办人</td>\n      <td>陈嘉庚</td>\n    </tr>\n    <tr>\n      <th>4</th>\n      <td>厦门大学</td>\n      <td>创办时间</td>\n      <td>1921年4月6日</td>\n    </tr>\n  </tbody>\n</table>\n</div>",
            "text/plain": "  subject relation             object\n0    厦门大学      中文名               厦门大学\n1    厦门大学      外文名  Xiamen University\n2    厦门大学   简    称            厦大（XMU）\n3    厦门大学      创办人                陈嘉庚\n4    厦门大学     创办时间          1921年4月6日"
          },
          "metadata": {}
        }
      ]
    },
    {
      "metadata": {
        "colab_type": "text",
        "heading_collapsed": true,
        "id": "owvtomY2Q8sD"
      },
      "cell_type": "markdown",
      "source": "# 数据存储\n\n"
    },
    {
      "metadata": {
        "colab_type": "text",
        "heading_collapsed": true,
        "hidden": true,
        "id": "2fHQb7kRw3C8"
      },
      "cell_type": "markdown",
      "source": "## 常见的数据格式\n\n \n\n "
    },
    {
      "metadata": {
        "colab_type": "text",
        "hidden": true,
        "id": "WWY0UtgvMvCP"
      },
      "cell_type": "markdown",
      "source": "- ![img](./img/kaggle.png)\n- kaggle比赛可以算是最大的数据科学竞赛平台，我们可以常常在上面见到的数据集是以csv，json等格式存储的\n  - csv 和txt 格式一样 纯文本文件，因此它在web数据传输中最快最便利\n  - json格式，我们已经知道xml格式是由key-value的格式组成(我们什么时候知道的？XDD)，但是它又太高冷，不够平易近人，而json格式就像python字典的格式一样容易被人理解。因此它可读又易维护。"
    },
    {
      "metadata": {
        "colab_type": "text",
        "hidden": true,
        "id": "ejXW9IJJ18rK"
      },
      "cell_type": "markdown",
      "source": " ### quiz\n - 为什么csv和json流行？\n \n \n "
    },
    {
      "metadata": {
        "colab_type": "text",
        "hidden": true,
        "id": "JTvaA0Ww2CTK"
      },
      "cell_type": "markdown",
      "source": " ### 推荐阅读\n - [pandas-csv](https://pandas.pydata.org/pandas-docs/version/0.21/generated/pandas.read_csv.html)\n - [json介绍](https://www.json.org/json-zh.html)"
    },
    {
      "metadata": {
        "colab_type": "text",
        "heading_collapsed": true,
        "hidden": true,
        "id": "A2bqX2OWwBMd"
      },
      "cell_type": "markdown",
      "source": "## 任务4(选做)"
    },
    {
      "metadata": {
        "colab_type": "text",
        "hidden": true,
        "id": "V9egJ7reM1zH"
      },
      "cell_type": "markdown",
      "source": "- 爬取豆瓣电影top250 并存储为json文件\n- 提示\n  - 此任务为选做哦，所有选做任务都可以全做的XDDD"
    },
    {
      "metadata": {
        "colab_type": "text",
        "heading_collapsed": true,
        "hidden": true,
        "id": "HnbEoNeoRCyp"
      },
      "cell_type": "markdown",
      "source": "## MongoDB\n![alt text](https://upload.wikimedia.org/wikipedia/commons/thumb/0/00/Mongodb.png/330px-Mongodb.png)\n\n\n\n"
    },
    {
      "metadata": {
        "colab_type": "text",
        "heading_collapsed": true,
        "hidden": true,
        "id": "6kdl9ItRQSWp"
      },
      "cell_type": "markdown",
      "source": "### 为什么使用MongoDB\n- 在进行爬虫时，很难预料所爬取的数据类型的格式与预期的完全一致，使用非关系型数据库不用担心有数据字段长度溢出的风险，不用在意表结构的设计，并且其数据存储方式与json格式类似，非常方便后期的数据处理。而MongoDB是当下Nosql中的佼佼者。因此选择MongoDB作为爬虫数据库的存储方式十分适用。"
    },
    {
      "metadata": {
        "colab_type": "text",
        "heading_collapsed": true,
        "hidden": true,
        "id": "CgfSgAPSQOdT"
      },
      "cell_type": "markdown",
      "source": "### 推荐阅读\n- [linux环境安装MongoDB](https://docs.mongodb.com/manual/tutorial/install-mongodb-on-ubuntu/)\n- [linux环境下mongoDB的初始配置及使用](https://medium.com/founding-ithaka/setting-up-and-connecting-to-a-remote-mongodb-database-5df754a4da89)\n- [pymongo-github](https://github.com/mongodb/mongo-python-driver)\n\n#### 温馨提示\n- 建议不在win环境下使用数据库，建议使用环境Ubuntu18.04 LTS\n"
    },
    {
      "metadata": {
        "colab_type": "text",
        "heading_collapsed": true,
        "hidden": true,
        "id": "Y3zqXqoiNz-E"
      },
      "cell_type": "markdown",
      "source": "### pymongo\n- 先在数据库中新建mylib数据库再对books这个collection插入“一本名为mongodb的书吧！”\n- 然后再修改对应的用户名和密码以及ip端口并执行以下cell吧"
    },
    {
      "metadata": {
        "colab": {},
        "colab_type": "code",
        "hidden": true,
        "id": "XkSwWLoFn3O1",
        "trusted": false
      },
      "cell_type": "code",
      "source": "from pymongo import MongoClient\nuser = 'XXXX'\npwd = 'XXXXX'\nhost = 'xxx.xxx.xxx.xxx '\nport = '27017'\ndb_name = 'admin'\n \nuri = \"mongodb://%s:%s@%s\" % (user, pwd, host + \":\" + port + \"/\" + db_name)\n \n#连接数据库\n \nclient = MongoClient(uri)\n \n# db = client[db_name]\n# data = db['test']   #导入对应的表，这里是“test”表\n\ndb = client.mylib\ncollection = db.books\nresult = collection.find_one({  \"name\" : \"mongodb\" })",
      "execution_count": 0,
      "outputs": []
    },
    {
      "metadata": {
        "colab": {
          "base_uri": "https://localhost:8080/",
          "height": 34
        },
        "colab_type": "code",
        "executionInfo": {
          "elapsed": 693,
          "status": "ok",
          "timestamp": 1563767607093,
          "user": {
            "displayName": "jay lee",
            "photoUrl": "",
            "userId": "04504079774687613180"
          },
          "user_tz": -480
        },
        "hidden": true,
        "id": "wLoF_YjKmyDb",
        "outputId": "a396fd29-12fc-4934-fd88-4e0ef4b36cd2",
        "trusted": false
      },
      "cell_type": "code",
      "source": "result",
      "execution_count": 0,
      "outputs": [
        {
          "data": {
            "text/plain": "{'_id': ObjectId('5d35310bafd79930fddb603c'), 'name': 'mongodb'}"
          },
          "execution_count": 7,
          "metadata": {
            "tags": []
          },
          "output_type": "execute_result"
        }
      ]
    },
    {
      "metadata": {
        "colab_type": "text",
        "hidden": true,
        "id": "_Qtfn0m9RCaT"
      },
      "cell_type": "markdown",
      "source": "## 任务5\n"
    },
    {
      "metadata": {
        "colab_type": "text",
        "hidden": true,
        "id": "rqRsQzzvM-zo"
      },
      "cell_type": "markdown",
      "source": "- 爬取当当网2018年的热销图书数据并存储在mongodb数据库中\n- 提示\n  - 实体数据包括\n    - 图书名字\n    - 图书图片地址\n    - 图书出版日期\n    - 出版社\n    - 当前价格\n    - 折扣\n    - 评论数目"
    },
    {
      "metadata": {
        "colab": {},
        "colab_type": "code",
        "hidden": true,
        "id": "RmvCyTuNZ0GM",
        "trusted": false
      },
      "cell_type": "code",
      "source": "!pip install requests-html\n!pip install pymongo",
      "execution_count": 0,
      "outputs": []
    },
    {
      "metadata": {
        "colab": {},
        "colab_type": "code",
        "hidden": true,
        "id": "9Kf7UkI6bDM9",
        "trusted": false
      },
      "cell_type": "code",
      "source": "from requests_html import HTMLSession\nfrom pymongo import MongoClient\nsession = HTMLSession()\ntitle = []\ncomment_number = []\nP_date = []\nprice = []\ndiscount = []\n\n## 数据爬取\n####在这里键入你的代码####\n\n\n\n####在这里键入你的代码####\n\n## 数据存储\nuser = ' '\npwd = '  '\nhost = '  '\nport = '  '\ndb_name = '  '\nuri = \"mongodb://%s:%s@%s\" % (user, pwd, host + \":\" + port + \"/\" + db_name)\n####在这里键入你的代码####\n\n\n\n\n####在这里键入你的代码####\n",
      "execution_count": 0,
      "outputs": []
    },
    {
      "metadata": {
        "hidden": true
      },
      "cell_type": "markdown",
      "source": "- run the cell below to check your answer"
    },
    {
      "metadata": {
        "hidden": true,
        "trusted": false
      },
      "cell_type": "code",
      "source": "from pymongo import MongoClient\nuser = 'ja1le1'\npwd = '123456az'\nhost = '35.225.31.220'\nport = '27017'\ndb_name = 'admin' \nuri = \"mongodb://%s:%s@%s\" % (user, pwd, host + \":\" + port + \"/\" + db_name) \nclient = MongoClient(uri)\ndb = client.mylib\ncollection = db.DDbooks\nresult = collection.find_one({\"title\":\"追风筝的人（2018年新版）\"})\nprint(result)",
      "execution_count": 14,
      "outputs": [
        {
          "name": "stdout",
          "output_type": "stream",
          "text": "{'discount': '9.5折', 'title': '追风筝的人（2018年新版）', 'comment_number': '2445188条评论', '_id': ObjectId('5d3569dbd6fd52c2dabab476'), 'publish_date': '2006-05-01', 'price': '¥34.20'}\n"
        }
      ]
    },
    {
      "metadata": {
        "hidden": true
      },
      "cell_type": "markdown",
      "source": "{'discount': '9.5折', 'title': '追风筝的人（2018年新版）', 'comment_number': '2445188条评论', '_id': ObjectId('5d3569dbd6fd52c2dabab476'), 'publish_date': '2006-05-01', 'price': '¥34.20'}\n"
    },
    {
      "metadata": {
        "hidden": true
      },
      "cell_type": "markdown",
      "source": "- 注:具体价格评论数，折扣会有所变动"
    },
    {
      "metadata": {
        "colab_type": "text",
        "hidden": true,
        "id": "o8vQMycX992o"
      },
      "cell_type": "markdown",
      "source": "### 结果预览\n- 使用Mongodb官方的 Compass Community 可视化数据库\n![img](./img/mongodb.png)\n"
    },
    {
      "metadata": {},
      "cell_type": "markdown",
      "source": "# 实践作业--爬取豆瓣动漫类电影评论--提示"
    },
    {
      "metadata": {},
      "cell_type": "markdown",
      "source": "## 秒速5厘米评论爬取-tips-实体提示"
    },
    {
      "metadata": {
        "ExecuteTime": {
          "start_time": "2019-10-15T10:43:18.172893Z",
          "end_time": "2019-10-15T10:43:25.624971Z"
        },
        "trusted": true
      },
      "cell_type": "code",
      "source": "from requests_html import HTMLSession\nsession = HTMLSession()\n\nurl= 'https://movie.douban.com/subject/2043546/comments?start=0&limit=20&sort=new_score&status=P'\nr = session.get(url)",
      "execution_count": 4,
      "outputs": []
    },
    {
      "metadata": {
        "trusted": true
      },
      "cell_type": "code",
      "source": "sel = '#comments > div:nth-child(1) > div.comment > p > span'\n\nprint(r.html.find(sel, first=True).text)",
      "execution_count": null,
      "outputs": []
    },
    {
      "metadata": {},
      "cell_type": "markdown",
      "source": "### username"
    },
    {
      "metadata": {
        "ExecuteTime": {
          "start_time": "2019-10-15T10:43:34.208556Z",
          "end_time": "2019-10-15T10:43:34.596112Z"
        },
        "trusted": true
      },
      "cell_type": "code",
      "source": "sel = '#comments > div:nth-child(2) > div.comment > h3 > span.comment-info > a'\n\nprint(r.html.find(sel, first=True).text)",
      "execution_count": 5,
      "outputs": [
        {
          "output_type": "stream",
          "text": "littletwo\n",
          "name": "stdout"
        }
      ]
    },
    {
      "metadata": {
        "ExecuteTime": {
          "start_time": "2019-10-15T10:43:48.933276Z",
          "end_time": "2019-10-15T10:43:48.971858Z"
        },
        "trusted": true
      },
      "cell_type": "code",
      "source": "sel = '#comments > div:nth-child(20) > div.comment > h3 > span.comment-info > a'\n\nprint(r.html.find(sel, first=True).text)",
      "execution_count": 6,
      "outputs": [
        {
          "output_type": "stream",
          "text": "艾小柯\n",
          "name": "stdout"
        }
      ]
    },
    {
      "metadata": {
        "ExecuteTime": {
          "start_time": "2019-10-15T10:44:07.172998Z",
          "end_time": "2019-10-15T10:44:07.195078Z"
        }
      },
      "cell_type": "markdown",
      "source": "### time"
    },
    {
      "metadata": {
        "ExecuteTime": {
          "start_time": "2019-10-15T10:44:02.304359Z",
          "end_time": "2019-10-15T10:44:02.330581Z"
        },
        "trusted": true
      },
      "cell_type": "code",
      "source": "sel = '#comments > div:nth-child(1) > div.comment > h3 > span.comment-info > span.comment-time'\n\nprint(r.html.find(sel, first=True).text)\n#comments > div:nth-child(4) > div.comment > h3 > span.comment-info > span.comment-time",
      "execution_count": 7,
      "outputs": [
        {
          "output_type": "stream",
          "text": "2011-03-28\n",
          "name": "stdout"
        }
      ]
    },
    {
      "metadata": {},
      "cell_type": "markdown",
      "source": "### img"
    },
    {
      "metadata": {},
      "cell_type": "markdown",
      "source": "- 使用正则 + xml"
    },
    {
      "metadata": {
        "ExecuteTime": {
          "start_time": "2019-10-15T10:44:48.605316Z",
          "end_time": "2019-10-15T10:44:48.637507Z"
        },
        "trusted": true
      },
      "cell_type": "code",
      "source": "import re\nxpath_img = '//*[@id=\"comments\"]/div[1]/div[1]/a/img'\nres_img = r'src=(.*)>' \n\nprint(re.findall(res_img,str(r.html.xpath(xpath_img)[0]))[0])\n# //*[@id=\"comments\"]/div[2]/div[1]/a/img",
      "execution_count": 10,
      "outputs": [
        {
          "output_type": "stream",
          "text": "'https://img3.doubanio.com/icon/u1032989-51.jpg'\n",
          "name": "stdout"
        }
      ]
    },
    {
      "metadata": {},
      "cell_type": "markdown",
      "source": "### comment"
    },
    {
      "metadata": {
        "ExecuteTime": {
          "start_time": "2019-10-15T10:45:13.985589Z",
          "end_time": "2019-10-15T10:45:14.020247Z"
        },
        "trusted": true
      },
      "cell_type": "code",
      "source": "sel = '#comments > div:nth-child(1) > div.comment > p > span'\n\nprint(r.html.find(sel, first=True).text)",
      "execution_count": 11,
      "outputs": [
        {
          "output_type": "stream",
          "text": "额，这个确实可以帧帧截图当桌面。又是无法当面说爱你，新海诚童年一定在此类事件上受过打击。以至于反复重复这一话题。\n",
          "name": "stdout"
        }
      ]
    },
    {
      "metadata": {},
      "cell_type": "markdown",
      "source": "### votes"
    },
    {
      "metadata": {
        "ExecuteTime": {
          "start_time": "2019-10-15T10:45:20.307687Z",
          "end_time": "2019-10-15T10:45:20.343543Z"
        },
        "trusted": true
      },
      "cell_type": "code",
      "source": "sel = '#comments > div:nth-child(1) > div.comment > h3 > span.comment-vote > span'\n\nprint(r.html.find(sel, first=True).text)",
      "execution_count": 12,
      "outputs": [
        {
          "output_type": "stream",
          "text": "727\n",
          "name": "stdout"
        }
      ]
    },
    {
      "metadata": {},
      "cell_type": "markdown",
      "source": "## 秒速5厘米评论爬取-tips- js动态加载"
    },
    {
      "metadata": {
        "trusted": true
      },
      "cell_type": "code",
      "source": "from requests_html import HTMLSession\nsession = HTMLSession()\nimport time\n\nfor i in range(3):\n    url = 'https://movie.douban.com/j/new_search_subjects?sort=U&range=0,10&tags=%E5%8A%A8%E6%BC%AB&start={}'.format(i*20)\n    try:\n        file = session.get(url).json()\n    except:\n        break\n#     url = 'https://movie.douban.com/j/new_search_subjects?sort=U&range=0,10&tags=%E5%8A%A8%E6%BC%AB&start={}'.format(i*20)\n#     file = session.get(url).json()   #这里跟之前的不一样，因为返回的是 json 文件\n    time.sleep(2)\n\n    for i in range(20):\n        dict=file['data'][i]   #取出字典中 'data' 下第 [i] 部电影的信息\n        urlname=dict['url']\n        title=dict['title']\n        rate=dict['rate']\n        cast=dict['casts']\n\n        print('{}  {}  {}  {}\\n'.format(title,rate,'  '.join(cast),urlname))",
      "execution_count": null,
      "outputs": []
    },
    {
      "metadata": {},
      "cell_type": "markdown",
      "source": "# 数据科学的一点思考"
    },
    {
      "metadata": {},
      "cell_type": "markdown",
      "source": "- 只有根据智能体目标需求的变化而变化的智能体才叫人工智能，而无需设计者重复参与其中\n    - 审时度势，具体事情具体分析，等等\n- 当前的人工智能无法满足这种强人工智能的要求\n    - 当前的人工智能的学习方法只限于理性思维\n    - 感性思维是需要人类去参与其中\n- 人工智能会取代人类吗？\n    - 蒸汽机会取代人类吗?\n    - 内燃机会取代人类吗?\n    - 发电机会取代人类吗?\n- 市场经济与宏观调控(拟态)\n    - 人工智能可以满足大多数人，但是多数人的观点不一定是对的(有水军)(人工智能是一个人云亦云的高手)\n    - 需要宏观调控(人工参与)"
    },
    {
      "metadata": {
        "colab_type": "text",
        "heading_collapsed": true,
        "id": "_GPe8qeo4tCQ"
      },
      "cell_type": "markdown",
      "source": "# TO BE CONTINUED"
    },
    {
      "metadata": {},
      "cell_type": "markdown",
      "source": "![img](./img/tobecontinue.jpg)"
    },
    {
      "metadata": {
        "colab_type": "text",
        "hidden": true,
        "id": "ZF5I34ZjwL61"
      },
      "cell_type": "markdown",
      "source": "## Post 方式爬取"
    },
    {
      "metadata": {
        "colab_type": "text",
        "hidden": true,
        "id": "1aX_Y4tfuXFk"
      },
      "cell_type": "markdown",
      "source": "## 多线程，多进程，协程？"
    },
    {
      "metadata": {
        "colab_type": "text",
        "heading_collapsed": true,
        "hidden": true,
        "id": "uM3oH6CLtdRz"
      },
      "cell_type": "markdown",
      "source": "## 流行爬虫框架"
    },
    {
      "metadata": {
        "colab_type": "text",
        "hidden": true,
        "id": "TC8k8pzAtgNl"
      },
      "cell_type": "markdown",
      "source": "### scrapy"
    },
    {
      "metadata": {
        "colab_type": "text",
        "hidden": true,
        "id": "7DpAcnjctgRk"
      },
      "cell_type": "markdown",
      "source": "### pyspider"
    },
    {
      "metadata": {
        "colab": {},
        "colab_type": "code",
        "hidden": true,
        "id": "l2KMtqqVtfju",
        "trusted": false
      },
      "cell_type": "code",
      "source": "",
      "execution_count": 0,
      "outputs": []
    }
  ],
  "metadata": {
    "colab": {
      "collapsed_sections": [
        "KIZw3PeWdaDs",
        "v8hUwjMOg2oy",
        "TU2fUuqWiQrY",
        "RK7rczEliXOx",
        "NbVLpbW9XHM_",
        "mjIiKaIbXjMP",
        "rBP_xyLTg9_x",
        "-i-3Jn8tiUmy",
        "fYjw26Ajiipq",
        "uKKQCnvfpdCJ",
        "PMF8yYWsrLT9",
        "xKCl4VJtJlaI",
        "2fHQb7kRw3C8",
        "A2bqX2OWwBMd",
        "HnbEoNeoRCyp",
        "_GPe8qeo4tCQ"
      ],
      "name": "Copy of Web-Crawler-v0.1.ipynb",
      "provenance": [],
      "toc_visible": true,
      "version": "0.3.2"
    },
    "hide_input": false,
    "kernelspec": {
      "name": "python36",
      "display_name": "Python 3.6",
      "language": "python"
    },
    "language_info": {
      "mimetype": "text/x-python",
      "nbconvert_exporter": "python",
      "name": "python",
      "pygments_lexer": "ipython3",
      "version": "3.6.6",
      "file_extension": ".py",
      "codemirror_mode": {
        "version": 3,
        "name": "ipython"
      }
    },
    "toc": {
      "nav_menu": {},
      "number_sections": true,
      "sideBar": true,
      "skip_h1_title": false,
      "base_numbering": 1,
      "title_cell": "Table of Contents",
      "title_sidebar": "Contents",
      "toc_cell": false,
      "toc_position": {
        "height": "calc(100% - 180px)",
        "width": "371px",
        "left": "10px",
        "top": "150px"
      },
      "toc_section_display": true,
      "toc_window_display": true
    },
    "varInspector": {
      "window_display": false,
      "cols": {
        "lenName": 16,
        "lenType": 16,
        "lenVar": 40
      },
      "kernels_config": {
        "python": {
          "library": "var_list.py",
          "delete_cmd_prefix": "del ",
          "delete_cmd_postfix": "",
          "varRefreshCmd": "print(var_dic_list())"
        },
        "r": {
          "library": "var_list.r",
          "delete_cmd_prefix": "rm(",
          "delete_cmd_postfix": ") ",
          "varRefreshCmd": "cat(var_dic_list()) "
        }
      },
      "types_to_exclude": [
        "module",
        "function",
        "builtin_function_or_method",
        "instance",
        "_Feature"
      ]
    }
  },
  "nbformat": 4,
  "nbformat_minor": 1
}