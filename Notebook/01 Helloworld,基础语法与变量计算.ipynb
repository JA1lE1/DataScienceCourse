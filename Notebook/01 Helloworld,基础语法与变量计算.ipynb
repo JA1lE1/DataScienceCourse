{
  "cells": [
    {
      "metadata": {
        "collapsed": true
      },
      "cell_type": "markdown",
      "source": "# 前置"
    },
    {
      "metadata": {},
      "cell_type": "markdown",
      "source": "- 基本的编程逻辑与其他语言的编程基础，例如C C++ JAVA 均可 ，matlab user will be feel comfortable"
    },
    {
      "metadata": {},
      "cell_type": "markdown",
      "source": "# 简介"
    },
    {
      "metadata": {},
      "cell_type": "markdown",
      "source": "- 在这个部分，我们将简要介绍python的基础语法与变量的使用及基本的计算使用及python在这部分内容与常用的编程语言的区别"
    },
    {
      "metadata": {},
      "cell_type": "markdown",
      "source": "# Python 版本"
    },
    {
      "metadata": {},
      "cell_type": "markdown",
      "source": "- 这里使用Python3.6 进行本次教程"
    },
    {
      "metadata": {
        "ExecuteTime": {
          "start_time": "2019-09-14T07:39:42.888077Z",
          "end_time": "2019-09-14T07:39:46.481951Z"
        },
        "trusted": true
      },
      "cell_type": "code",
      "source": "!python --version",
      "execution_count": 1,
      "outputs": [
        {
          "output_type": "stream",
          "text": "Python 3.6.6 :: Anaconda, Inc.\r\n",
          "name": "stdout"
        }
      ]
    },
    {
      "metadata": {},
      "cell_type": "markdown",
      "source": "## 目标"
    },
    {
      "metadata": {},
      "cell_type": "markdown",
      "source": "- HelloWorld！\n- 基本语法\n- 变量使用\n- 运算符使用\n- 科学计算"
    },
    {
      "metadata": {},
      "cell_type": "markdown",
      "source": "# HelloWorld！"
    },
    {
      "metadata": {
        "ExecuteTime": {
          "start_time": "2019-09-14T07:40:03.94173Z",
          "end_time": "2019-09-14T07:40:03.980035Z"
        },
        "trusted": true
      },
      "cell_type": "code",
      "source": "print('HelloWorld!')",
      "execution_count": 2,
      "outputs": [
        {
          "output_type": "stream",
          "text": "HelloWorld!\n",
          "name": "stdout"
        }
      ]
    },
    {
      "metadata": {
        "ExecuteTime": {
          "start_time": "2019-09-14T07:40:20.15508Z",
          "end_time": "2019-09-14T07:40:20.189589Z"
        }
      },
      "cell_type": "markdown",
      "source": "## Python?"
    },
    {
      "metadata": {},
      "cell_type": "markdown",
      "source": "- Python是当下计算科学最热门的语言，没有之一\n- 它由Guido van Rossum创建并于1991年首次发布\n- Python之禅\n    - 美丽胜过丑陋\n    - 显式优于隐式\n    - 简单比复杂更好\n    - 复杂比复杂更好\n    - 可读性很重要"
    },
    {
      "metadata": {},
      "cell_type": "markdown",
      "source": "## 我们能够使用python来完成什么？"
    },
    {
      "metadata": {},
      "cell_type": "markdown",
      "source": "- 数据科学，大数据，复杂的数学计算\n- 机器学习，数据挖掘，计算机视觉，自然语言处理\n- web应用的服务端支撑\n- 数据库的交互语言"
    },
    {
      "metadata": {},
      "cell_type": "markdown",
      "source": "### 不够真实？"
    },
    {
      "metadata": {},
      "cell_type": "markdown",
      "source": "- 关注自动化周学长用python开发的厦大电费公众号(pacco) 就很真实！(硬核植入)"
    },
    {
      "metadata": {},
      "cell_type": "markdown",
      "source": "## 为什么选用Python"
    },
    {
      "metadata": {},
      "cell_type": "markdown",
      "source": "- python可迁移性强，能运行在不同的操作系统中，例如Win，Mac，Linux等\n- python语法简单，刚入门者很容易上手\n- python与matlab类似，能够快速码出自己的想法去进行快速验证。并且它是开源的内容"
    },
    {
      "metadata": {},
      "cell_type": "markdown",
      "source": "## Python与其他编程语言的区别"
    },
    {
      "metadata": {},
      "cell_type": "markdown",
      "source": "- python的设计类似matlab,以可读性为目标追求\n- python每一行执行一个命令语句，并且有别于其他编程语言，它没有标点符号结尾\n- python的语法依赖于行缩进，以行缩进的不同区别于不同的代码块，例如循环，函数和类等。其他语言大多采用大括号的方式"
    },
    {
      "metadata": {},
      "cell_type": "markdown",
      "source": "# 基本语法"
    },
    {
      "metadata": {},
      "cell_type": "markdown",
      "source": "- python是解释性语言,其编写格式决定了其逻辑过程，而层次逻辑缩进则是它的基础，下面以一个简单的例子进行解释"
    },
    {
      "metadata": {
        "ExecuteTime": {
          "start_time": "2019-09-14T07:51:12.000159Z",
          "end_time": "2019-09-14T07:51:12.023894Z"
        },
        "trusted": true
      },
      "cell_type": "code",
      "source": "if 5 > 2:\n  print(\"Five is greater than two!\")",
      "execution_count": 4,
      "outputs": [
        {
          "output_type": "stream",
          "text": "Five is greater than two!\n",
          "name": "stdout"
        }
      ]
    },
    {
      "metadata": {
        "ExecuteTime": {
          "start_time": "2019-09-14T07:51:12.417319Z",
          "end_time": "2019-09-14T07:51:12.44512Z"
        },
        "trusted": true
      },
      "cell_type": "code",
      "source": "if 5 > 2:\nprint(\"Five is greater than two!\")",
      "execution_count": 5,
      "outputs": [
        {
          "output_type": "error",
          "ename": "IndentationError",
          "evalue": "expected an indented block (<ipython-input-5-a314491c53bb>, line 2)",
          "traceback": [
            "\u001b[0;36m  File \u001b[0;32m\"<ipython-input-5-a314491c53bb>\"\u001b[0;36m, line \u001b[0;32m2\u001b[0m\n\u001b[0;31m    print(\"Five is greater than two!\")\u001b[0m\n\u001b[0m        ^\u001b[0m\n\u001b[0;31mIndentationError\u001b[0m\u001b[0;31m:\u001b[0m expected an indented block\n"
          ]
        }
      ]
    },
    {
      "metadata": {},
      "cell_type": "markdown",
      "source": "- 可以看到在本栗子当中，第二个cell由于不遵守逻辑缩进，结果报错:IndentationError"
    },
    {
      "metadata": {},
      "cell_type": "markdown",
      "source": "# 运算符"
    },
    {
      "metadata": {},
      "cell_type": "markdown",
      "source": "## 算术运算符"
    },
    {
      "metadata": {},
      "cell_type": "markdown",
      "source": "|运算符|描述|实例|\n|------------|--------------------------------|-------------------------|\n|==\t|等于 - 比较对象是否相等|\t(a == b) 返回 False。\n|!=\t|不等于 - 比较两个对象是否不相等|\t(a != b) 返回 true.\n|<>\t|不等于 - 比较两个对象是否不相等|\t(a <> b) 返回 true。这个运算符类似 != 。\n|>\t|大于 - 返回x是否大于y\t|(a > b) 返回 False。\n|<\t|小于 - 返回x是否小于y。所有比较运算符返回1表示真，返回0表示假。这分别与特殊的变量True和False等价。|\t(a < b) 返回 true。\n|>=\t|大于等于 - 返回x是否大于等于y。\t|(a >= b) 返回 False。\n|<= |小于等于 - 返回x是否小于等于y。\t|(a <= b) 返回 true。"
    },
    {
      "metadata": {
        "ExecuteTime": {
          "start_time": "2019-09-14T08:17:57.069124Z",
          "end_time": "2019-09-14T08:17:57.089296Z"
        },
        "trusted": true
      },
      "cell_type": "code",
      "source": "3 + 8",
      "execution_count": 10,
      "outputs": [
        {
          "output_type": "execute_result",
          "execution_count": 10,
          "data": {
            "text/plain": "11"
          },
          "metadata": {}
        }
      ]
    },
    {
      "metadata": {
        "ExecuteTime": {
          "start_time": "2019-09-14T08:17:18.743221Z",
          "end_time": "2019-09-14T08:17:18.793839Z"
        },
        "trusted": true
      },
      "cell_type": "code",
      "source": "0.08 - 8e-2",
      "execution_count": 6,
      "outputs": [
        {
          "output_type": "execute_result",
          "execution_count": 6,
          "data": {
            "text/plain": "0.0"
          },
          "metadata": {}
        }
      ]
    },
    {
      "metadata": {
        "ExecuteTime": {
          "start_time": "2019-09-14T08:17:27.027554Z",
          "end_time": "2019-09-14T08:17:27.050173Z"
        },
        "trusted": true
      },
      "cell_type": "code",
      "source": "3**4",
      "execution_count": 7,
      "outputs": [
        {
          "output_type": "execute_result",
          "execution_count": 7,
          "data": {
            "text/plain": "81"
          },
          "metadata": {}
        }
      ]
    },
    {
      "metadata": {
        "ExecuteTime": {
          "start_time": "2019-09-14T08:17:33.930577Z",
          "end_time": "2019-09-14T08:17:33.960789Z"
        },
        "trusted": true
      },
      "cell_type": "code",
      "source": "11 % 3",
      "execution_count": 8,
      "outputs": [
        {
          "output_type": "execute_result",
          "execution_count": 8,
          "data": {
            "text/plain": "2"
          },
          "metadata": {}
        }
      ]
    },
    {
      "metadata": {
        "ExecuteTime": {
          "start_time": "2019-09-14T08:17:41.033785Z",
          "end_time": "2019-09-14T08:17:41.052718Z"
        },
        "trusted": true
      },
      "cell_type": "code",
      "source": "11 // 3",
      "execution_count": 9,
      "outputs": [
        {
          "output_type": "execute_result",
          "execution_count": 9,
          "data": {
            "text/plain": "3"
          },
          "metadata": {}
        }
      ]
    },
    {
      "metadata": {},
      "cell_type": "markdown",
      "source": "## 赋值运算符"
    },
    {
      "metadata": {},
      "cell_type": "markdown",
      "source": "|运算符|\t描述|\t实例|\n|--------------------------------------------|-------------------------|\n|=|\t简单的赋值运算符|\tc = a + b 将 a + b 的运算结果赋值为 c\n|+=|\t加法赋值运算符|\tc += a 等效于 c = c + a\n|-=\t|减法赋值运算符|\tc -= a 等效于 c = c - a\n|*=|\t乘法赋值运算符|\tc *= a 等效于 c = c * a\n|/=|\t除法赋值运算符|\tc /= a 等效于 c = c / a\n|%=|\t取模赋值运算符|\tc %= a 等效于 c = c % a\n|**=|\t幂赋值运算符|\tc **= a 等效于 c = c ** a\n|//=|\t取整除赋值运算符|\tc //= a 等效于 c = c // a"
    },
    {
      "metadata": {
        "ExecuteTime": {
          "start_time": "2019-09-14T08:18:23.518824Z",
          "end_time": "2019-09-14T08:18:23.53917Z"
        },
        "trusted": true
      },
      "cell_type": "code",
      "source": "c = 10\nprint(c)",
      "execution_count": 11,
      "outputs": [
        {
          "output_type": "stream",
          "text": "10\n",
          "name": "stdout"
        }
      ]
    },
    {
      "metadata": {
        "ExecuteTime": {
          "start_time": "2019-09-14T08:18:32.189588Z",
          "end_time": "2019-09-14T08:18:32.210217Z"
        },
        "trusted": true
      },
      "cell_type": "code",
      "source": "a = 2\nb = 11\nc = a + b\nprint(c)",
      "execution_count": 12,
      "outputs": [
        {
          "output_type": "stream",
          "text": "13\n",
          "name": "stdout"
        }
      ]
    },
    {
      "metadata": {
        "ExecuteTime": {
          "start_time": "2019-09-14T08:18:43.736206Z",
          "end_time": "2019-09-14T08:18:43.76268Z"
        },
        "trusted": true
      },
      "cell_type": "code",
      "source": "# Long-hand addition\na = 1\na = a + 4\nprint(a)\n\n# Short-hand addition\na = 1\na += 4\nprint(a)",
      "execution_count": 13,
      "outputs": [
        {
          "output_type": "stream",
          "text": "5\n5\n",
          "name": "stdout"
        }
      ]
    },
    {
      "metadata": {
        "ExecuteTime": {
          "start_time": "2019-09-14T08:18:56.927399Z",
          "end_time": "2019-09-14T08:18:56.974467Z"
        },
        "trusted": true
      },
      "cell_type": "code",
      "source": "# Long-hand multiplication\na = 10\nc = 2\na = c*a\nprint(a)\n\n# Short-hand multiplication\na = 10\nc = 2\na *= c\nprint(a)\n\n# Long-hand division\na = 1\na = a/4\nprint(a)\n\n# Short-hand division\na = 1\na /= 4\nprint(a)",
      "execution_count": 14,
      "outputs": [
        {
          "output_type": "stream",
          "text": "20\n20\n0.25\n0.25\n",
          "name": "stdout"
        }
      ]
    },
    {
      "metadata": {},
      "cell_type": "markdown",
      "source": "## 位运算符"
    },
    {
      "metadata": {},
      "cell_type": "markdown",
      "source": "|运算符     |描述    |实例   |\n| -------------------- | ----------------------- |\n|&|\t按位与运算符：参与运算的两个值,如果两个相应位都为1,则该位的结果为1,否则为0\t|(a & b) 输出结果 12 ，二进制解释： 0000 1100|\n|/|按位或运算符：只要对应的二个二进位有一个为1时，结果位就为1|(a  b) 输出结果 61 ，二进制解释： 0011 1101|\n|^|\t按位异或运算符：当两对应的二进位相异时，结果为1\t|(a ^ b) 输出结果 49 ，二进制解释： 0011 0001|\n|~|\t按位取反运算符：对数据的每个二进制位取反,即把1变为0,把0变为1 。~x 类似于 -x-1\t|(~a ) 输出结果 -61 ，二进制解释： 1100 0011，在一个有符号二进制数的补码形式。|\n|<<|\t左移动运算符：运算数的各二进位全部左移若干位，由 << 右边的数字指定了移动的位数，高位丢弃，低位补0。\t|a << 2 输出结果 240 ，二进制解释： 1111 0000|\n|>>|\t右移动运算符：把\">>\"左边的运算数的各二进位全部右移若干位，>> 右边的数字指定了移动的位数\t|a >> 2 输出结果 15 ，二进制解释： 0000 1111|"
    },
    {
      "metadata": {},
      "cell_type": "markdown",
      "source": "- tips：由于注释原因 第二行 位运算符在实例中未显示"
    },
    {
      "metadata": {},
      "cell_type": "markdown",
      "source": "## 逻辑运算符"
    },
    {
      "metadata": {},
      "cell_type": "markdown",
      "source": "|运算符\t|逻辑表达式|\t描述|\t实例|\n| -------------------- | ----------------------- |----------|\n|and\t|x and y|\t布尔\"与\" - 如果 x 为 False，x and y 返回 False，否则它返回 y 的计算值。|\t(a and b) 返回 20。\n|or\t|x or y\t|布尔\"或\" - 如果 x 是非 0，它返回 x 的值，否则它返回 y 的计算值。\t|(a or b) 返回 10。\n|not|\tnot x|\t布尔\"非\" - 如果 x 为 True，返回 False 。如果 x 为 False，它返回 True。|\tnot(a and b) 返回 False"
    },
    {
      "metadata": {},
      "cell_type": "markdown",
      "source": "# 变量"
    },
    {
      "metadata": {},
      "cell_type": "markdown",
      "source": "## 概览"
    },
    {
      "metadata": {},
      "cell_type": "markdown",
      "source": "- 在python中变量是存储数据的容器\n- 与其他编程语言不同，python不用先定义变量的类型再进行赋值，也不同开辟空间给变量\n- 变量在赋值的时候自动生成"
    },
    {
      "metadata": {
        "ExecuteTime": {
          "start_time": "2019-09-14T08:21:01.348656Z",
          "end_time": "2019-09-14T08:21:01.36008Z"
        },
        "trusted": true
      },
      "cell_type": "code",
      "source": "x = 5\ny = \"Hello, World!\"",
      "execution_count": 15,
      "outputs": []
    },
    {
      "metadata": {
        "ExecuteTime": {
          "start_time": "2019-09-14T08:21:09.586284Z",
          "end_time": "2019-09-14T08:21:09.612984Z"
        },
        "trusted": true
      },
      "cell_type": "code",
      "source": "x = 4 # x is of type int\nx = \"Sally\" # x is now of type str\nprint(x)",
      "execution_count": 16,
      "outputs": [
        {
          "output_type": "stream",
          "text": "Sally\n",
          "name": "stdout"
        }
      ]
    },
    {
      "metadata": {},
      "cell_type": "markdown",
      "source": "### 字符串变量可以用双引号也可用单引号表示"
    },
    {
      "metadata": {
        "ExecuteTime": {
          "start_time": "2019-09-14T08:21:35.894056Z",
          "end_time": "2019-09-14T08:21:35.924946Z"
        },
        "trusted": true
      },
      "cell_type": "code",
      "source": "x = \"John\"\n# is the same as\nx = 'John'",
      "execution_count": 17,
      "outputs": []
    },
    {
      "metadata": {},
      "cell_type": "markdown",
      "source": "### 变量以数字，字母，下划线组成，但不能以下划线开头"
    },
    {
      "metadata": {
        "ExecuteTime": {
          "start_time": "2019-09-14T08:22:00.988786Z",
          "end_time": "2019-09-14T08:22:00.997081Z"
        },
        "trusted": true
      },
      "cell_type": "code",
      "source": "_var4= 4\nvar_4 = 4",
      "execution_count": 18,
      "outputs": []
    },
    {
      "metadata": {
        "ExecuteTime": {
          "start_time": "2019-09-14T08:22:09.910044Z",
          "end_time": "2019-09-14T08:22:09.963253Z"
        },
        "trusted": true
      },
      "cell_type": "code",
      "source": "4var = 4",
      "execution_count": 19,
      "outputs": [
        {
          "output_type": "error",
          "ename": "SyntaxError",
          "evalue": "invalid syntax (<ipython-input-19-4ca2e3b3a7f1>, line 1)",
          "traceback": [
            "\u001b[0;36m  File \u001b[0;32m\"<ipython-input-19-4ca2e3b3a7f1>\"\u001b[0;36m, line \u001b[0;32m1\u001b[0m\n\u001b[0;31m    4var = 4\u001b[0m\n\u001b[0m       ^\u001b[0m\n\u001b[0;31mSyntaxError\u001b[0m\u001b[0;31m:\u001b[0m invalid syntax\n"
          ]
        }
      ]
    },
    {
      "metadata": {},
      "cell_type": "markdown",
      "source": "### 变量有区分大小写"
    },
    {
      "metadata": {
        "ExecuteTime": {
          "start_time": "2019-09-14T08:22:32.743264Z",
          "end_time": "2019-09-14T08:22:32.76564Z"
        },
        "trusted": true
      },
      "cell_type": "code",
      "source": "var = 3\nVar = 4\nprint(var)\nprint(Var)",
      "execution_count": 20,
      "outputs": [
        {
          "output_type": "stream",
          "text": "3\n4\n",
          "name": "stdout"
        }
      ]
    },
    {
      "metadata": {},
      "cell_type": "markdown",
      "source": "### 一次性赋值多个变量"
    },
    {
      "metadata": {
        "ExecuteTime": {
          "start_time": "2019-09-14T08:22:52.487595Z",
          "end_time": "2019-09-14T08:22:52.516351Z"
        },
        "trusted": true
      },
      "cell_type": "code",
      "source": "x, y, z = \"Orange\", \"Banana\", \"Cherry\"\nprint(x)\nprint(y)\nprint(z)",
      "execution_count": 21,
      "outputs": [
        {
          "output_type": "stream",
          "text": "Orange\nBanana\nCherry\n",
          "name": "stdout"
        }
      ]
    },
    {
      "metadata": {},
      "cell_type": "markdown",
      "source": "### 命名"
    },
    {
      "metadata": {},
      "cell_type": "markdown",
      "source": "- 在进行变量命名时，尽量做到见明知其意\n- 不能使用关键词进行命名，python关键词有如下所示"
    },
    {
      "metadata": {
        "ExecuteTime": {
          "start_time": "2019-09-14T08:33:17.50321Z",
          "end_time": "2019-09-14T08:33:17.519688Z"
        },
        "trusted": true
      },
      "cell_type": "code",
      "source": "import keyword\nprint(keyword.kwlist)",
      "execution_count": 31,
      "outputs": [
        {
          "output_type": "stream",
          "text": "['False', 'None', 'True', 'and', 'as', 'assert', 'break', 'class', 'continue', 'def', 'del', 'elif', 'else', 'except', 'finally', 'for', 'from', 'global', 'if', 'import', 'in', 'is', 'lambda', 'nonlocal', 'not', 'or', 'pass', 'raise', 'return', 'try', 'while', 'with', 'yield']\n",
          "name": "stdout"
        }
      ]
    },
    {
      "metadata": {},
      "cell_type": "markdown",
      "source": "## 数值类型变量"
    },
    {
      "metadata": {},
      "cell_type": "markdown",
      "source": "### 类别"
    },
    {
      "metadata": {},
      "cell_type": "markdown",
      "source": "- 整型\n- 浮点型\n- 复数型"
    },
    {
      "metadata": {
        "ExecuteTime": {
          "start_time": "2019-09-14T08:23:55.154839Z",
          "end_time": "2019-09-14T08:23:55.189409Z"
        },
        "trusted": true
      },
      "cell_type": "code",
      "source": "x = 1    # int\ny = 2.8  # float\nz = 1j   # complex\nprint(type(x))\nprint(type(y))\nprint(type(z))",
      "execution_count": 22,
      "outputs": [
        {
          "output_type": "stream",
          "text": "<class 'int'>\n<class 'float'>\n<class 'complex'>\n",
          "name": "stdout"
        }
      ]
    },
    {
      "metadata": {},
      "cell_type": "markdown",
      "source": "### 强制转换"
    },
    {
      "metadata": {
        "ExecuteTime": {
          "start_time": "2019-09-14T08:24:17.561429Z",
          "end_time": "2019-09-14T08:24:17.585814Z"
        },
        "trusted": true
      },
      "cell_type": "code",
      "source": "x = 1 # int\ny = 2.8 # float\nz = 1j # complex\n\n#convert from int to float:\na = float(x)\n\n#convert from float to int:\nb = int(y)\n\n#convert from int to complex:\nc = complex(x)\n\nprint(a)\nprint(b)\nprint(c)\n\nprint(type(a))\nprint(type(b))\nprint(type(c))",
      "execution_count": 23,
      "outputs": [
        {
          "output_type": "stream",
          "text": "1.0\n2\n(1+0j)\n<class 'float'>\n<class 'int'>\n<class 'complex'>\n",
          "name": "stdout"
        }
      ]
    },
    {
      "metadata": {},
      "cell_type": "markdown",
      "source": "### 随机数"
    },
    {
      "metadata": {
        "ExecuteTime": {
          "start_time": "2019-09-14T08:24:39.242052Z",
          "end_time": "2019-09-14T08:24:39.267298Z"
        },
        "trusted": true
      },
      "cell_type": "code",
      "source": "import random\n\nprint(random.randrange(1,10))",
      "execution_count": 24,
      "outputs": [
        {
          "output_type": "stream",
          "text": "8\n",
          "name": "stdout"
        }
      ]
    },
    {
      "metadata": {},
      "cell_type": "markdown",
      "source": "## 字符串类型"
    },
    {
      "metadata": {},
      "cell_type": "markdown",
      "source": "## 表示方式"
    },
    {
      "metadata": {},
      "cell_type": "markdown",
      "source": "- 既可以用单引号，也可以用双引号"
    },
    {
      "metadata": {
        "ExecuteTime": {
          "start_time": "2019-09-14T08:26:10.059928Z",
          "end_time": "2019-09-14T08:26:10.087302Z"
        },
        "trusted": true
      },
      "cell_type": "code",
      "source": "print(\"Hello\")\nprint('Hello')",
      "execution_count": 26,
      "outputs": [
        {
          "output_type": "stream",
          "text": "Hello\nHello\n",
          "name": "stdout"
        }
      ]
    },
    {
      "metadata": {},
      "cell_type": "markdown",
      "source": "### 赋值"
    },
    {
      "metadata": {
        "ExecuteTime": {
          "start_time": "2019-09-14T08:26:31.18901Z",
          "end_time": "2019-09-14T08:26:31.209492Z"
        },
        "trusted": true
      },
      "cell_type": "code",
      "source": "a = \"Hello\"\nprint(a)",
      "execution_count": 27,
      "outputs": [
        {
          "output_type": "stream",
          "text": "Hello\n",
          "name": "stdout"
        }
      ]
    },
    {
      "metadata": {},
      "cell_type": "markdown",
      "source": "### 多行"
    },
    {
      "metadata": {},
      "cell_type": "markdown",
      "source": "- 多行时，需要使用3个双引号，或者单引号"
    },
    {
      "metadata": {
        "ExecuteTime": {
          "start_time": "2019-09-14T08:27:09.385845Z",
          "end_time": "2019-09-14T08:27:09.407587Z"
        },
        "trusted": true
      },
      "cell_type": "code",
      "source": "a = \"\"\"Lorem ipsum dolor sit amet,\nconsectetur adipiscing elit,\nsed do eiusmod tempor incididunt\nut labore et dolore magna aliqua.\"\"\"\nprint(a)",
      "execution_count": 28,
      "outputs": [
        {
          "output_type": "stream",
          "text": "Lorem ipsum dolor sit amet,\nconsectetur adipiscing elit,\nsed do eiusmod tempor incididunt\nut labore et dolore magna aliqua.\n",
          "name": "stdout"
        }
      ]
    },
    {
      "metadata": {
        "ExecuteTime": {
          "start_time": "2019-09-14T08:27:14.999784Z",
          "end_time": "2019-09-14T08:27:15.026349Z"
        },
        "trusted": true
      },
      "cell_type": "code",
      "source": "a = '''Lorem ipsum dolor sit amet,\nconsectetur adipiscing elit,\nsed do eiusmod tempor incididunt\nut labore et dolore magna aliqua.'''\nprint(a)",
      "execution_count": 29,
      "outputs": [
        {
          "output_type": "stream",
          "text": "Lorem ipsum dolor sit amet,\nconsectetur adipiscing elit,\nsed do eiusmod tempor incididunt\nut labore et dolore magna aliqua.\n",
          "name": "stdout"
        }
      ]
    },
    {
      "metadata": {},
      "cell_type": "markdown",
      "source": "# 推荐阅读"
    },
    {
      "metadata": {
        "ExecuteTime": {
          "start_time": "2019-09-14T08:25:07.823836Z",
          "end_time": "2019-09-14T08:25:07.872238Z"
        }
      },
      "cell_type": "markdown",
      "source": "- [python官网](https://www.python.org)\n- [python-wiki](https://en.wikipedia.org/wiki/Python_(programming_language)\n- [python-random](https://docs.python.org/3/library/random.html)                "
    },
    {
      "metadata": {
        "trusted": true
      },
      "cell_type": "code",
      "source": "",
      "execution_count": null,
      "outputs": []
    }
  ],
  "metadata": {
    "kernelspec": {
      "name": "python36",
      "display_name": "Python 3.6",
      "language": "python"
    },
    "language_info": {
      "mimetype": "text/x-python",
      "nbconvert_exporter": "python",
      "name": "python",
      "pygments_lexer": "ipython3",
      "version": "3.6.6",
      "file_extension": ".py",
      "codemirror_mode": {
        "version": 3,
        "name": "ipython"
      }
    },
    "hide_input": false,
    "toc": {
      "nav_menu": {},
      "number_sections": true,
      "sideBar": false,
      "skip_h1_title": false,
      "base_numbering": 1,
      "title_cell": "Table of Contents",
      "title_sidebar": "Contents",
      "toc_cell": false,
      "toc_position": {
        "height": "792px",
        "width": "248px",
        "left": "1607px",
        "top": "258px"
      },
      "toc_section_display": true,
      "toc_window_display": true
    },
    "varInspector": {
      "window_display": false,
      "cols": {
        "lenName": 16,
        "lenType": 16,
        "lenVar": 40
      },
      "kernels_config": {
        "python": {
          "library": "var_list.py",
          "delete_cmd_prefix": "del ",
          "delete_cmd_postfix": "",
          "varRefreshCmd": "print(var_dic_list())"
        },
        "r": {
          "library": "var_list.r",
          "delete_cmd_prefix": "rm(",
          "delete_cmd_postfix": ") ",
          "varRefreshCmd": "cat(var_dic_list()) "
        }
      },
      "types_to_exclude": [
        "module",
        "function",
        "builtin_function_or_method",
        "instance",
        "_Feature"
      ]
    }
  },
  "nbformat": 4,
  "nbformat_minor": 2
}