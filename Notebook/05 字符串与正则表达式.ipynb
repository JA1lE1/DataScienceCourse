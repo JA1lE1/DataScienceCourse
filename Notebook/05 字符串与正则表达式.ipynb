{
  "cells": [
    {
      "metadata": {
        "collapsed": true
      },
      "cell_type": "markdown",
      "source": "# 简介"
    },
    {
      "metadata": {},
      "cell_type": "markdown",
      "source": "- 正则表达式"
    },
    {
      "metadata": {},
      "cell_type": "markdown",
      "source": "## 小目标"
    },
    {
      "metadata": {
        "trusted": true
      },
      "cell_type": "code",
      "source": "",
      "execution_count": null,
      "outputs": []
    },
    {
      "metadata": {
        "trusted": true
      },
      "cell_type": "markdown",
      "source": "# 字符串"
    },
    {
      "metadata": {
        "ExecuteTime": {
          "start_time": "2019-10-13T02:34:39.745932Z",
          "end_time": "2019-10-13T02:34:39.768807Z"
        }
      },
      "cell_type": "markdown",
      "source": "## 编码"
    },
    {
      "metadata": {
        "trusted": true
      },
      "cell_type": "markdown",
      "source": "### ASCII编码"
    },
    {
      "metadata": {
        "trusted": true
      },
      "cell_type": "markdown",
      "source": "因为计算机只能处理数字，如果要处理文本，就必须先把文本转换为数字才能处理。最早的计算机在设计时采用8个比特（bit）作为一个字节（byte），所以，一个字节能表示的最大的整数就是255（二进制11111111=十进制255），0 - 255被用来表示大小写英文字母、数字和一些符号，这个编码表被称为ASCII编码，比如大写字母 A 的编码是65，小写字母 z 的编码是122!"
    },
    {
      "metadata": {
        "trusted": true
      },
      "cell_type": "markdown",
      "source": "### GB2312编码"
    },
    {
      "metadata": {
        "trusted": true
      },
      "cell_type": "markdown",
      "source": "如果要表示中文，显然一个字节是不够的，至少需要两个字节，而且还不能和ASCII编码冲突，所以，中国制定了GB2312编码，用来把中文编进去"
    },
    {
      "metadata": {
        "trusted": true
      },
      "cell_type": "markdown",
      "source": "### Unicode 编码"
    },
    {
      "metadata": {
        "trusted": true
      },
      "cell_type": "markdown",
      "source": "类似的，日文和韩文等其他语言也有这个问题。为了统一所有文字的编码，Unicode应运而生。Unicode把所有语言都统一到一套编码里，这样就不会再有乱码问题了。\nUnicode通常用两个字节表示一个字符，原有的英文编码从单字节变成双字节，只需要把高字节全部填为0就可以。\n因为Python的诞生比Unicode标准发布的时间还要早，所以最早的Python只支持ASCII编码，普通的字符串'ABC'在Python内部都是ASCII编码的。\nPython在后来添加了对Unicode的支持，以Unicode表示的字符串用u'...'表示，比如：\n```python\nprint u'中文'\n```\n `中文`\n\n注意: 不加 u ，中文就不能正常显示。\nUnicode字符串除了多了一个 u 之外，与普通字符串没啥区别。\n如果中文字符串在Python环境下遇到 UnicodeDecodeError，这是因为.py文件保存的格式有问题。可以在第一行添加注释\n"
    },
    {
      "metadata": {
        "trusted": true
      },
      "cell_type": "markdown",
      "source": "```python\n# -*- coding: utf-8 -*-\n```\n目的是告诉Python解释器，用UTF-8编码读取源代码。然后用Notepad++ 另存为... 并选择UTF-8格式保存。\n"
    },
    {
      "metadata": {
        "trusted": true
      },
      "cell_type": "markdown",
      "source": "### UTF-8"
    },
    {
      "metadata": {
        "trusted": true
      },
      "cell_type": "markdown",
      "source": "互联网的普及，强烈要求出现一种统一的编码方式。UTF-8 就是在互联网上使用最广的一种 Unicode 的实现方式。其他实现方式还包括 UTF-16（字符用两个字节或四个字节表示）和 UTF-32（字符用四个字节表示），不过在互联网上基本不用。重复一遍，这里的关系是，UTF-8 是 Unicode 的实现方式之一。\n\nUTF-8 最大的一个特点，就是它是一种变长的编码方式。它可以使用1~4个字节表示一个符号，根据不同的符号而变化字节长度。\n\nUTF-8 的编码规则很简单，只有二条：\n\n1）对于单字节的符号，字节的第一位设为0，后面7位为这个符号的 Unicode 码。因此对于英语字母，UTF-8 编码和 ASCII 码是相同的。\n\n2）对于n字节的符号（n > 1），第一个字节的前n位都设为1，第n + 1位设为0，后面字节的前两位一律设为10。剩下的没有提及的二进制位，全部为这个符号的 Unicode 码。\n\n下表总结了编码规则，字母x表示可用编码的位。\n\n\n\n|Unicode符号范围(十六进制)|UTF-8编码方式(二进制)|\n|---|---|\n|0000 0000-0000 007F | 0xxxxxxx\n|0000 0080-0000 07FF | 110xxxxx 10xxxxxx\n|0000 0800-0000 FFFF | 1110xxxx 10xxxxxx 10xxxxxx\n|0001 0000-0010 FFFF | 11110xxx 10xxxxxx 10xxxxxx 10xxxxxx\n\n\n\n跟据上表，解读 UTF-8 编码非常简单。如果一个字节的第一位是0，则这个字节单独就是一个字符；如果第一位是1，则连续有多少个1，就表示当前字符占用多少个字节。\n\n下面，还是以汉字严为例，演示如何实现 UTF-8 编码。\n\n严的 Unicode 是4E25（100111000100101），根据上表，可以发现4E25处在第三行的范围内（0000 0800 - 0000 FFFF），因此严的 UTF-8 编码需要三个字节，即格式是1110xxxx 10xxxxxx 10xxxxxx。然后，从严的最后一个二进制位开始，依次从后向前填入格式中的x，多出的位补0。这样就得到了，严的 UTF-8 编码是11100100 10111000 10100101，转换成十六进制就是E4B8A5。"
    },
    {
      "metadata": {
        "trusted": true
      },
      "cell_type": "markdown",
      "source": "## Python-String"
    },
    {
      "metadata": {
        "ExecuteTime": {
          "start_time": "2019-10-13T02:51:21.164179Z",
          "end_time": "2019-10-13T02:51:21.173361Z"
        }
      },
      "cell_type": "markdown",
      "source": "### 引号"
    },
    {
      "metadata": {
        "trusted": true
      },
      "cell_type": "markdown",
      "source": "- 单引号和双引号的作用是相同的"
    },
    {
      "metadata": {
        "trusted": true,
        "ExecuteTime": {
          "start_time": "2019-10-13T02:51:07.636729Z",
          "end_time": "2019-10-13T02:51:07.646809Z"
        }
      },
      "cell_type": "code",
      "source": "print(\"Hello\")\nprint('Hello')",
      "execution_count": 2,
      "outputs": [
        {
          "output_type": "stream",
          "text": "Hello\nHello\n",
          "name": "stdout"
        }
      ]
    },
    {
      "metadata": {
        "trusted": true
      },
      "cell_type": "markdown",
      "source": "### Array"
    },
    {
      "metadata": {
        "trusted": true,
        "ExecuteTime": {
          "start_time": "2019-10-13T02:52:06.823282Z",
          "end_time": "2019-10-13T02:52:06.847274Z"
        }
      },
      "cell_type": "code",
      "source": "a = \"Hello, World!\"\nprint(a[1])",
      "execution_count": 4,
      "outputs": [
        {
          "output_type": "stream",
          "text": "e\n",
          "name": "stdout"
        }
      ]
    },
    {
      "metadata": {
        "trusted": true
      },
      "cell_type": "markdown",
      "source": "### 切片"
    },
    {
      "metadata": {
        "trusted": true,
        "ExecuteTime": {
          "start_time": "2019-10-13T02:52:32.200334Z",
          "end_time": "2019-10-13T02:52:32.21754Z"
        }
      },
      "cell_type": "code",
      "source": "b = \"Hello, World!\"\nprint(b[2:5])",
      "execution_count": 5,
      "outputs": [
        {
          "output_type": "stream",
          "text": "llo\n",
          "name": "stdout"
        }
      ]
    },
    {
      "metadata": {
        "trusted": true
      },
      "cell_type": "markdown",
      "source": "### Strip()"
    },
    {
      "metadata": {},
      "cell_type": "markdown",
      "source": "string()删除字符串中的空白"
    },
    {
      "metadata": {
        "trusted": true,
        "ExecuteTime": {
          "start_time": "2019-10-13T02:52:56.938975Z",
          "end_time": "2019-10-13T02:52:56.961517Z"
        }
      },
      "cell_type": "code",
      "source": "a = \" Hello, World! \"\nprint(a.strip()) # returns \"Hello, World!\"",
      "execution_count": 6,
      "outputs": [
        {
          "output_type": "stream",
          "text": "Hello, World!\n",
          "name": "stdout"
        }
      ]
    },
    {
      "metadata": {},
      "cell_type": "markdown",
      "source": "### 大小写转换"
    },
    {
      "metadata": {
        "ExecuteTime": {
          "start_time": "2019-10-13T02:54:30.820697Z",
          "end_time": "2019-10-13T02:54:30.845401Z"
        },
        "trusted": true
      },
      "cell_type": "code",
      "source": "a = \"Hello, World!\"\nprint(a.upper())\na = \"Hello, World!\"\nprint(a.lower())",
      "execution_count": 7,
      "outputs": [
        {
          "output_type": "stream",
          "text": "HELLO, WORLD!\nhello, world!\n",
          "name": "stdout"
        }
      ]
    },
    {
      "metadata": {},
      "cell_type": "markdown",
      "source": "### Split()"
    },
    {
      "metadata": {},
      "cell_type": "markdown",
      "source": "相当于**分词**，可以指定特定的符号"
    },
    {
      "metadata": {
        "ExecuteTime": {
          "start_time": "2019-10-13T02:55:04.59544Z",
          "end_time": "2019-10-13T02:55:04.608599Z"
        },
        "trusted": true
      },
      "cell_type": "code",
      "source": "a = \"Hello, World!\"\nprint(a.split(\",\")) # returns ['Hello', ' World!']",
      "execution_count": 8,
      "outputs": [
        {
          "output_type": "stream",
          "text": "['Hello', ' World!']\n",
          "name": "stdout"
        }
      ]
    },
    {
      "metadata": {},
      "cell_type": "markdown",
      "source": "### 字符串拼接"
    },
    {
      "metadata": {
        "ExecuteTime": {
          "start_time": "2019-10-13T02:56:14.813481Z",
          "end_time": "2019-10-13T02:56:14.832159Z"
        },
        "trusted": true
      },
      "cell_type": "code",
      "source": "a = \"Hello\"\nb = \"World\"\nc = a + b\nprint(c)",
      "execution_count": 9,
      "outputs": [
        {
          "output_type": "stream",
          "text": "HelloWorld\n",
          "name": "stdout"
        }
      ]
    },
    {
      "metadata": {},
      "cell_type": "markdown",
      "source": "### format"
    },
    {
      "metadata": {
        "ExecuteTime": {
          "start_time": "2019-10-13T02:57:16.850489Z",
          "end_time": "2019-10-13T02:57:17.022696Z"
        },
        "trusted": true
      },
      "cell_type": "code",
      "source": "age = 36\ntxt = \"My name is John, I am \" + age\nprint(txt)",
      "execution_count": 10,
      "outputs": [
        {
          "output_type": "error",
          "ename": "TypeError",
          "evalue": "must be str, not int",
          "traceback": [
            "\u001b[0;31m---------------------------------------------------------------------------\u001b[0m",
            "\u001b[0;31mTypeError\u001b[0m                                 Traceback (most recent call last)",
            "\u001b[0;32m<ipython-input-10-4d1b227cff41>\u001b[0m in \u001b[0;36m<module>\u001b[0;34m\u001b[0m\n\u001b[1;32m      1\u001b[0m \u001b[0mage\u001b[0m \u001b[0;34m=\u001b[0m \u001b[0;36m36\u001b[0m\u001b[0;34m\u001b[0m\u001b[0m\n\u001b[0;32m----> 2\u001b[0;31m \u001b[0mtxt\u001b[0m \u001b[0;34m=\u001b[0m \u001b[0;34m\"My name is John, I am \"\u001b[0m \u001b[0;34m+\u001b[0m \u001b[0mage\u001b[0m\u001b[0;34m\u001b[0m\u001b[0m\n\u001b[0m\u001b[1;32m      3\u001b[0m \u001b[0mprint\u001b[0m\u001b[0;34m(\u001b[0m\u001b[0mtxt\u001b[0m\u001b[0;34m)\u001b[0m\u001b[0;34m\u001b[0m\u001b[0m\n",
            "\u001b[0;31mTypeError\u001b[0m: must be str, not int"
          ]
        }
      ]
    },
    {
      "metadata": {},
      "cell_type": "markdown",
      "source": "- 如何连接字符串和非字符变量？"
    },
    {
      "metadata": {
        "ExecuteTime": {
          "start_time": "2019-10-13T02:58:06.512899Z",
          "end_time": "2019-10-13T02:58:06.527646Z"
        },
        "trusted": true
      },
      "cell_type": "code",
      "source": "age = 36\ntxt = \"My name is John, and I am {}\"\nprint(txt.format(age))",
      "execution_count": 11,
      "outputs": [
        {
          "output_type": "stream",
          "text": "My name is John, and I am 36\n",
          "name": "stdout"
        }
      ]
    },
    {
      "metadata": {},
      "cell_type": "markdown",
      "source": "- 多变量"
    },
    {
      "metadata": {
        "ExecuteTime": {
          "start_time": "2019-10-13T02:58:27.363819Z",
          "end_time": "2019-10-13T02:58:27.39138Z"
        },
        "trusted": true
      },
      "cell_type": "code",
      "source": "quantity = 3\nitemno = 567\nprice = 49.95\nmyorder = \"I want {} pieces of item {} for {} dollars.\"\nprint(myorder.format(quantity, itemno, price))",
      "execution_count": 12,
      "outputs": [
        {
          "output_type": "stream",
          "text": "I want 3 pieces of item 567 for 49.95 dollars.\n",
          "name": "stdout"
        }
      ]
    },
    {
      "metadata": {},
      "cell_type": "markdown",
      "source": "# 正则表达式"
    },
    {
      "metadata": {},
      "cell_type": "markdown",
      "source": "## 什么是正则表达式"
    },
    {
      "metadata": {
        "trusted": true,
        "ExecuteTime": {
          "start_time": "2019-10-13T11:02:24.606854Z",
          "end_time": "2019-10-13T11:02:24.731402Z"
        }
      },
      "cell_type": "markdown",
      "source": "- 什么是正则表达式\n  - 正则表达式，又称规则表达式，通常被用来检索、替换那些符合某个模式(规则)的文本。正则表达式是对字符串操作的一种逻辑公式，就是用事先定义好的一些特定字符、及这些特定字符的组合，组成一个\"规则字符串\"，这个\"规则字符串\"用来表达对字符串的一种过滤逻辑。\n  - 用来进行字符串匹配的句法规则（简单地说）\n- 难度预警\n  - 正则表达式，十分枯燥，上手难度有点大\n  - ![img](./images/re.png)\n- 为什么要学习正则表达式\n  - 正则表达式虽然难学，但是它是万能地，能够基于一定地规则匹配出我们所需要地数据"
    },
    {
      "metadata": {},
      "cell_type": "markdown",
      "source": "## 举个栗子"
    },
    {
      "metadata": {
        "ExecuteTime": {
          "start_time": "2019-10-13T11:03:15.625205Z",
          "end_time": "2019-10-13T11:03:15.778225Z"
        }
      },
      "cell_type": "markdown",
      "source": "![alt text](https://timgsa.baidu.com/timg?image&quality=80&size=b9999_10000&sec=1563805143613&di=a199e0794672ecd398bbc4f45218d42f&imgtype=0&src=http%3A%2F%2Fimg.mp.itc.cn%2Fupload%2F20170411%2F3122940736ee468183f73bf4aae4bcb1_th.jpeg)\n\n- 在任务一的答案检查中，就使用了正则表达式的方法进行模式匹配，准确找出我校的出生的出生日期，那具体来看一下是怎么做到的吧\n- 首先在HTML页面中找到XMU的出生时间\n\n```\n<dt>创办时间</dt>\n<dd title=\"1921年4月6日\">\n```\n- 然后写一个正则表达式进行匹配就vans了，比如下面这个样子\n\n```\nr'<dt>[\\u4e00-\\u9fa5]{4}</dt>\\n<dd\\s\\w{5}\\W{2}(\\d{4}[\\u4e00-\\u9fa5]\\d+[\\u4e00-\\u9fa5]\\d+[\\u4e00-\\u9fa5]).>'\n```\n![img](./images/nikeyang.jpg)\n\n- OK，让我们来分解一下\n  - > [\\u4e00-\\u9fa5] 代表中文字符\n  - > {4}代表前一个正则有4个，这里也就是中文字符出现了4次\n  - > \\n 代表换行\n  - > \\s 代表空格\n  - > \\w代表单词(英文)字符\n  - > \\W代表 非字符\n  - > () 括号中为我们需要匹配的字符串\n  - > \\d 代表数字\n  - >  ‘+’代表前面一个正则出现了至少一次\n- 好像。。。。全部都出现在了上面这张图中！\n"
    },
    {
      "metadata": {},
      "cell_type": "markdown",
      "source": "## 更具体一些"
    },
    {
      "metadata": {},
      "cell_type": "markdown",
      "source": "- 在python中，我们运用正则表达式常常使用的是 `re` module"
    },
    {
      "metadata": {
        "ExecuteTime": {
          "start_time": "2019-10-13T11:06:37.597879Z",
          "end_time": "2019-10-13T11:06:37.621503Z"
        },
        "trusted": true
      },
      "cell_type": "code",
      "source": "import re",
      "execution_count": 16,
      "outputs": []
    },
    {
      "metadata": {
        "ExecuteTime": {
          "start_time": "2019-10-13T11:07:10.246023Z",
          "end_time": "2019-10-13T11:07:10.265051Z"
        },
        "trusted": true
      },
      "cell_type": "code",
      "source": "import re\n\ntxt = \"The rain in Spain\"\nx = re.search(\"^The.*Spain$\", txt)\nprint(x)",
      "execution_count": 18,
      "outputs": [
        {
          "output_type": "stream",
          "text": "<_sre.SRE_Match object; span=(0, 17), match='The rain in Spain'>\n",
          "name": "stdout"
        }
      ]
    },
    {
      "metadata": {},
      "cell_type": "markdown",
      "source": "|Function|Description|\n|---|---|\n|findall|\tReturns a list containing all matches\n|search\t|Returns a Match object if there is a match anywhere in the string\n|split\t|Returns a list where the string has been split at each match\n|sub\t|Replaces one or many matches with a string"
    },
    {
      "metadata": {},
      "cell_type": "markdown",
      "source": "### 具有特殊意义的字符"
    },
    {
      "metadata": {},
      "cell_type": "markdown",
      "source": "|Character|\tDescription\tExample\tTry it\n|---|---\n|[]\t|A set of characters\t\"[a-m]\"\t\n|\\\t|Signals a special sequence (can also be used to escape special characters)\t\"\\d\"\t\n|.\t|Any character (except newline character)\t\"he..o\"\t\n|^\t|Starts with\t\"^hello\"\t\n| \"$$\"\t|Ends with\tworld$ |\t\n|*\t|Zero or more occurrences\t\"aix*\"\t\n|+\t|One or more occurrences\t\"aix+\"\t\n|{}\t|Exactly the specified number of occurrences\t\"al{2}\"\t\n||\t|Either or\t\"falls|stays\""
    },
    {
      "metadata": {
        "ExecuteTime": {
          "start_time": "2019-10-13T11:10:47.6842Z",
          "end_time": "2019-10-13T11:10:47.714714Z"
        },
        "trusted": true
      },
      "cell_type": "code",
      "source": "import re\n\nstr = \"The rain in Spain\"\n\n#Find all lower case characters alphabetically between \"a\" and \"m\":\n\nx = re.findall(\"[a-m]\", str)\nprint(x)\n",
      "execution_count": 19,
      "outputs": [
        {
          "output_type": "stream",
          "text": "['h', 'e', 'a', 'i', 'i', 'a', 'i']\n",
          "name": "stdout"
        }
      ]
    },
    {
      "metadata": {
        "ExecuteTime": {
          "start_time": "2019-10-13T11:13:59.416986Z",
          "end_time": "2019-10-13T11:13:59.437741Z"
        },
        "trusted": true
      },
      "cell_type": "code",
      "source": "import re\n\nstr = \"That will be 59 dollars\"\n\n#Find all digit characters:\n\nx = re.findall(\"\\d\", str)\nprint(x)\n",
      "execution_count": 20,
      "outputs": [
        {
          "output_type": "stream",
          "text": "['5', '9']\n",
          "name": "stdout"
        }
      ]
    },
    {
      "metadata": {
        "ExecuteTime": {
          "start_time": "2019-10-13T11:14:14.898034Z",
          "end_time": "2019-10-13T11:14:14.913389Z"
        },
        "trusted": true
      },
      "cell_type": "code",
      "source": "import re\n\nstr = \"hello world\"\n\n#Search for a sequence that starts with \"he\", followed by two (any) characters, and an \"o\":\n\nx = re.findall(\"he..o\", str)\nprint(x)\n",
      "execution_count": 21,
      "outputs": [
        {
          "output_type": "stream",
          "text": "['hello']\n",
          "name": "stdout"
        }
      ]
    },
    {
      "metadata": {
        "ExecuteTime": {
          "start_time": "2019-10-13T11:14:44.536374Z",
          "end_time": "2019-10-13T11:14:44.55638Z"
        },
        "trusted": true
      },
      "cell_type": "code",
      "source": "import re\n\nstr = \"hello world\"\n\n#Check if the string starts with 'hello':\n\nx = re.findall(\"^hello\", str)\nif (x):\n  print(\"Yes, the string starts with 'hello'\")\nelse:\n  print(\"No match\")",
      "execution_count": 22,
      "outputs": [
        {
          "output_type": "stream",
          "text": "Yes, the string starts with 'hello'\n",
          "name": "stdout"
        }
      ]
    },
    {
      "metadata": {
        "ExecuteTime": {
          "start_time": "2019-10-13T11:14:56.377798Z",
          "end_time": "2019-10-13T11:14:56.406998Z"
        },
        "trusted": true
      },
      "cell_type": "code",
      "source": "import re\n\nstr = \"hello world\"\n\n#Check if the string ends with 'world':\n\nx = re.findall(\"world$\", str)\nif (x):\n  print(\"Yes, the string ends with 'world'\")\nelse:\n  print(\"No match\")\n",
      "execution_count": 23,
      "outputs": [
        {
          "output_type": "stream",
          "text": "Yes, the string ends with 'world'\n",
          "name": "stdout"
        }
      ]
    },
    {
      "metadata": {
        "ExecuteTime": {
          "start_time": "2019-10-13T11:15:06.274388Z",
          "end_time": "2019-10-13T11:15:06.310567Z"
        },
        "trusted": true
      },
      "cell_type": "code",
      "source": "import re\n\nstr = \"The rain in Spain falls mainly in the plain!\"\n\n#Check if the string contains \"ai\" followed by 1 or more \"x\" characters:\n\nx = re.findall(\"aix+\", str)\n\nprint(x)\n\nif (x):\n  print(\"Yes, there is at least one match!\")\nelse:\n  print(\"No match\")\n",
      "execution_count": 24,
      "outputs": [
        {
          "output_type": "stream",
          "text": "[]\nNo match\n",
          "name": "stdout"
        }
      ]
    },
    {
      "metadata": {
        "ExecuteTime": {
          "start_time": "2019-10-13T11:16:00.162123Z",
          "end_time": "2019-10-13T11:16:00.181521Z"
        },
        "trusted": true
      },
      "cell_type": "code",
      "source": "import re\n\nstr = \"The rain in Spain falls mainly in the plain!\"\n\n#Check if the string contains \"a\" followed by exactly two \"l\" characters:\n\nx = re.findall(\"al{2}\", str)\n\nprint(x)\n\nif (x):\n  print(\"Yes, there is at least one match!\")\nelse:\n  print(\"No match\")\n",
      "execution_count": 25,
      "outputs": [
        {
          "output_type": "stream",
          "text": "['all']\nYes, there is at least one match!\n",
          "name": "stdout"
        }
      ]
    },
    {
      "metadata": {
        "ExecuteTime": {
          "start_time": "2019-10-13T11:16:19.363084Z",
          "end_time": "2019-10-13T11:16:19.382533Z"
        },
        "trusted": true
      },
      "cell_type": "code",
      "source": "import re\n\nstr = \"The rain in Spain falls mainly in the plain!\"\n\n#Check if the string contains either \"falls\" or \"stays\":\n\nx = re.findall(\"falls|stays\", str)\n\nprint(x)\n\nif (x):\n  print(\"Yes, there is at least one match!\")\nelse:\n  print(\"No match\")\n",
      "execution_count": 26,
      "outputs": [
        {
          "output_type": "stream",
          "text": "['falls']\nYes, there is at least one match!\n",
          "name": "stdout"
        }
      ]
    },
    {
      "metadata": {},
      "cell_type": "markdown",
      "source": "### search()"
    },
    {
      "metadata": {},
      "cell_type": "markdown",
      "source": "The search() function searches the string for a match, and returns a Match object if there is a match.\n\nIf there is more than one match, only the first occurrence of the match will be returned:"
    },
    {
      "metadata": {
        "ExecuteTime": {
          "start_time": "2019-10-13T11:17:44.952986Z",
          "end_time": "2019-10-13T11:17:44.980475Z"
        },
        "trusted": true
      },
      "cell_type": "code",
      "source": "import re\n\nstr = \"The rain in Spain\"\nx = re.search(\"\\s\", str)\n\nprint(\"The first white-space character is located in position:\", x.start())",
      "execution_count": 27,
      "outputs": [
        {
          "output_type": "stream",
          "text": "The first white-space character is located in position: 3\n",
          "name": "stdout"
        }
      ]
    },
    {
      "metadata": {
        "ExecuteTime": {
          "start_time": "2019-10-13T11:18:41.344375Z",
          "end_time": "2019-10-13T11:18:41.406839Z"
        },
        "trusted": true
      },
      "cell_type": "code",
      "source": "x",
      "execution_count": 28,
      "outputs": [
        {
          "output_type": "execute_result",
          "execution_count": 28,
          "data": {
            "text/plain": "<_sre.SRE_Match object; span=(3, 4), match=' '>"
          },
          "metadata": {}
        }
      ]
    },
    {
      "metadata": {
        "ExecuteTime": {
          "start_time": "2019-10-13T11:19:13.951942Z",
          "end_time": "2019-10-13T11:19:13.978222Z"
        },
        "trusted": true
      },
      "cell_type": "code",
      "source": "import re\n\nstr = \"The rain in Spain\"\nx = re.search(\"Portugal\", str)\nprint(x)",
      "execution_count": 29,
      "outputs": [
        {
          "output_type": "stream",
          "text": "None\n",
          "name": "stdout"
        }
      ]
    },
    {
      "metadata": {},
      "cell_type": "markdown",
      "source": "### split()"
    },
    {
      "metadata": {
        "ExecuteTime": {
          "start_time": "2019-10-13T11:19:58.032078Z",
          "end_time": "2019-10-13T11:19:58.097855Z"
        }
      },
      "cell_type": "markdown",
      "source": "- 相当于做分词"
    },
    {
      "metadata": {
        "ExecuteTime": {
          "start_time": "2019-10-13T11:19:32.646945Z",
          "end_time": "2019-10-13T11:19:32.666463Z"
        },
        "trusted": true
      },
      "cell_type": "code",
      "source": "import re\n\nstr = \"The rain in Spain\"\nx = re.split(\"\\s\", str)\nprint(x)",
      "execution_count": 30,
      "outputs": [
        {
          "output_type": "stream",
          "text": "['The', 'rain', 'in', 'Spain']\n",
          "name": "stdout"
        }
      ]
    },
    {
      "metadata": {
        "ExecuteTime": {
          "start_time": "2019-10-13T11:20:18.893008Z",
          "end_time": "2019-10-13T11:20:18.918702Z"
        },
        "trusted": true
      },
      "cell_type": "code",
      "source": "import re\n\nstr = \"The rain in Spain\"\nx = re.split(\"\\s\", str, 1)\nprint(x)",
      "execution_count": 32,
      "outputs": [
        {
          "output_type": "stream",
          "text": "['The', 'rain in Spain']\n",
          "name": "stdout"
        }
      ]
    },
    {
      "metadata": {},
      "cell_type": "markdown",
      "source": "### sub()"
    },
    {
      "metadata": {},
      "cell_type": "markdown",
      "source": "- 替代字符串中的字符"
    },
    {
      "metadata": {
        "ExecuteTime": {
          "start_time": "2019-10-13T11:20:52.594016Z",
          "end_time": "2019-10-13T11:20:52.621748Z"
        },
        "trusted": true
      },
      "cell_type": "code",
      "source": "import re\n\nstr = \"The rain in Spain\"\nx = re.sub(\"\\s\", \"9\", str)\nprint(x)",
      "execution_count": 33,
      "outputs": [
        {
          "output_type": "stream",
          "text": "The9rain9in9Spain\n",
          "name": "stdout"
        }
      ]
    },
    {
      "metadata": {
        "ExecuteTime": {
          "start_time": "2019-10-13T11:22:07.855225Z",
          "end_time": "2019-10-13T11:22:07.876894Z"
        },
        "trusted": true
      },
      "cell_type": "code",
      "source": "import re\n\nstr = \"The rain in Spain\"\nx = re.sub(\"\\s\", \"9\", str, 2)\nprint(x)",
      "execution_count": 34,
      "outputs": [
        {
          "output_type": "stream",
          "text": "The9rain9in Spain\n",
          "name": "stdout"
        }
      ]
    },
    {
      "metadata": {
        "ExecuteTime": {
          "start_time": "2019-10-13T11:24:29.489362Z",
          "end_time": "2019-10-13T11:24:29.505309Z"
        },
        "trusted": true
      },
      "cell_type": "code",
      "source": "import re\n\nstr = \"The rain in Spain\"\nx = re.search(\"ai\", str)\nprint(x) #this will print an object",
      "execution_count": 35,
      "outputs": [
        {
          "output_type": "stream",
          "text": "<_sre.SRE_Match object; span=(5, 7), match='ai'>\n",
          "name": "stdout"
        }
      ]
    },
    {
      "metadata": {},
      "cell_type": "markdown",
      "source": "### search()"
    },
    {
      "metadata": {
        "ExecuteTime": {
          "start_time": "2019-10-13T11:29:17.920614Z",
          "end_time": "2019-10-13T11:29:17.941085Z"
        },
        "trusted": true
      },
      "cell_type": "code",
      "source": "import re\n \nstr = \"The rain in Spain dsfa 32\"\nx = re.search(r\"\\bS\\w+\", str)\nprint(x.span())",
      "execution_count": 41,
      "outputs": [
        {
          "output_type": "stream",
          "text": "(12, 17)\n",
          "name": "stdout"
        }
      ]
    },
    {
      "metadata": {
        "ExecuteTime": {
          "start_time": "2019-10-13T11:29:04.17456Z",
          "end_time": "2019-10-13T11:29:04.189376Z"
        },
        "trusted": true
      },
      "cell_type": "code",
      "source": "import re\n\nstr = \"The rain in Spain sdfd 32\"\nx = re.search(r\"\\bS\\w+\", str)\nprint(x.string)",
      "execution_count": 40,
      "outputs": [
        {
          "output_type": "stream",
          "text": "The rain in Spain sdfd 32\n",
          "name": "stdout"
        }
      ]
    },
    {
      "metadata": {
        "ExecuteTime": {
          "start_time": "2019-10-13T11:28:54.031656Z",
          "end_time": "2019-10-13T11:28:54.059993Z"
        },
        "trusted": true
      },
      "cell_type": "code",
      "source": "import re\n\nstr = \"The rain in Spain dsf\"\nx = re.search(r\"\\bS\\w+\", str)\nprint(x.group())",
      "execution_count": 39,
      "outputs": [
        {
          "output_type": "stream",
          "text": "Spain\n",
          "name": "stdout"
        }
      ]
    },
    {
      "metadata": {
        "trusted": true
      },
      "cell_type": "code",
      "source": "",
      "execution_count": null,
      "outputs": []
    }
  ],
  "metadata": {
    "kernelspec": {
      "name": "python36",
      "display_name": "Python 3.6",
      "language": "python"
    },
    "language_info": {
      "mimetype": "text/x-python",
      "nbconvert_exporter": "python",
      "name": "python",
      "pygments_lexer": "ipython3",
      "version": "3.6.6",
      "file_extension": ".py",
      "codemirror_mode": {
        "version": 3,
        "name": "ipython"
      }
    },
    "hide_input": false,
    "toc": {
      "nav_menu": {},
      "number_sections": true,
      "sideBar": true,
      "skip_h1_title": false,
      "base_numbering": 1,
      "title_cell": "Table of Contents",
      "title_sidebar": "Contents",
      "toc_cell": false,
      "toc_position": {
        "height": "calc(100% - 180px)",
        "width": "302px",
        "left": "10px",
        "top": "150px"
      },
      "toc_section_display": true,
      "toc_window_display": true
    },
    "varInspector": {
      "window_display": false,
      "cols": {
        "lenName": 16,
        "lenType": 16,
        "lenVar": 40
      },
      "kernels_config": {
        "python": {
          "library": "var_list.py",
          "delete_cmd_prefix": "del ",
          "delete_cmd_postfix": "",
          "varRefreshCmd": "print(var_dic_list())"
        },
        "r": {
          "library": "var_list.r",
          "delete_cmd_prefix": "rm(",
          "delete_cmd_postfix": ") ",
          "varRefreshCmd": "cat(var_dic_list()) "
        }
      },
      "types_to_exclude": [
        "module",
        "function",
        "builtin_function_or_method",
        "instance",
        "_Feature"
      ]
    }
  },
  "nbformat": 4,
  "nbformat_minor": 2
}