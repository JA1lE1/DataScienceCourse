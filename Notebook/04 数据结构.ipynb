{
  "cells": [
    {
      "metadata": {
        "collapsed": true
      },
      "cell_type": "markdown",
      "source": "# 简介"
    },
    {
      "metadata": {},
      "cell_type": "markdown",
      "source": "数据结构是程序中包含数据集合的“对象”。 简单的数据结构可能是一个“数组”，它包含向量的组件或名称列表。 更复杂的数据结构可能代表电话目录，持有[姓名，电话号码]这种键值对。\n现代语言（如Python）提供了一系列库（内置）数据结构。 这些经过充分测试和优化; 优良作法是使用库数据结构使程序更简单，更易于阅读和更高效。\n当然你也可以写自己的数据结构，在这个部分我们将介绍python内置(built-in)的数据结构"
    },
    {
      "metadata": {},
      "cell_type": "markdown",
      "source": "## 小目标"
    },
    {
      "metadata": {},
      "cell_type": "markdown",
      "source": "- 使用字符串，列表，元组，字典\n- 使用迭代方法访问内置数据结构所存储的数据\n- 学会为自己的应用选择合适的数据结构"
    },
    {
      "metadata": {},
      "cell_type": "markdown",
      "source": "# 数据结构"
    },
    {
      "metadata": {},
      "cell_type": "markdown",
      "source": "## 字符串"
    },
    {
      "metadata": {},
      "cell_type": "markdown",
      "source": "- 虽然我们在变量当中学习过字符串，但是接下来我们要学习很多以文本处理为基础的内容，因此我们再重新提及这种数据结构\n- 定义\n    - 字符串，是由零个或多个字符组成的有限序列"
    },
    {
      "metadata": {},
      "cell_type": "markdown",
      "source": "### 查询"
    },
    {
      "metadata": {},
      "cell_type": "markdown",
      "source": "#### 单个访问"
    },
    {
      "metadata": {
        "ExecuteTime": {
          "start_time": "2019-09-14T11:43:35.979717Z",
          "end_time": "2019-09-14T11:43:35.998721Z"
        },
        "trusted": true
      },
      "cell_type": "code",
      "source": "var1 = 'Hello World!'\nvar2 = \"Python Runoob\"\n \nprint(\"var1[0]: \", var1[0])",
      "execution_count": 1,
      "outputs": [
        {
          "output_type": "stream",
          "text": "var1[0]:  H\n",
          "name": "stdout"
        }
      ]
    },
    {
      "metadata": {},
      "cell_type": "markdown",
      "source": "#### 切片"
    },
    {
      "metadata": {},
      "cell_type": "markdown",
      "source": "- 如果你熟悉matlab的话，你会发现他们非常相似"
    },
    {
      "metadata": {
        "ExecuteTime": {
          "start_time": "2019-09-14T11:43:46.799173Z",
          "end_time": "2019-09-14T11:43:46.814886Z"
        },
        "trusted": true
      },
      "cell_type": "code",
      "source": "print(\"var2[1:5]: \", var2[1:5])",
      "execution_count": 2,
      "outputs": [
        {
          "output_type": "stream",
          "text": "var2[1:5]:  ytho\n",
          "name": "stdout"
        }
      ]
    },
    {
      "metadata": {},
      "cell_type": "markdown",
      "source": "### 连接"
    },
    {
      "metadata": {},
      "cell_type": "markdown",
      "source": "- 直接使用+号对两个字符串进行拼接"
    },
    {
      "metadata": {
        "ExecuteTime": {
          "start_time": "2019-09-14T11:45:19.132154Z",
          "end_time": "2019-09-14T11:45:19.146573Z"
        },
        "trusted": true
      },
      "cell_type": "code",
      "source": "var1 = 'Hello World!'\n \nprint(\"输出 :- \", var1[:6] + 'Runoob!') ",
      "execution_count": 3,
      "outputs": [
        {
          "output_type": "stream",
          "text": "输出 :-  Hello Runoob!\n",
          "name": "stdout"
        }
      ]
    },
    {
      "metadata": {},
      "cell_type": "markdown",
      "source": "### 转义字符"
    },
    {
      "metadata": {},
      "cell_type": "markdown",
      "source": "在需要在字符中使用特殊字符时，python 用反斜杠 \\ 转义字符。如下表："
    },
    {
      "metadata": {},
      "cell_type": "markdown",
      "source": "|转义字符|\t描述\n|---|---|\n|\\|(在行尾时)\t续行符\n|\\\\\t|反斜杠符号\n|\\'\t|单引号\n|\\\"\t|双引号\n|\\a\t|响铃\n|\\b\t|退格(Backspace)\n|\\e\t|转义\n|\\000|\t空\n|\\n\t|换行\n|\\v\t|纵向制表符\n|\\t\t|横向制表符\n|\\r\t|回车\n|\\f\t|换页\n|\\oyy\t|八进制数，yy代表的字符，例如：\\o12代表换行\n|\\xyy\t|十六进制数，yy代表的字符，例如：\\x0a代表换行\n|\\other|\t其它的字符以普通格式输出"
    },
    {
      "metadata": {
        "trusted": true
      },
      "cell_type": "code",
      "source": "",
      "execution_count": null,
      "outputs": []
    },
    {
      "metadata": {},
      "cell_type": "markdown",
      "source": "### 字符串的运算符操作"
    },
    {
      "metadata": {},
      "cell_type": "markdown",
      "source": "\n|操作符|\t描述|\t实例\n|---|---|---|\n|+\t|字符串连接\t|>>>a + b  'HelloPython'\n|*\t|重复输出字符串\t|>>>a * 2 'HelloHello'\n|[]|通过索引获取字符串中字符\t|>>>a[1] 'e'\n|[ : ]|截取字符串中的一部分\t|>>>a[1:4] 'ell'\n|in\t|成员运算符 - 如果字符串中包含给定的字符返回 True|>>>\"H\" in a  True\n|not in|成员运算符 - 如果字符串中不包含给定的字符返回 True\t|>>>\"M\" not in a True\n|r/R|原始字符串 - 原始字符串：所有的字符串都是直接按照字面的意思来使用，没有转义特殊或不能打印的字符。 原始字符串除在字符串的第一个引号前加上字母\"r\"（可以大小写）以外，与普通字符串有着几乎完全相同的语法。|>>>print r'\\n'>>> print R'\\n'"
    },
    {
      "metadata": {},
      "cell_type": "markdown",
      "source": "### 字符串格式化"
    },
    {
      "metadata": {},
      "cell_type": "markdown",
      "source": "- 与C语言的格式化输出拥有一样的语法结构"
    },
    {
      "metadata": {
        "ExecuteTime": {
          "start_time": "2019-09-14T11:57:52.101665Z",
          "end_time": "2019-09-14T11:57:52.134828Z"
        },
        "trusted": true
      },
      "cell_type": "code",
      "source": "print(\"My name is %s and weight is %d kg!\" % ('Zara', 21) )",
      "execution_count": 4,
      "outputs": [
        {
          "output_type": "stream",
          "text": "My name is Zara and weight is 21 kg!\n",
          "name": "stdout"
        }
      ]
    },
    {
      "metadata": {},
      "cell_type": "markdown",
      "source": "python 字符串格式化符号:"
    },
    {
      "metadata": {},
      "cell_type": "markdown",
      "source": "| 符   号|\t描述\n|---|---|\n |     %c|\t 格式化字符及其ASCII码\n |     %s|\t 格式化字符串\n |     %d|\t 格式化整数\n |     %u|\t 格式化无符号整型\n |     %o|\t 格式化无符号八进制数\n |     %x|\t 格式化无符号十六进制数\n |     %X|\t 格式化无符号十六进制数（大写）\n |     %f|\t 格式化浮点数字，可指定小数点后的精度\n |     %e|\t 用科学计数法格式化浮点数\n |     %E|\t 作用同%e，用科学计数法格式化浮点数\n |     %g|\t %f和%e的简写\n |     %G|\t %F 和 %E 的简写\n |     %p|\t 用十六进制数格式化变量的地址"
    },
    {
      "metadata": {
        "ExecuteTime": {
          "start_time": "2019-09-14T12:00:42.157191Z",
          "end_time": "2019-09-14T12:00:42.188763Z"
        }
      },
      "cell_type": "markdown",
      "source": "### 常用的字符串内置函数"
    },
    {
      "metadata": {},
      "cell_type": "markdown",
      "source": "string.decode() string.encode()"
    },
    {
      "metadata": {},
      "cell_type": "markdown",
      "source": "- 字符串的编码与解码\n- Python 里面的编码和解码也就是 unicode 和 str 这两种形式的相互转化。\n\n    -编码是 unicode -> str，相反的，解码就是 str -> unicode。\n\n    - str形式，也就是字符串形式都是以一定的编码格式存在的，常见的编码格式有utf-8、ASCII、gb2312等等。\n\n    - str1.decode(‘gb2312’)，表示将gb2312编码的字符串str1解码成unicode。\n\n    - str2.encode(‘utf-8’)，表示将unicode字符串str2转换成用utf-8格式编码的字符串。\n\n    - 不同编码格式的字符串之间相互转换编码格式的话，都要先解码成unicode，再编码成其他编码格式的字符串。就拿上面的str1来说，将str1转成utf-8编码的字符串，需要这么做：\n    str1.decode(‘gb2312’).encode(‘utf-8’)。\n- 在python文件中指定编码解码格式\n    - 在文件的开头使用# -*- coding: utf-8 -*- (utf-8将是我们最常用的编码格式)\n    - ```python\n    # -*- coding: utf-8 -*- \n    import numpy\n    print(\"编码格式\")\n    ```\n"
    },
    {
      "metadata": {
        "ExecuteTime": {
          "start_time": "2019-09-14T12:15:26.222947Z",
          "end_time": "2019-09-14T12:15:26.541801Z"
        },
        "trusted": true
      },
      "cell_type": "code",
      "source": "# -*- coding: utf-8 -*- \n\nimport sys \n\nstr = '中文' \nstr.encode('gb18030')",
      "execution_count": 8,
      "outputs": [
        {
          "output_type": "execute_result",
          "execution_count": 8,
          "data": {
            "text/plain": "b'\\xd6\\xd0\\xce\\xc4'"
          },
          "metadata": {}
        }
      ]
    },
    {
      "metadata": {},
      "cell_type": "markdown",
      "source": "string.join()"
    },
    {
      "metadata": {},
      "cell_type": "markdown",
      "source": "string.split()"
    },
    {
      "metadata": {},
      "cell_type": "markdown",
      "source": "string.strip([obj])"
    },
    {
      "metadata": {},
      "cell_type": "markdown",
      "source": "string.upper() 和 string.lower()"
    },
    {
      "metadata": {},
      "cell_type": "markdown",
      "source": "## 列表（List）"
    },
    {
      "metadata": {},
      "cell_type": "markdown",
      "source": "- 列表和我们以前所使用的编程语言中的array类似，但是它可以在单个数据结构中使用不同的数据类型"
    },
    {
      "metadata": {
        "ExecuteTime": {
          "start_time": "2019-09-14T12:36:48.235412Z",
          "end_time": "2019-09-14T12:36:48.26232Z"
        },
        "trusted": true
      },
      "cell_type": "code",
      "source": "a = [1,2,\"ss\",True]\nprint(a)",
      "execution_count": 22,
      "outputs": [
        {
          "output_type": "stream",
          "text": "[1, 2, 'ss', True]\n",
          "name": "stdout"
        }
      ]
    },
    {
      "metadata": {},
      "cell_type": "markdown",
      "source": "### 查询访问"
    },
    {
      "metadata": {
        "ExecuteTime": {
          "start_time": "2019-09-14T12:25:44.094767Z",
          "end_time": "2019-09-14T12:25:44.122685Z"
        },
        "trusted": true
      },
      "cell_type": "code",
      "source": "list1 = ['physics', 'chemistry', 1997, 2000]\nlist2 = [1, 2, 3, 4, 5, 6, 7 ]\n \nprint(\"list1[0]: \", list1[0]) \nprint(\"list2[1:5]: \", list2[1:5]) ",
      "execution_count": 10,
      "outputs": [
        {
          "output_type": "stream",
          "text": "list1[0]:  physics\nlist2[1:5]:  [2, 3, 4, 5]\n",
          "name": "stdout"
        }
      ]
    },
    {
      "metadata": {},
      "cell_type": "markdown",
      "source": "### 增加元素"
    },
    {
      "metadata": {
        "ExecuteTime": {
          "start_time": "2019-09-14T12:26:34.451032Z",
          "end_time": "2019-09-14T12:26:34.45696Z"
        },
        "trusted": true
      },
      "cell_type": "code",
      "source": "list = []          ## 空列表\nlist.append('Google')   ## 使用 append() 添加元素\nlist.append('Runoob')\nprint(list)",
      "execution_count": 11,
      "outputs": [
        {
          "output_type": "stream",
          "text": "['Google', 'Runoob']\n",
          "name": "stdout"
        }
      ]
    },
    {
      "metadata": {},
      "cell_type": "markdown",
      "source": "### 删除元素"
    },
    {
      "metadata": {
        "ExecuteTime": {
          "start_time": "2019-09-14T12:27:20.818052Z",
          "end_time": "2019-09-14T12:27:20.837169Z"
        },
        "trusted": true
      },
      "cell_type": "code",
      "source": "list1 = ['physics', 'chemistry', 1997, 2000]\n \nprint(list1)\ndel list1[2]\nprint(\"After deleting value at index 2 : \")\nprint(list1)",
      "execution_count": 12,
      "outputs": [
        {
          "output_type": "stream",
          "text": "['physics', 'chemistry', 1997, 2000]\nAfter deleting value at index 2 : \n['physics', 'chemistry', 2000]\n",
          "name": "stdout"
        }
      ]
    },
    {
      "metadata": {},
      "cell_type": "markdown",
      "source": "### 运算符操作"
    },
    {
      "metadata": {},
      "cell_type": "markdown",
      "source": "长度"
    },
    {
      "metadata": {
        "ExecuteTime": {
          "start_time": "2019-09-14T12:28:14.587157Z",
          "end_time": "2019-09-14T12:28:14.608241Z"
        },
        "trusted": true
      },
      "cell_type": "code",
      "source": "len([1, 2, 3])",
      "execution_count": 13,
      "outputs": [
        {
          "output_type": "execute_result",
          "execution_count": 13,
          "data": {
            "text/plain": "3"
          },
          "metadata": {}
        }
      ]
    },
    {
      "metadata": {},
      "cell_type": "markdown",
      "source": "组合"
    },
    {
      "metadata": {
        "ExecuteTime": {
          "start_time": "2019-09-14T12:28:24.528936Z",
          "end_time": "2019-09-14T12:28:24.543052Z"
        },
        "trusted": true
      },
      "cell_type": "code",
      "source": "[1, 2, 3] + [4, 5, 6]",
      "execution_count": 14,
      "outputs": [
        {
          "output_type": "execute_result",
          "execution_count": 14,
          "data": {
            "text/plain": "[1, 2, 3, 4, 5, 6]"
          },
          "metadata": {}
        }
      ]
    },
    {
      "metadata": {},
      "cell_type": "markdown",
      "source": "重复"
    },
    {
      "metadata": {
        "ExecuteTime": {
          "start_time": "2019-09-14T12:28:28.959955Z",
          "end_time": "2019-09-14T12:28:28.967449Z"
        },
        "trusted": true
      },
      "cell_type": "code",
      "source": "['Hi!'] * 4",
      "execution_count": 15,
      "outputs": [
        {
          "output_type": "execute_result",
          "execution_count": 15,
          "data": {
            "text/plain": "['Hi!', 'Hi!', 'Hi!', 'Hi!']"
          },
          "metadata": {}
        }
      ]
    },
    {
      "metadata": {},
      "cell_type": "markdown",
      "source": "元素是否存在列表中"
    },
    {
      "metadata": {
        "ExecuteTime": {
          "start_time": "2019-09-14T12:28:33.883506Z",
          "end_time": "2019-09-14T12:28:33.914595Z"
        },
        "trusted": true
      },
      "cell_type": "code",
      "source": "3 in [1, 2, 3]",
      "execution_count": 16,
      "outputs": [
        {
          "output_type": "execute_result",
          "execution_count": 16,
          "data": {
            "text/plain": "True"
          },
          "metadata": {}
        }
      ]
    },
    {
      "metadata": {},
      "cell_type": "markdown",
      "source": "迭代"
    },
    {
      "metadata": {
        "ExecuteTime": {
          "start_time": "2019-09-14T12:28:45.34097Z",
          "end_time": "2019-09-14T12:28:45.348961Z"
        },
        "trusted": true
      },
      "cell_type": "code",
      "source": "for x in [1, 2, 3]: print(x),",
      "execution_count": 18,
      "outputs": [
        {
          "output_type": "stream",
          "text": "1\n2\n3\n",
          "name": "stdout"
        }
      ]
    },
    {
      "metadata": {},
      "cell_type": "markdown",
      "source": "### 与java类似"
    },
    {
      "metadata": {
        "ExecuteTime": {
          "start_time": "2019-09-14T12:32:59.248129Z",
          "end_time": "2019-09-14T12:32:59.434687Z"
        }
      },
      "cell_type": "markdown",
      "source": "- 你会发现无论是字符串还是现在以及的列表以及接下来所涉及的元组和字典都有内置的各种函数，这些函数你只需记住几个最常用的，剩余的会查阅文档即可\n- jdk中的很多内置数据结构与此类似\n- 具体查阅推荐阅读"
    },
    {
      "metadata": {},
      "cell_type": "markdown",
      "source": "## 元组(tupple)"
    },
    {
      "metadata": {},
      "cell_type": "markdown",
      "source": "Python的元组与列表类似，不同之处在于元组的元素不能修改。\n\n元组使用小括号，列表使用方括号。\n\n元组创建很简单，只需要在括号中添加元素，并使用逗号隔开即可。"
    },
    {
      "metadata": {
        "ExecuteTime": {
          "start_time": "2019-09-14T12:37:48.818636Z",
          "end_time": "2019-09-14T12:37:48.838358Z"
        },
        "trusted": true
      },
      "cell_type": "code",
      "source": "tup1 = ('physics', 'chemistry', 1997, 2000)\ntup2 = (1, 2, 3, 4, 5 )\ntup3 = \"a\", \"b\", \"c\", \"d\"",
      "execution_count": 23,
      "outputs": []
    },
    {
      "metadata": {},
      "cell_type": "markdown",
      "source": "- 其余的数据结构操作与list相似，具体查阅推荐阅读部分"
    },
    {
      "metadata": {},
      "cell_type": "markdown",
      "source": "## 字典（Dictionary）"
    },
    {
      "metadata": {},
      "cell_type": "markdown",
      "source": "- 字典是一种键值队类型的数据结构"
    },
    {
      "metadata": {
        "ExecuteTime": {
          "start_time": "2019-09-14T12:41:24.8616Z",
          "end_time": "2019-09-14T12:41:24.887692Z"
        },
        "trusted": true
      },
      "cell_type": "code",
      "source": "dict = {'Name': 'Zara', 'Age': 7, 'Class': 'First'}\nprint(dict)",
      "execution_count": 27,
      "outputs": [
        {
          "output_type": "stream",
          "text": "{'Name': 'Zara', 'Age': 7, 'Class': 'First'}\n",
          "name": "stdout"
        }
      ]
    },
    {
      "metadata": {},
      "cell_type": "markdown",
      "source": "### 查询"
    },
    {
      "metadata": {
        "ExecuteTime": {
          "start_time": "2019-09-14T12:42:04.101501Z",
          "end_time": "2019-09-14T12:42:04.111309Z"
        },
        "trusted": true
      },
      "cell_type": "code",
      "source": "print(dict['Name'])",
      "execution_count": 28,
      "outputs": [
        {
          "output_type": "stream",
          "text": "Zara\n",
          "name": "stdout"
        }
      ]
    },
    {
      "metadata": {},
      "cell_type": "markdown",
      "source": "### 修改字典"
    },
    {
      "metadata": {
        "ExecuteTime": {
          "start_time": "2019-09-14T12:43:43.373287Z",
          "end_time": "2019-09-14T12:43:43.387974Z"
        },
        "trusted": true
      },
      "cell_type": "code",
      "source": "dict['Name'] = 'Sara'  # 更新\ndict['School'] = 'XMU' # 增加新的键值对\nprint(dict)",
      "execution_count": 30,
      "outputs": [
        {
          "output_type": "stream",
          "text": "{'Name': 'Sara', 'Age': 7, 'Class': 'First', 'School': 'XMU'}\n",
          "name": "stdout"
        }
      ]
    },
    {
      "metadata": {},
      "cell_type": "markdown",
      "source": "### 删除"
    },
    {
      "metadata": {
        "ExecuteTime": {
          "start_time": "2019-09-14T12:44:32.206061Z",
          "end_time": "2019-09-14T12:44:32.220717Z"
        },
        "trusted": true
      },
      "cell_type": "code",
      "source": "del dict['School']  # 删除键是'Name'的条目\nprint(dict)",
      "execution_count": 31,
      "outputs": [
        {
          "output_type": "stream",
          "text": "{'Name': 'Sara', 'Age': 7, 'Class': 'First'}\n",
          "name": "stdout"
        }
      ]
    },
    {
      "metadata": {
        "ExecuteTime": {
          "start_time": "2019-09-14T12:44:57.227636Z",
          "end_time": "2019-09-14T12:44:57.243322Z"
        },
        "trusted": true
      },
      "cell_type": "code",
      "source": "dict.clear() # 清空字典所有条目\nprint(dict)",
      "execution_count": 32,
      "outputs": [
        {
          "output_type": "stream",
          "text": "{}\n",
          "name": "stdout"
        }
      ]
    },
    {
      "metadata": {
        "ExecuteTime": {
          "start_time": "2019-09-14T12:45:08.864631Z",
          "end_time": "2019-09-14T12:45:08.871816Z"
        },
        "trusted": true
      },
      "cell_type": "code",
      "source": "del dict          # 删除字典\nprint(dict)",
      "execution_count": 33,
      "outputs": [
        {
          "output_type": "stream",
          "text": "<class 'dict'>\n",
          "name": "stdout"
        }
      ]
    },
    {
      "metadata": {},
      "cell_type": "markdown",
      "source": "### 字典特性"
    },
    {
      "metadata": {},
      "cell_type": "markdown",
      "source": "- 不允许同一个键出现两次\n- 键不可以修改，值可以修改"
    },
    {
      "metadata": {},
      "cell_type": "markdown",
      "source": "## 迭代器与生成器"
    },
    {
      "metadata": {},
      "cell_type": "markdown",
      "source": "在Python这门语言中，生成器毫无疑问是最有用的特性之一。与此同时，也是使用的最不广泛的Python特性之一。"
    },
    {
      "metadata": {},
      "cell_type": "markdown",
      "source": "### 迭代器协议"
    },
    {
      "metadata": {},
      "cell_type": "markdown",
      "source": "由于生成器自动实现了迭代器协议，而迭代器协议对很多人来说，也是一个较为抽象的概念。所以，为了更好的理解生成器，需要先理解一下迭代器协议的概念。"
    },
    {
      "metadata": {
        "ExecuteTime": {
          "start_time": "2019-10-13T03:39:58.777Z"
        }
      },
      "cell_type": "markdown",
      "source": "- **迭代器协议**\n    - 对象需要提供next方法，它要么返回迭代中的下一项，要么就引起一个StopIteration异常，以终止迭代 \n- **可迭代对象**\n    - 就是：实现了迭代器协议的对象 \n- **协议**\n    - 是一种约定，可迭代对象实现迭代器协议，Python的内置工具(如for循环，sum，min，max函数等)使用迭代器协议访问对象。"
    },
    {
      "metadata": {
        "ExecuteTime": {
          "start_time": "2019-10-13T03:40:25.144022Z",
          "end_time": "2019-10-13T03:40:25.158628Z"
        },
        "trusted": true
      },
      "cell_type": "code",
      "source": "for n in [1, 2, 3, 4]:\n    print(n)",
      "execution_count": 1,
      "outputs": [
        {
          "output_type": "stream",
          "text": "1\n2\n3\n4\n",
          "name": "stdout"
        }
      ]
    },
    {
      "metadata": {
        "trusted": true
      },
      "cell_type": "code",
      "source": "with open \n    print(n)",
      "execution_count": null,
      "outputs": []
    },
    {
      "metadata": {},
      "cell_type": "markdown",
      "source": "## 生成器"
    },
    {
      "metadata": {},
      "cell_type": "markdown",
      "source": "Python使用生成器对延迟操作提供了支持。所谓延迟操作，是指在需要的时候才产生结果，而不是立即产生结果。这也是生成器的主要好处。"
    },
    {
      "metadata": {
        "ExecuteTime": {
          "start_time": "2019-10-13T03:44:30.634095Z",
          "end_time": "2019-10-13T03:44:30.652372Z"
        }
      },
      "cell_type": "markdown",
      "source": "Python有两种不同的方式提供生成器：\n- **生成器函数**\n    - 常规函数定义，但是，使用yield语句而不是return语句返回结果。yield语句一次返回一个结果，在每个结果中间，挂起函数的状态，以便下次重它离开的地方继续执行\n- **生成器表达式**\n    - 类似于列表推导，但是，生成器返回按需产生结果的一个对象，而不是一次构建一个结果列表"
    },
    {
      "metadata": {},
      "cell_type": "markdown",
      "source": ""
    },
    {
      "metadata": {
        "trusted": true
      },
      "cell_type": "code",
      "source": "",
      "execution_count": null,
      "outputs": []
    },
    {
      "metadata": {
        "trusted": true
      },
      "cell_type": "code",
      "source": "",
      "execution_count": null,
      "outputs": []
    },
    {
      "metadata": {
        "trusted": true
      },
      "cell_type": "code",
      "source": "",
      "execution_count": null,
      "outputs": []
    },
    {
      "metadata": {},
      "cell_type": "markdown",
      "source": "# 选择合适的数据结构"
    },
    {
      "metadata": {
        "trusted": true
      },
      "cell_type": "code",
      "source": "",
      "execution_count": null,
      "outputs": []
    },
    {
      "metadata": {
        "trusted": true
      },
      "cell_type": "code",
      "source": "- ",
      "execution_count": null,
      "outputs": []
    }
  ],
  "metadata": {
    "kernelspec": {
      "name": "python36",
      "display_name": "Python 3.6",
      "language": "python"
    },
    "language_info": {
      "mimetype": "text/x-python",
      "nbconvert_exporter": "python",
      "name": "python",
      "pygments_lexer": "ipython3",
      "version": "3.6.6",
      "file_extension": ".py",
      "codemirror_mode": {
        "version": 3,
        "name": "ipython"
      }
    },
    "hide_input": false,
    "toc": {
      "nav_menu": {},
      "number_sections": true,
      "sideBar": true,
      "skip_h1_title": false,
      "base_numbering": 1,
      "title_cell": "Table of Contents",
      "title_sidebar": "Contents",
      "toc_cell": false,
      "toc_position": {
        "height": "calc(100% - 180px)",
        "width": "270px",
        "left": "10px",
        "top": "150px"
      },
      "toc_section_display": true,
      "toc_window_display": true
    },
    "varInspector": {
      "window_display": false,
      "cols": {
        "lenName": 16,
        "lenType": 16,
        "lenVar": 40
      },
      "kernels_config": {
        "python": {
          "library": "var_list.py",
          "delete_cmd_prefix": "del ",
          "delete_cmd_postfix": "",
          "varRefreshCmd": "print(var_dic_list())"
        },
        "r": {
          "library": "var_list.r",
          "delete_cmd_prefix": "rm(",
          "delete_cmd_postfix": ") ",
          "varRefreshCmd": "cat(var_dic_list()) "
        }
      },
      "types_to_exclude": [
        "module",
        "function",
        "builtin_function_or_method",
        "instance",
        "_Feature"
      ]
    }
  },
  "nbformat": 4,
  "nbformat_minor": 2
}