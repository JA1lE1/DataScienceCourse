{
  "cells": [
    {
      "metadata": {
        "ExecuteTime": {
          "start_time": "2019-09-14T05:52:12.328038Z",
          "end_time": "2019-09-14T05:52:12.348272Z"
        }
      },
      "cell_type": "markdown",
      "source": "# 前言"
    },
    {
      "metadata": {
        "ExecuteTime": {
          "start_time": "2019-09-14T05:53:55.025275Z",
          "end_time": "2019-09-14T05:53:55.16192Z"
        }
      },
      "cell_type": "markdown",
      "source": "- 这是数据科学与大数据技术的Python入门交互式教程"
    },
    {
      "metadata": {
        "collapsed": true
      },
      "cell_type": "markdown",
      "source": "# 目录"
    },
    {
      "metadata": {},
      "cell_type": "markdown",
      "source": "本教程包含  项教学内容.且这 项教学内容均可在jupyternotebook环境下自学完成,包括："
    },
    {
      "metadata": {},
      "cell_type": "markdown",
      "source": "- [00 本课程入门指引](./00 本课程入门指引.ipynb)\n- [01 Helloworld,基础语法与变量计算](./01 Helloworld,基础语法与变量计算.ipynb)\n\n- [02 逻辑控制状态](./02 逻辑控制状态.ipynb)\n\n- [03 函数or方法](./03 函数or方法.ipynb)\n\n- [04 数据结构](./04 数据结构.ipynb)\n\n- [05 字符串与正则表达式](./05 字符串与正则表达式.ipynb)\n\n- [06 文件和异常](./06 文件和异常.ipynb)\n\n- [07 进程与线程](./07 进程与线程.ipynb)\n\n- [08 网络编程入门](./08 网络编程入门.ipynb)\n\n- [09 云数据库入门](./09 云数据库入门.ipynb)\n"
    },
    {
      "metadata": {},
      "cell_type": "markdown",
      "source": "## 温馨提示"
    },
    {
      "metadata": {},
      "cell_type": "markdown",
      "source": "- 使用jupyternotebook环境学习前建议先行打开相关插件，具体操作内容详见[jupyter notebook 入门使用]()\n- 建议按顺序使用本教程，并且完成相关练习再进行下一步的学习\n- 在教学部分可以任意修改cell中的内容进行结果测试加强理解，这也是notebook环境带来的好处 :smile"
    },
    {
      "metadata": {},
      "cell_type": "markdown",
      "source": "# 小练习使用说明"
    },
    {
      "metadata": {
        "ExecuteTime": {
          "start_time": "2019-09-14T06:38:00.318Z"
        }
      },
      "cell_type": "markdown",
      "source": "- 所有的小练习均带有tips，并且要求在相关的位置键入代码以完成作业内容\n- 所有的练习测试均有相关的测试代码来检验你所完成的练习质量\n    - 例如\n        - exercise1：\n        - des：请完成\n- tips:不需要理解测试代码，因为它仅用来进行测试使用\n             "
    },
    {
      "metadata": {
        "ExecuteTime": {
          "start_time": "2019-09-14T06:42:23.731081Z",
          "end_time": "2019-09-14T06:42:23.751847Z"
        }
      },
      "cell_type": "markdown",
      "source": "# 困难解决方案"
    },
    {
      "metadata": {},
      "cell_type": "markdown",
      "source": "- baidu or google is the first choice\n- 将所遇到的问题发送到我的邮箱:812126839@qq.com\n- 微信群讨论"
    },
    {
      "metadata": {},
      "cell_type": "markdown",
      "source": "# Jupyter notebooks"
    },
    {
      "metadata": {
        "ExecuteTime": {
          "start_time": "2019-09-14T06:48:59.165902Z",
          "end_time": "2019-09-14T06:48:59.185594Z"
        }
      },
      "cell_type": "markdown",
      "source": "## 使用方式"
    },
    {
      "metadata": {},
      "cell_type": "markdown",
      "source": "- 本地使用\n- 云端使用\n- 鉴于jupyter notebook作为实验探索的工具，这里建议使用云端环境\n    - 云端环境可以减少用户使用配置\n    - 云端环境可以不在意本地的算力基础\n    - 云端环境可以帮助我们备份及分享所做实验的心得与步骤\n- 这里推荐使用[Microsoft Azure Notebook](https://notebooks.azure.com/#)"
    },
    {
      "metadata": {
        "ExecuteTime": {
          "start_time": "2019-09-14T06:53:06.970715Z",
          "end_time": "2019-09-14T06:53:06.987382Z"
        }
      },
      "cell_type": "markdown",
      "source": "## Microsoft Azure Notebook 使用"
    },
    {
      "metadata": {
        "ExecuteTime": {
          "start_time": "2019-09-14T07:11:10.055904Z",
          "end_time": "2019-09-14T07:11:10.084682Z"
        }
      },
      "cell_type": "markdown",
      "source": "### 使用介绍"
    },
    {
      "metadata": {
        "ExecuteTime": {
          "start_time": "2019-09-14T07:14:46.304831Z",
          "end_time": "2019-09-14T07:14:46.596245Z"
        }
      },
      "cell_type": "markdown",
      "source": "- 查阅课程 前置Jupyter Notebook 使用介绍"
    },
    {
      "metadata": {},
      "cell_type": "markdown",
      "source": "### 使用需求"
    },
    {
      "metadata": {
        "ExecuteTime": {
          "start_time": "2019-09-14T06:55:39.331022Z",
          "end_time": "2019-09-14T06:55:39.397576Z"
        }
      },
      "cell_type": "markdown",
      "source": "- 微软账号，没有的同学可以先行注册一下"
    },
    {
      "metadata": {},
      "cell_type": "markdown",
      "source": "### 关于本教程"
    },
    {
      "metadata": {
        "ExecuteTime": {
          "start_time": "2019-09-14T06:57:08.868862Z",
          "end_time": "2019-09-14T06:57:09.007778Z"
        }
      },
      "cell_type": "markdown",
      "source": "- 进入[JA1LE1的公开工程](https://notebooks.azure.com/JA1LE1)\n- 点击右上角的clone\n    - ![clone](./images/clone.png)"
    },
    {
      "metadata": {
        "ExecuteTime": {
          "start_time": "2019-09-14T07:06:17.460272Z",
          "end_time": "2019-09-14T07:06:17.785817Z"
        }
      },
      "cell_type": "markdown",
      "source": "- clone后点击网页做左上角登录自己的工程dashboard\n    - ![myproject](./images/myproject.png)"
    },
    {
      "metadata": {},
      "cell_type": "markdown",
      "source": "# 推荐阅读"
    },
    {
      "metadata": {},
      "cell_type": "markdown",
      "source": "- [jupyter notebook tutorial](https://www.dataquest.io/blog/jupyter-notebook-tutorial/) \n- [jupyter notebook 插件官方参考](https://jupyter-contrib-nbextensions.readthedocs.io/en/latest/nbextensions.html)"
    },
    {
      "metadata": {
        "trusted": true
      },
      "cell_type": "code",
      "source": "",
      "execution_count": null,
      "outputs": []
    }
  ],
  "metadata": {
    "kernelspec": {
      "name": "python36",
      "display_name": "Python 3.6",
      "language": "python"
    },
    "language_info": {
      "mimetype": "text/x-python",
      "nbconvert_exporter": "python",
      "name": "python",
      "pygments_lexer": "ipython3",
      "version": "3.6.6",
      "file_extension": ".py",
      "codemirror_mode": {
        "version": 3,
        "name": "ipython"
      }
    },
    "hide_input": false,
    "toc": {
      "nav_menu": {},
      "number_sections": true,
      "sideBar": true,
      "skip_h1_title": false,
      "base_numbering": 1,
      "title_cell": "Table of Contents",
      "title_sidebar": "Contents",
      "toc_cell": false,
      "toc_position": {},
      "toc_section_display": true,
      "toc_window_display": true
    },
    "varInspector": {
      "window_display": false,
      "cols": {
        "lenName": 16,
        "lenType": 16,
        "lenVar": 40
      },
      "kernels_config": {
        "python": {
          "library": "var_list.py",
          "delete_cmd_prefix": "del ",
          "delete_cmd_postfix": "",
          "varRefreshCmd": "print(var_dic_list())"
        },
        "r": {
          "library": "var_list.r",
          "delete_cmd_prefix": "rm(",
          "delete_cmd_postfix": ") ",
          "varRefreshCmd": "cat(var_dic_list()) "
        }
      },
      "types_to_exclude": [
        "module",
        "function",
        "builtin_function_or_method",
        "instance",
        "_Feature"
      ]
    }
  },
  "nbformat": 4,
  "nbformat_minor": 2
}