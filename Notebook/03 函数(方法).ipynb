{
  "cells": [
    {
      "metadata": {
        "collapsed": true
      },
      "cell_type": "markdown",
      "source": "# 简介"
    },
    {
      "metadata": {},
      "cell_type": "markdown",
      "source": "函数是计算中最重要的概念之一。 与数学函数类似，它们获取输入数据并返回输出。 函数非常适用于对不同输入数据执行特定操作并返回结果的重复任务。"
    },
    {
      "metadata": {},
      "cell_type": "markdown",
      "source": "## 小目标"
    },
    {
      "metadata": {},
      "cell_type": "markdown",
      "source": "- 函数的构造与使用\n- 函数返回参数\n- 默认参数\n- 递归"
    },
    {
      "metadata": {},
      "cell_type": "markdown",
      "source": "# 函数组件"
    },
    {
      "metadata": {
        "ExecuteTime": {
          "start_time": "2019-09-14T09:30:51.17811Z",
          "end_time": "2019-09-14T09:30:51.212353Z"
        },
        "trusted": true
      },
      "cell_type": "code",
      "source": "def sum_and_increment(a, b):\n    \"\"\"\"Return the sum of a and b, plus 1\"\"\"\n    return a + b + 1\n\n# Call the function\nm = sum_and_increment(3, 4)\nprint(m)  # Expect 8\n\n# Call the function\nm = 10\nn = sum_and_increment(m, m)\nprint(n)  # Expect 21",
      "execution_count": 1,
      "outputs": [
        {
          "output_type": "stream",
          "text": "8\n21\n",
          "name": "stdout"
        }
      ]
    },
    {
      "metadata": {},
      "cell_type": "markdown",
      "source": "- 函数声明使用`def`，然后是函数名` sum_and_increment`,然后是函数的输入参数`(a, b)`.声明部分以冒号`:`结尾\n  ```python\n  def sum_and_increment(a, b):\n  ```\n- 好的函数代码需要有基本的description，解释函数的返回值和参数类型及参数意义\n  ```python  \n  \"Return the sum of a and b, plus 1\"\n  ```\n- 函数主体\n    - 这个栗子为了简要，没有主体部分了\n- 返回值\n  ```python\n  return a + b + 1\n  ```"
    },
    {
      "metadata": {},
      "cell_type": "markdown",
      "source": "- 当然函数也可以不需要返回值"
    },
    {
      "metadata": {
        "ExecuteTime": {
          "start_time": "2019-09-14T09:38:40.23231Z",
          "end_time": "2019-09-14T09:38:40.251736Z"
        },
        "trusted": true
      },
      "cell_type": "code",
      "source": "def print_message():\n    print(\"The function 'print_message' has been called.\")\n\nprint_message()",
      "execution_count": 2,
      "outputs": [
        {
          "output_type": "stream",
          "text": "The function 'print_message' has been called.\n",
          "name": "stdout"
        }
      ]
    },
    {
      "metadata": {},
      "cell_type": "markdown",
      "source": "# why function？"
    },
    {
      "metadata": {},
      "cell_type": "markdown",
      "source": "- 减少代码重复量，增强代码的可阅读性\n- 工程协作性的基础\n    - 大型工程不需要每个人对每个细节都了如执掌，但是需要对其他组件的功能和输入输出有着必要的了解"
    },
    {
      "metadata": {
        "ExecuteTime": {
          "start_time": "2019-09-14T09:42:02.791211Z",
          "end_time": "2019-09-14T09:42:02.838797Z"
        },
        "trusted": true
      },
      "cell_type": "code",
      "source": "def process_value(x):\n    \"Return a value that depends on the input value x \"\n    if x > 10:\n        return 0\n    elif x > 5:\n        return x*x\n    elif x > 0:\n        return x**3\n    else:\n        return x\n\n    \nprint(\"Case A: 3 values\")    \nfor y in range(3):\n    print(process_value(y))\n\nprint(\"Case B: 12 values\")    \nfor y in range(12):\n    print(process_value(y))",
      "execution_count": 3,
      "outputs": [
        {
          "output_type": "stream",
          "text": "Case A: 3 values\n0\n1\n8\nCase B: 12 values\n0\n1\n8\n27\n64\n125\n36\n49\n64\n81\n100\n0\n",
          "name": "stdout"
        }
      ]
    },
    {
      "metadata": {},
      "cell_type": "markdown",
      "source": "Using a function, we did not have to duplicate the if-elif-else statement inside each loop we re-used it. With a function we only have to change the way in which we process the number x in one place."
    },
    {
      "metadata": {},
      "cell_type": "markdown",
      "source": "# 函数参数"
    },
    {
      "metadata": {},
      "cell_type": "markdown",
      "source": "# 函数返回值"
    },
    {
      "metadata": {},
      "cell_type": "markdown",
      "source": "# 函数变量作用域"
    },
    {
      "metadata": {},
      "cell_type": "markdown",
      "source": "# 库函数使用"
    },
    {
      "metadata": {
        "ExecuteTime": {
          "start_time": "2019-09-14T09:56:37.902982Z",
          "end_time": "2019-09-14T09:56:38.198828Z"
        }
      },
      "cell_type": "markdown",
      "source": "Python有极具丰富的开源库函数环境，正所谓\"人生苦短，我用python\"，我们在执行一项任务的时候，可以在某一个步骤执行标准的、经过良好测试的和优化的函数来执行常见的任务，而不是编写我们自己的任务，这也避免了很多重复造轮子的过程，而这也是实验科学效率的基本哲学"
    },
    {
      "metadata": {},
      "cell_type": "markdown",
      "source": "## 使用标准库函数"
    },
    {
      "metadata": {},
      "cell_type": "markdown",
      "source": "- 这里以标准库中的math为栗子"
    },
    {
      "metadata": {
        "ExecuteTime": {
          "start_time": "2019-09-14T10:08:49.545316Z",
          "end_time": "2019-09-14T10:08:49.564397Z"
        },
        "trusted": true
      },
      "cell_type": "code",
      "source": "import math\n\nx = 2.0\nx = math.sqrt(x)\nprint(x)",
      "execution_count": 5,
      "outputs": [
        {
          "output_type": "stream",
          "text": "1.4142135623730951\n",
          "name": "stdout"
        }
      ]
    },
    {
      "metadata": {},
      "cell_type": "markdown",
      "source": "- 你不需要去编写重复的代码去实现人类已经实现的功能\n- 我们现在所执行代码的目的是实验性的，是为了验证想法，因此不需要去重复造轮子\n- 实际的生产环境中，可能需要根据具体的业务去完成各个功能模块的时候可能就需要\"重复造轮子\"了！当然生产环境可能很多情况下就不适用python了！"
    },
    {
      "metadata": {},
      "cell_type": "markdown",
      "source": "## String functions and string formatting"
    },
    {
      "metadata": {},
      "cell_type": "markdown",
      "source": "- 我们已经知道使用print进行打印输出，那如何在打印输出中含有我们已经定义的变量呢？\n- 举个栗子"
    },
    {
      "metadata": {
        "ExecuteTime": {
          "start_time": "2019-09-14T10:15:06.051148Z",
          "end_time": "2019-09-14T10:15:06.078999Z"
        },
        "trusted": true
      },
      "cell_type": "code",
      "source": "# Format a string with name and age\nname = \"Amber\"\nage = 19\ntext_string = \"My name is {} and I am {} years old.\".format(name, age)\n\n# Print to screen \nprint(text_string)\n\n# Short-cut for printing without assignment\nname = \"Ashley\"\nage = 21\nprint(\"My name is {} and I am {} years old.\".format(name, age))",
      "execution_count": 6,
      "outputs": [
        {
          "output_type": "stream",
          "text": "My name is Amber and I am 19 years old.\nMy name is Ashley and I am 21 years old.\n",
          "name": "stdout"
        }
      ]
    },
    {
      "metadata": {},
      "cell_type": "markdown",
      "source": "- 我们还经常会遇到输出数字保留位数的情况"
    },
    {
      "metadata": {
        "ExecuteTime": {
          "start_time": "2019-09-14T11:15:50.610559Z",
          "end_time": "2019-09-14T11:15:50.649894Z"
        },
        "trusted": true
      },
      "cell_type": "code",
      "source": "# Import math module to get access to math.pi\nimport math\n\n# Default formatting\nprint(\"The value of π using the default formatting is: {}\".format(math.pi))\n\n# Control number of significant figures in formatting\nprint(\"The value of π to 5 significant figures is: {:.5}\".format(math.pi))\nprint(\"The value of π to 8 significant figures is: {:.8}\".format(math.pi))\nprint(\"The value of π to 20 significant figures and using scientific notation is: {:.20e}\".format(math.pi))",
      "execution_count": 8,
      "outputs": [
        {
          "output_type": "stream",
          "text": "The value of π using the default formatting is: 3.141592653589793\nThe value of π to 5 significant figures is: 3.1416\nThe value of π to 8 significant figures is: 3.1415927\nThe value of π to 20 significant figures and using scientific notation is: 3.14159265358979311600e+00\n",
          "name": "stdout"
        }
      ]
    },
    {
      "metadata": {},
      "cell_type": "markdown",
      "source": "## 第三方库"
    },
    {
      "metadata": {},
      "cell_type": "markdown",
      "source": "### pip包管理"
    },
    {
      "metadata": {},
      "cell_type": "markdown",
      "source": "- 一个简单的使用非标准库的方法使用pip命令管理非标准库\n- 终端环境使用pip\n- jupyter notebook 环境使用 !pip"
    },
    {
      "metadata": {
        "ExecuteTime": {
          "start_time": "2019-09-14T11:13:37.605124Z",
          "end_time": "2019-09-14T11:14:13.781965Z"
        },
        "trusted": true
      },
      "cell_type": "code",
      "source": "!pip install numpy",
      "execution_count": 7,
      "outputs": [
        {
          "output_type": "stream",
          "text": "Requirement already satisfied: numpy in /home/nbuser/anaconda3_501/lib/python3.6/site-packages (1.16.2)\n\u001b[33mWARNING: You are using pip version 19.2.2, however version 19.2.3 is available.\nYou should consider upgrading via the 'pip install --upgrade pip' command.\u001b[0m\n",
          "name": "stdout"
        }
      ]
    },
    {
      "metadata": {},
      "cell_type": "markdown",
      "source": "### numpy 使用"
    },
    {
      "metadata": {
        "trusted": true
      },
      "cell_type": "code",
      "source": "",
      "execution_count": null,
      "outputs": []
    }
  ],
  "metadata": {
    "kernelspec": {
      "name": "python36",
      "display_name": "Python 3.6",
      "language": "python"
    },
    "language_info": {
      "mimetype": "text/x-python",
      "nbconvert_exporter": "python",
      "name": "python",
      "pygments_lexer": "ipython3",
      "version": "3.6.6",
      "file_extension": ".py",
      "codemirror_mode": {
        "version": 3,
        "name": "ipython"
      }
    },
    "hide_input": false,
    "toc": {
      "nav_menu": {},
      "number_sections": true,
      "sideBar": true,
      "skip_h1_title": false,
      "base_numbering": 1,
      "title_cell": "Table of Contents",
      "title_sidebar": "Contents",
      "toc_cell": false,
      "toc_position": {
        "height": "calc(100% - 180px)",
        "width": "165px",
        "left": "10px",
        "top": "150px"
      },
      "toc_section_display": true,
      "toc_window_display": true
    },
    "varInspector": {
      "window_display": false,
      "cols": {
        "lenName": 16,
        "lenType": 16,
        "lenVar": 40
      },
      "kernels_config": {
        "python": {
          "library": "var_list.py",
          "delete_cmd_prefix": "del ",
          "delete_cmd_postfix": "",
          "varRefreshCmd": "print(var_dic_list())"
        },
        "r": {
          "library": "var_list.r",
          "delete_cmd_prefix": "rm(",
          "delete_cmd_postfix": ") ",
          "varRefreshCmd": "cat(var_dic_list()) "
        }
      },
      "types_to_exclude": [
        "module",
        "function",
        "builtin_function_or_method",
        "instance",
        "_Feature"
      ]
    }
  },
  "nbformat": 4,
  "nbformat_minor": 2
}